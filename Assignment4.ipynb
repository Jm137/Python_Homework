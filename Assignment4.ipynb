{
 "cells": [
  {
   "cell_type": "markdown",
   "metadata": {},
   "source": [
    "#문제 1번"
   ]
  },
  {
   "cell_type": "code",
   "execution_count": 65,
   "metadata": {
    "collapsed": false
   },
   "outputs": [
    {
     "name": "stdout",
     "output_type": "stream",
     "text": [
      "s.txt의 내용\n",
      "pig ham\n",
      "cat dog\n",
      "ham bird\n",
      "dog pig\n"
     ]
    }
   ],
   "source": [
    "f = open('s.txt', 'r')\n",
    "print 's.txt의 내용'\n",
    "for line in f:\n",
    "    print line,\n",
    "f.close()"
   ]
  },
  {
   "cell_type": "markdown",
   "metadata": {},
   "source": [
    "##1)"
   ]
  },
  {
   "cell_type": "code",
   "execution_count": 64,
   "metadata": {
    "collapsed": false,
    "scrolled": false
   },
   "outputs": [
    {
     "name": "stdout",
     "output_type": "stream",
     "text": [
      "s1.txt의 내용\n",
      "cat dog\n",
      "dog pig\n",
      "ham bird\n",
      "pig ham\n"
     ]
    }
   ],
   "source": [
    "f = open('s.txt', 'r')\n",
    "s = f.read()\n",
    "\n",
    "    \n",
    "sToSplit = s.split('\\n') #라인단위로 나눠서 리스트 생성\n",
    "sToSplit.sort()\n",
    "f.close()\n",
    "\n",
    "f = open('s1.txt', 'w')\n",
    "f.write('\\n'.join(sToSplit)) #line 내의 문자열들을 라인 단위로 파일에 저장\n",
    "f.close()\n",
    "\n",
    "f = open('s1.txt', 'r')\n",
    "line = ''\n",
    "print 's1.txt의 내용'\n",
    "for line in f:\n",
    "    print line,\n",
    "f.close()"
   ]
  },
  {
   "cell_type": "markdown",
   "metadata": {},
   "source": [
    "##2)"
   ]
  },
  {
   "cell_type": "code",
   "execution_count": 51,
   "metadata": {
    "collapsed": false,
    "scrolled": true
   },
   "outputs": [
    {
     "name": "stdout",
     "output_type": "stream",
     "text": [
      "s2.txt의 내용\n",
      "ham bird\n",
      "cat dog\n",
      "pig ham\n",
      "dog pig\n"
     ]
    }
   ],
   "source": [
    "f = open('s.txt', 'r')\n",
    "s = f.read()\n",
    "\n",
    "sToSplit = s.split() #라인단위로 나눠서 리스트 생성\n",
    "key = sToSplit[::2]\n",
    "value = sToSplit[1::2]\n",
    "f.close()\n",
    "\n",
    "d = {}\n",
    "for i in range(len(key)):\n",
    "    d.update({value[i] : key[i]}) \n",
    "value.sort()\n",
    "\n",
    "l = []\n",
    "for i in range(len(key)):\n",
    "    l.append(d[value[i]] + \" \" + value[i])\n",
    "\n",
    "f = open('s2.txt', 'w')\n",
    "f.write('\\n'.join(l))\n",
    "f.close()\n",
    "\n",
    "f = open('s2.txt', 'r')\n",
    "print 's2.txt의 내용'\n",
    "for line in f:\n",
    "    print line,\n",
    "f.close()"
   ]
  },
  {
   "cell_type": "markdown",
   "metadata": {},
   "source": [
    "##3)"
   ]
  },
  {
   "cell_type": "code",
   "execution_count": 73,
   "metadata": {
    "collapsed": false
   },
   "outputs": [
    {
     "name": "stdout",
     "output_type": "stream",
     "text": [
      "s3.txt의 내용\n",
      "pig ham cat \n",
      "dog ham bird \n",
      "dog pig \n"
     ]
    }
   ],
   "source": [
    "f = open('s.txt', 'r')\n",
    "s = f.read()\n",
    "\n",
    "sToSplit = s.split() #라인단위로 나눠서 리스트 생성\n",
    "f.close()\n",
    "\n",
    "f = open('s3.txt','w')\n",
    "for i in range(len(sToSplit)):\n",
    "    if (i % 3 == 0) and (i != 0):  #0 % 3은 true가 나온다\n",
    "        f.write('\\n')\n",
    "    f.write(sToSplit[i]+ \" \")\n",
    "f.close()\n",
    "\n",
    "f = open('s3.txt', 'r')\n",
    "print 's3.txt의 내용'\n",
    "for line in f:\n",
    "    print line,\n",
    "f.close()"
   ]
  },
  {
   "cell_type": "markdown",
   "metadata": {},
   "source": [
    "#문제 2번"
   ]
  },
  {
   "cell_type": "code",
   "execution_count": 4,
   "metadata": {
    "collapsed": false
   },
   "outputs": [
    {
     "name": "stdout",
     "output_type": "stream",
     "text": [
      "Welcome to Our Service\n",
      "\n",
      "1. Sign Up\n",
      "2. Sign In\n",
      "3. Quit\n",
      "select : 2\n",
      "ID : eve\n",
      "Password : eve1\n",
      "Hello [eve]\n",
      "Welcome to Our Service\n",
      "\n",
      "1. Sign Up\n",
      "2. Sign In\n",
      "3. Quit\n",
      "select : 2\n",
      "ID : adam\n",
      "Password : eve1\n",
      "Sorry, the entered password is not correct.\n",
      "Password : apple\n",
      "Hello [adam]\n",
      "Welcome to Our Service\n",
      "\n",
      "1. Sign Up\n",
      "2. Sign In\n",
      "3. Quit\n",
      "select : 3\n",
      "Quit Program \n"
     ]
    }
   ],
   "source": [
    "import sha\n",
    "\n",
    "def display():\n",
    "    print \"Welcome to Our Service\"\n",
    "    print\n",
    "    print \"1. Sign Up\"\n",
    "    print \"2. Sign In\"\n",
    "    print \"3. Quit\"\n",
    "\n",
    "def sighUp():\n",
    "    check = True\n",
    "    while(check):\n",
    "        ID = raw_input(\"ID : \")\n",
    "        check = checkID(ID)\n",
    "        if check:\n",
    "            print \"Sorry, the entered ID is already used.\"\n",
    "            check = True\n",
    "            \n",
    "    pw = raw_input(\"Password : \")\n",
    "    encryption = sha.new(pw).hexdigest()\n",
    "    \n",
    "    name = str(raw_input(\"Name : \"))\n",
    "    school = str(raw_input(\"School : \"))\n",
    "    \n",
    "    f = open(\"access.txt\", \"a+\")\n",
    "    f.write(ID + \":\" + encryption + \", \" + name + \", \"  + school + \"\\n\")\n",
    "    f.close()\n",
    "        \n",
    "def sighIn():\n",
    "    f = open(\"access.txt\", 'r')\n",
    "    while True:\n",
    "        ID = raw_input(\"ID : \")\n",
    "        if checkID(ID) == False:\n",
    "            print \"Sorry, you are not a registered member.\"\n",
    "            continue\n",
    "        break\n",
    "    while True:  \n",
    "        pw = raw_input(\"Password : \")\n",
    "        encryption = sha.new(pw).hexdigest()\n",
    "\n",
    "        if checkPW(ID, encryption) :\n",
    "            print \"Hello\",\n",
    "            for line in f:\n",
    "                s = line.split(\":\")\n",
    "                if(s[0] == ID): #문자열이 ID로 시작하는지 검사\n",
    "                    name = line.split(', ')\n",
    "                    name = name[1].strip()\n",
    "                    print \"[\"+ name + \"]\"\n",
    "            break\n",
    "        else:\n",
    "            print \"Sorry, the entered password is not correct.\"\n",
    "       \n",
    "\n",
    "        \n",
    "def checkID(ID):\n",
    "    f = open(\"access.txt\", 'r')\n",
    "    check = False\n",
    "    for i in f:\n",
    "        line = i.split(\":\")\n",
    "        if ID == line[0]:\n",
    "            check = True\n",
    "            break\n",
    "    f.close()\n",
    "    return check\n",
    "            \n",
    "\n",
    "def checkPW(ID, pw):\n",
    "    f = open(\"access.txt\", 'r')\n",
    "    check = False\n",
    "    password = []\n",
    "    for line in f:\n",
    "        s = line.split(\":\") #입력된 정보에서 id가져오기\n",
    "        p = s[0]\n",
    "        if(p == ID):\n",
    "            password = s[1] #id를 제외한 나머지 정보 \n",
    "            break\n",
    "    password = password.split(', ')\n",
    "    if password[0] == pw :\n",
    "        check = True\n",
    "    else :\n",
    "        check = False\n",
    "    f.close()\n",
    "    return check\n",
    "    \n",
    "    \n",
    "def main():\n",
    "    while(True):\n",
    "        display()\n",
    "        choice = raw_input(\"select : \") #문자열로 입력받기\n",
    "        \n",
    "        if choice == '1':\n",
    "            sighUp()\n",
    "        elif choice == '2':\n",
    "            sighIn()\n",
    "        elif choice == '3':\n",
    "            print \"Quit Program \"\n",
    "            break;\n",
    "        else:\n",
    "            print \"Invalid Input\"\n",
    "            print \"Please try again\"\n",
    "        \n",
    "main()"
   ]
  },
  {
   "cell_type": "markdown",
   "metadata": {},
   "source": [
    "#문제 3번"
   ]
  },
  {
   "cell_type": "code",
   "execution_count": 78,
   "metadata": {
    "collapsed": false
   },
   "outputs": [
    {
     "name": "stdout",
     "output_type": "stream",
     "text": [
      "frange(0.5)\n",
      "[0.0, 0.1, 0.2, 0.3, 0.4]\n",
      "frange(1.0,2.0)\n",
      "[1.0, 1.1, 1.2, 1.3, 1.4, 1.5, 1.6, 1.7, 1.8, 1.9]\n",
      "frange(2.2,4.0,0.5)\n",
      "[2.2, 2.7, 3.2, 3.7]\n"
     ]
    }
   ],
   "source": [
    "def frange(start, stop = None, step = None):\n",
    "       \n",
    "    if stop == None:\n",
    "        stop = start + 0.0\n",
    "        start = 0.0\n",
    "    if step == None:\n",
    "        step = 0.1\n",
    "\n",
    "    if start < 0 or step < 0 or step < 0 :\n",
    "        return \"조건에 맞지 않습니다\"\n",
    "\n",
    "        \n",
    "    l = []\n",
    "    while True:\n",
    "        next_result = start + len(l) * step\n",
    "        if next_result >= stop:\n",
    "            break\n",
    "        l.append(round(next_result, 1))  #round 함수로 소수점 첫번째 자리까지만\n",
    "    return l\n",
    "\n",
    "def main():\n",
    "    print \"frange(0.5)\"\n",
    "    print frange(0.5)\n",
    "    print \"frange(1.0,2.0)\"\n",
    "    print frange(1.0,2.0)\n",
    "    print \"frange(2.2,4.0,0.5)\"\n",
    "    print frange(2.2,4.0,0.5)\n",
    "                 \n",
    "main()"
   ]
  },
  {
   "cell_type": "markdown",
   "metadata": {},
   "source": [
    "#문제 4번"
   ]
  },
  {
   "cell_type": "code",
   "execution_count": 88,
   "metadata": {
    "collapsed": false
   },
   "outputs": [
    {
     "name": "stdout",
     "output_type": "stream",
     "text": [
      "sum()\n",
      "0\n",
      "sum(1,2)\n",
      "3\n",
      "sum(1,2,3,4,5)\n",
      "15\n",
      "sum(1,5,7,2,-10)\n",
      "5\n"
     ]
    }
   ],
   "source": [
    "def sum(num = 0, *Rest_num):\n",
    "    result = num\n",
    "    for num in Rest_num:\n",
    "        result += num\n",
    "    return result\n",
    "\n",
    "def main():\n",
    "    print 'sum()'\n",
    "    print sum()\n",
    "    print 'sum(1,2)'\n",
    "    print sum(1,2)\n",
    "    print 'sum(1,2,3,4,5)'\n",
    "    print sum(1,2,3,4,5)\n",
    "    print 'sum(1,5,7,2,-10)'\n",
    "    print sum(1,5,7,2,-10)\n",
    "\n",
    "main()"
   ]
  },
  {
   "cell_type": "markdown",
   "metadata": {},
   "source": [
    "#문제 5번"
   ]
  },
  {
   "cell_type": "code",
   "execution_count": 93,
   "metadata": {
    "collapsed": false
   },
   "outputs": [
    {
     "name": "stdout",
     "output_type": "stream",
     "text": [
      "Enter : as soon as possible\n",
      "ASAP\n"
     ]
    }
   ],
   "source": [
    "def myinitial(str):\n",
    "    temp = str.split() #문자열을 공백을 기준으로 나눔\n",
    "    str = map(lambda x : x[0], temp)\n",
    "    result = ''.join(str)\n",
    "    return result.upper()\n",
    "\n",
    "def main():\n",
    "    result = raw_input(\"Enter : \")\n",
    "    print myinitial(result)\n",
    "    \n",
    "main()"
   ]
  },
  {
   "cell_type": "markdown",
   "metadata": {},
   "source": [
    "#문제 6번"
   ]
  },
  {
   "cell_type": "code",
   "execution_count": 100,
   "metadata": {
    "collapsed": false
   },
   "outputs": [
    {
     "name": "stdout",
     "output_type": "stream",
     "text": [
      "1\n",
      "1\n",
      "3628800\n"
     ]
    }
   ],
   "source": [
    "def myfact(num):\n",
    "    if num < 0:\n",
    "        return \"음수가 아닌 정수를 입력해주세요\"\n",
    "    else:\n",
    "        if num == 0:\n",
    "            return 1\n",
    "        else :\n",
    "            return num * myfact(num-1)\n",
    "\n",
    "def main():\n",
    "    print myfact(0)\n",
    "    print myfact(1)\n",
    "    print myfact(10)\n",
    "\n",
    "main()\n",
    "            "
   ]
  },
  {
   "cell_type": "markdown",
   "metadata": {},
   "source": [
    "#문제 7번"
   ]
  },
  {
   "cell_type": "markdown",
   "metadata": {},
   "source": [
    "import string은 내가 작업하는 공간에 string이라는 모듈을 사용한다는 뜻이다.\n",
    "이는 string 이라는 모듈에 있는 함수 및 변수들을 현재 작업하는 공간(현재 이름공간)에서 사용할 수 있다는 뜻이다.\n",
    "\n",
    "from string import * 은 string 모듈에 존재하는 '__'으로 시작되는 이름들을 제외한 모든 이름들을 현재 이름공간으로 불러들인다는 뜻이다.\n",
    "\n",
    "두 방식의 차이점은 크게 사용법이 다르다는 것과 사용할 수 있는 함수가 다르다는 것으로 볼 수 있다.\n",
    "\n",
    "import string 을 선언했을 시 string.capitalize('python') 이라는 방식으로 호출을 해야하지만 from string import* 은 capitalize('python)으로 호출을 할 수 있다. 모듈명을 사용하지 않고 바로 참조하여 사용할 수 있다는 것이다.\n",
    "\n",
    "사용할 수 있는 함수가 다른것은 위에서 서술한 내용과 동일하게 from string import*는 '__'으로 시작되는 이름들을 호출할 수가 없다."
   ]
  },
  {
   "cell_type": "code",
   "execution_count": 121,
   "metadata": {
    "collapsed": false
   },
   "outputs": [
    {
     "name": "stdout",
     "output_type": "stream",
     "text": [
      "Python\n"
     ]
    },
    {
     "data": {
      "text/plain": [
       "module"
      ]
     },
     "execution_count": 121,
     "metadata": {},
     "output_type": "execute_result"
    }
   ],
   "source": [
    "import string\n",
    "print string.capitalize(\"python\")\n",
    "string.__class__"
   ]
  },
  {
   "cell_type": "code",
   "execution_count": 122,
   "metadata": {
    "collapsed": false
   },
   "outputs": [
    {
     "name": "stdout",
     "output_type": "stream",
     "text": [
      "Python\n"
     ]
    },
    {
     "ename": "NameError",
     "evalue": "name '__class__' is not defined",
     "output_type": "error",
     "traceback": [
      "\u001b[1;31m---------------------------------------------------------------------------\u001b[0m",
      "\u001b[1;31mNameError\u001b[0m                                 Traceback (most recent call last)",
      "\u001b[1;32m<ipython-input-122-117717d2e7ce>\u001b[0m in \u001b[0;36m<module>\u001b[1;34m()\u001b[0m\n\u001b[0;32m      1\u001b[0m \u001b[1;32mfrom\u001b[0m \u001b[0mstring\u001b[0m \u001b[1;32mimport\u001b[0m \u001b[1;33m*\u001b[0m\u001b[1;33m\u001b[0m\u001b[0m\n\u001b[0;32m      2\u001b[0m \u001b[1;32mprint\u001b[0m \u001b[0mcapitalize\u001b[0m\u001b[1;33m(\u001b[0m\u001b[1;34m\"python\"\u001b[0m\u001b[1;33m)\u001b[0m\u001b[1;33m\u001b[0m\u001b[0m\n\u001b[1;32m----> 3\u001b[1;33m \u001b[0m__class__\u001b[0m\u001b[1;33m\u001b[0m\u001b[0m\n\u001b[0m",
      "\u001b[1;31mNameError\u001b[0m: name '__class__' is not defined"
     ]
    }
   ],
   "source": [
    "from string import *\n",
    "print capitalize(\"python\")\n",
    "__class__"
   ]
  },
  {
   "cell_type": "markdown",
   "metadata": {},
   "source": [
    "##문제 8번 - 프로젝트 오일러 10"
   ]
  },
  {
   "cell_type": "code",
   "execution_count": 1,
   "metadata": {
    "collapsed": false
   },
   "outputs": [
    {
     "name": "stdout",
     "output_type": "stream",
     "text": [
      "21171191\n"
     ]
    }
   ],
   "source": [
    "def get_prime(prime):\n",
    "    for i in range(2,prime):\n",
    "        if prime % i == 0:\n",
    "            return False\n",
    "    return True\n",
    "\n",
    "def main():\n",
    "    prime, result = 2, 0\n",
    "\n",
    "    while prime < 20000:\n",
    "        if get_prime(prime):\n",
    "            result += prime\n",
    "        prime += 1\n",
    "    print result\n",
    "    \n",
    "main()"
   ]
  },
  {
   "cell_type": "markdown",
   "metadata": {},
   "source": [
    "#문제 9번 - 프로젝트 오일러 11"
   ]
  },
  {
   "cell_type": "code",
   "execution_count": 3,
   "metadata": {
    "collapsed": false
   },
   "outputs": [
    {
     "name": "stdout",
     "output_type": "stream",
     "text": [
      "70600674\n"
     ]
    }
   ],
   "source": [
    "l = \"\"\"08 02 22 97 38 15 00 40 00 75 04 05 07 78 52 12 50 77 91 08\n",
    "49 49 99 40 17 81 18 57 60 87 17 40 98 43 69 48 04 56 62 00\n",
    "81 49 31 73 55 79 14 29 93 71 40 67 53 88 30 03 49 13 36 65\n",
    "52 70 95 23 04 60 11 42 69 24 68 56 01 32 56 71 37 02 36 91\n",
    "22 31 16 71 51 67 63 89 41 92 36 54 22 40 40 28 66 33 13 80\n",
    "24 47 32 60 99 03 45 02 44 75 33 53 78 36 84 20 35 17 12 50\n",
    "32 98 81 28 64 23 67 10 26 38 40 67 59 54 70 66 18 38 64 70\n",
    "67 26 20 68 02 62 12 20 95 63 94 39 63 08 40 91 66 49 94 21\n",
    "24 55 58 05 66 73 99 26 97 17 78 78 96 83 14 88 34 89 63 72\n",
    "21 36 23 09 75 00 76 44 20 45 35 14 00 61 33 97 34 31 33 95\n",
    "78 17 53 28 22 75 31 67 15 94 03 80 04 62 16 14 09 53 56 92\n",
    "16 39 05 42 96 35 31 47 55 58 88 24 00 17 54 24 36 29 85 57\n",
    "86 56 00 48 35 71 89 07 05 44 44 37 44 60 21 58 51 54 17 58\n",
    "19 80 81 68 05 94 47 69 28 73 92 13 86 52 17 77 04 89 55 40\n",
    "04 52 08 83 97 35 99 16 07 97 57 32 16 26 26 79 33 27 98 66\n",
    "88 36 68 87 57 62 20 72 03 46 33 67 46 55 12 32 63 93 53 69\n",
    "04 42 16 73 38 25 39 11 24 94 72 18 08 46 29 32 40 62 76 36\n",
    "20 69 36 41 72 30 23 88 34 62 99 69 82 67 59 85 74 04 36 16\n",
    "20 73 35 29 78 31 90 01 74 31 49 71 48 86 81 16 23 57 05 54\n",
    "01 70 54 71 83 51 54 69 16 92 33 48 61 43 52 01 89 19 67 48\"\"\"\n",
    "\n",
    "#문자열로 가져온것을 숫자로 변환\n",
    "num = l.split('\\n')\n",
    "trans= []\n",
    "for i in range(len(num)):\n",
    "    trans.append(num[i].split(' '))\n",
    "temp = []\n",
    "for i in range(len(trans)):\n",
    "    for j in range(len(trans[i])):\n",
    "        temp = trans[i][j]\n",
    "        trans[i][j] = int(temp)\n",
    "        \n",
    "result = []\n",
    "mul = 0\n",
    "#수평 수직 값 구하기\n",
    "for i in range(len(trans)):\n",
    "    for j in range(len(trans[i])-3):\n",
    "        #수평값 구해서 리스트에 추가\n",
    "        mul = trans[i][j] * trans[i][j+1] * trans[i][j+2] * trans[i][j+3]\n",
    "        result.append(mul)\n",
    "        #수직값 구해서 리스트에 추가\n",
    "        mul = trans[j][i] * trans[j+1][i] * trans[j+2][i] * trans[j+3][i]\n",
    "        result.append(mul)\n",
    "# 왼쪽에서 오른쪽으로 대각선 구하기\n",
    "for i in range(len(trans)-3):\n",
    "    for j in range(len(trans[i])-3):\n",
    "        mul = trans[i][j] * trans[i+1][j+1] * trans[i+2][j+2] * trans[i+3][j+3]\n",
    "        result.append(mul)\n",
    "# / 방향 대각선 구하기\n",
    "for i in range(3,len(trans)):\n",
    "    for j in range(len(trans[i])-3):\n",
    "        mul = trans[i][j] * trans[i-1][j+1] * trans[i-2][j+2] * trans[i-3][j+3]\n",
    "        result.append(mul)\n",
    "\n",
    "print max(result)"
   ]
  },
  {
   "cell_type": "markdown",
   "metadata": {},
   "source": [
    "#문제 10번 - 프로젝트 오일러 12"
   ]
  },
  {
   "cell_type": "code",
   "execution_count": 10,
   "metadata": {
    "collapsed": false
   },
   "outputs": [
    {
     "name": "stdout",
     "output_type": "stream",
     "text": [
      "{}\n",
      "{}\n"
     ]
    }
   ],
   "source": [
    "def triangular(num):\n",
    "    result = 0\n",
    "    if num==0:\n",
    "        return -1\n",
    "    for i in range(num):\n",
    "        result += i\n",
    "    return result\n",
    "\n",
    "def get_divisor(num):\n",
    "    cnt = 0\n",
    "    div = 1\n",
    "    while(num >= div):\n",
    "        if num % div == 0:\n",
    "            cnt += 1  \n",
    "        div = div + 1\n",
    "    return cnt, num\n",
    "\n",
    "def main():\n",
    "    l = []\n",
    "    result = {}\n",
    "\n",
    "    cnt = 2\n",
    "    while cnt:\n",
    "        l.append(triangular(cnt))\n",
    "        for i in range(1,len(l)):\n",
    "            result = get_divisor(l[i])\n",
    "        \n",
    "        if(result > 6):\n",
    "            print result\n",
    "            break\n",
    "        cnt += 1\n",
    "        print result   \n",
    "main()"
   ]
  },
  {
   "cell_type": "code",
   "execution_count": 28,
   "metadata": {
    "collapsed": false
   },
   "outputs": [
    {
     "name": "stdout",
     "output_type": "stream",
     "text": [
      "[]\n"
     ]
    }
   ],
   "source": []
  },
  {
   "cell_type": "code",
   "execution_count": null,
   "metadata": {
    "collapsed": true
   },
   "outputs": [],
   "source": []
  }
 ],
 "metadata": {
  "kernelspec": {
   "display_name": "Python 2",
   "language": "python",
   "name": "python2"
  },
  "language_info": {
   "codemirror_mode": {
    "name": "ipython",
    "version": 2
   },
   "file_extension": ".py",
   "mimetype": "text/x-python",
   "name": "python",
   "nbconvert_exporter": "python",
   "pygments_lexer": "ipython2",
   "version": "2.7.9"
  }
 },
 "nbformat": 4,
 "nbformat_minor": 0
}
