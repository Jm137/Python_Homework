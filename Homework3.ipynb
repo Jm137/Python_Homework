{
 "cells": [
  {
   "cell_type": "markdown",
   "metadata": {},
   "source": [
    "[문제 1]\n",
    "\n",
    "L=[1, 2, 3, 4, 5]일 때 다음 각 문장을 수행한 후의 결과를 보고 납득할 만한 이유를 설명하시오. \n"
   ]
  },
  {
   "cell_type": "code",
   "execution_count": 2,
   "metadata": {
    "collapsed": false
   },
   "outputs": [
    {
     "name": "stdout",
     "output_type": "stream",
     "text": [
      "[1, 100, 4, 5]\n"
     ]
    }
   ],
   "source": [
    "L = [1,2,3,4,5]\n",
    "L[1:3] = [100]\n",
    "print L"
   ]
  },
  {
   "cell_type": "markdown",
   "metadata": {},
   "source": [
    "L[1:3] -> 인덱스 값이 1과 2인 부분의 값(2, 3)을 100으로 치환한다. 따라서 [1, 100, 4, 5]가 된다."
   ]
  },
  {
   "cell_type": "code",
   "execution_count": 11,
   "metadata": {
    "collapsed": false
   },
   "outputs": [
    {
     "name": "stdout",
     "output_type": "stream",
     "text": [
      "[1, 100, 4, 5]\n"
     ]
    }
   ],
   "source": [
    "L = [1,2,3,4,5]\n",
    "L[1:3] = [(100)]\n",
    "print L"
   ]
  },
  {
   "cell_type": "markdown",
   "metadata": {},
   "source": [
    "튜플에서 원소가 하나인 경우, (100,)처럼 ,를 붙여주어야 한다. 붙이지 않으면 정수형 int로 값을 받아들인다."
   ]
  },
  {
   "cell_type": "code",
   "execution_count": 4,
   "metadata": {
    "collapsed": false
   },
   "outputs": [
    {
     "ename": "TypeError",
     "evalue": "can only assign an iterable",
     "output_type": "error",
     "traceback": [
      "\u001b[1;31m---------------------------------------------------------------------------\u001b[0m",
      "\u001b[1;31mTypeError\u001b[0m                                 Traceback (most recent call last)",
      "\u001b[1;32m<ipython-input-4-2190a12ebf8f>\u001b[0m in \u001b[0;36m<module>\u001b[1;34m()\u001b[0m\n\u001b[0;32m      1\u001b[0m \u001b[0mL\u001b[0m \u001b[1;33m=\u001b[0m \u001b[1;33m[\u001b[0m\u001b[1;36m1\u001b[0m\u001b[1;33m,\u001b[0m\u001b[1;36m2\u001b[0m\u001b[1;33m,\u001b[0m\u001b[1;36m3\u001b[0m\u001b[1;33m,\u001b[0m\u001b[1;36m4\u001b[0m\u001b[1;33m,\u001b[0m\u001b[1;36m5\u001b[0m\u001b[1;33m]\u001b[0m\u001b[1;33m\u001b[0m\u001b[0m\n\u001b[1;32m----> 2\u001b[1;33m \u001b[0mL\u001b[0m\u001b[1;33m[\u001b[0m\u001b[1;36m1\u001b[0m\u001b[1;33m:\u001b[0m\u001b[1;36m3\u001b[0m\u001b[1;33m]\u001b[0m \u001b[1;33m=\u001b[0m \u001b[1;36m100\u001b[0m\u001b[1;33m\u001b[0m\u001b[0m\n\u001b[0m\u001b[0;32m      3\u001b[0m \u001b[1;32mprint\u001b[0m \u001b[0mL\u001b[0m\u001b[1;33m\u001b[0m\u001b[0m\n",
      "\u001b[1;31mTypeError\u001b[0m: can only assign an iterable"
     ]
    }
   ],
   "source": [
    "L = [1,2,3,4,5]\n",
    "L[1:3] = 100\n",
    "print L"
   ]
  },
  {
   "cell_type": "markdown",
   "metadata": {},
   "source": [
    "값을 치환시켜 줄 때, 리스트의 형태로 넣어주어야 한다. (L[1:3] = [100]과 같은 형태)"
   ]
  },
  {
   "cell_type": "code",
   "execution_count": 13,
   "metadata": {
    "collapsed": false
   },
   "outputs": [
    {
     "ename": "TypeError",
     "evalue": "can only assign an iterable",
     "output_type": "error",
     "traceback": [
      "\u001b[1;31m---------------------------------------------------------------------------\u001b[0m",
      "\u001b[1;31mTypeError\u001b[0m                                 Traceback (most recent call last)",
      "\u001b[1;32m<ipython-input-13-c5aa4b5b4c59>\u001b[0m in \u001b[0;36m<module>\u001b[1;34m()\u001b[0m\n\u001b[0;32m      1\u001b[0m \u001b[0mL\u001b[0m \u001b[1;33m=\u001b[0m \u001b[1;33m[\u001b[0m\u001b[1;36m1\u001b[0m\u001b[1;33m,\u001b[0m\u001b[1;36m2\u001b[0m\u001b[1;33m,\u001b[0m\u001b[1;36m3\u001b[0m\u001b[1;33m,\u001b[0m\u001b[1;36m4\u001b[0m\u001b[1;33m,\u001b[0m\u001b[1;36m5\u001b[0m\u001b[1;33m]\u001b[0m\u001b[1;33m\u001b[0m\u001b[0m\n\u001b[1;32m----> 2\u001b[1;33m \u001b[0mL\u001b[0m\u001b[1;33m[\u001b[0m\u001b[1;36m1\u001b[0m\u001b[1;33m:\u001b[0m\u001b[1;36m3\u001b[0m\u001b[1;33m]\u001b[0m \u001b[1;33m=\u001b[0m \u001b[1;33m(\u001b[0m\u001b[1;36m100\u001b[0m\u001b[1;33m)\u001b[0m\u001b[1;33m\u001b[0m\u001b[0m\n\u001b[0m\u001b[0;32m      3\u001b[0m \u001b[1;32mprint\u001b[0m \u001b[0mL\u001b[0m\u001b[1;33m\u001b[0m\u001b[0m\n",
      "\u001b[1;31mTypeError\u001b[0m: can only assign an iterable"
     ]
    }
   ],
   "source": [
    "L = [1,2,3,4,5]\n",
    "L[1:3] = (100)\n",
    "print L"
   ]
  },
  {
   "cell_type": "markdown",
   "metadata": {},
   "source": [
    "값을 치환시켜 줄 때, 리스트, 튜플의 형태로 넣어주어야 한다. 위와 같은 경우는 튜플이 아닌 int 형이므로 에러가 발생한다."
   ]
  },
  {
   "cell_type": "code",
   "execution_count": 6,
   "metadata": {
    "collapsed": false
   },
   "outputs": [
    {
     "name": "stdout",
     "output_type": "stream",
     "text": [
      "[1, 100, 101, 102, 4, 5]\n"
     ]
    }
   ],
   "source": [
    "L = [1,2,3,4,5]\n",
    "L[1:3] = (100, 101, 102)\n",
    "print L"
   ]
  },
  {
   "cell_type": "markdown",
   "metadata": {},
   "source": [
    "값을 치환시켜 줄 때, 리스트, 튜플의 형태로 넣어주어야 한다. 인덱스 값이 1과 2인 부분을 (100, 101, 102)로 치환한 것이기 때문에, [1, 100, 101, 102, 4, 5]를 출력하게 된다."
   ]
  },
  {
   "cell_type": "code",
   "execution_count": 7,
   "metadata": {
    "collapsed": false
   },
   "outputs": [
    {
     "name": "stdout",
     "output_type": "stream",
     "text": [
      "[1, 100, 101, 102, 4, 5]\n"
     ]
    }
   ],
   "source": [
    "L = [1,2,3,4,5]\n",
    "L[1:3] = [100, 101, 102]\n",
    "print L"
   ]
  },
  {
   "cell_type": "markdown",
   "metadata": {},
   "source": [
    "값을 치환시켜 줄 때, 리스트, 튜플의 형태로 넣어주어야 한다. 인덱스 값이 1과 2인 부분을 (100, 101, 102)로 치환한 것이기 때문에, [1, 100, 101, 102, 4, 5]를 출력하게 된다."
   ]
  },
  {
   "cell_type": "code",
   "execution_count": 8,
   "metadata": {
    "collapsed": false
   },
   "outputs": [
    {
     "name": "stdout",
     "output_type": "stream",
     "text": [
      "[1, (100, 101, 102), 4, 5]\n"
     ]
    }
   ],
   "source": [
    "L = [1,2,3,4,5]\n",
    "L[1:3] = [(100, 101, 102)]\n",
    "print L"
   ]
  },
  {
   "cell_type": "markdown",
   "metadata": {},
   "source": [
    "값을 치환시켜 줄 때, 리스트, 튜플의 형태로 넣어주어야 한다. 하지만 이 문제의 경우 리스트 안에 튜플이 존재하는 경우이기 때문에, 100, 101, 102를 튜플의 형태 즉, (100, 101, 102)의 형태로 치환해 준다."
   ]
  },
  {
   "cell_type": "code",
   "execution_count": 9,
   "metadata": {
    "collapsed": false
   },
   "outputs": [
    {
     "name": "stdout",
     "output_type": "stream",
     "text": [
      "[1, [100, 101, 102], 4, 5]\n"
     ]
    }
   ],
   "source": [
    "L = [1,2,3,4,5]\n",
    "L[1:3] = [[100, 101, 102]]\n",
    "print L"
   ]
  },
  {
   "cell_type": "markdown",
   "metadata": {},
   "source": [
    "값을 치환시켜 줄 때, 리스트, 튜플의 형태로 넣어주어야 한다. 하지만 이 문제의 경우 리스트 안에 리스트가 존재하는 경우이기 때문에, 100, 101, 102를 리스트의 형태 즉, [100, 101, 102]의 형태로 치환해 준다."
   ]
  },
  {
   "cell_type": "markdown",
   "metadata": {},
   "source": [
    "[문제 2]\n",
    "\n",
    "문자열 S = 'Hello World and Python'에 대해 다음 요구사항에 대한 Python 코드를 제시하시오. \n",
    "\n",
    "◾1) 단어의 순서가 역순으로 되어진 문자열 ('Python and World Hello')을 만들고 \n",
    "\n",
    "◾2) 1)의 결과 문자열에 대해 메소드 split과 join을 이용하여 공백을 모두 없엔 문자열 'PythonandWorldHello'을 만드시오.\n"
   ]
  },
  {
   "cell_type": "code",
   "execution_count": 34,
   "metadata": {
    "collapsed": false
   },
   "outputs": [
    {
     "name": "stdout",
     "output_type": "stream",
     "text": [
      "1번 문제\n",
      "Python and World Hello \n",
      "\n",
      "2번 문제\n",
      "PythonandWorldHello\n"
     ]
    }
   ],
   "source": [
    "S = 'Hello World and Python'\n",
    "S1 = S.split()\n",
    "S2 = S1[::-1]\n",
    "\n",
    "string = ''\n",
    "\n",
    "for i in S2:\n",
    "    string = string + i + ' '\n",
    "\n",
    "print \"1번 문제\"\n",
    "print string\n",
    "print\n",
    "\n",
    "string2 = ''\n",
    "\n",
    "S3 = string.split()\n",
    "\n",
    "string2 = ''.join(S3)\n",
    "\n",
    "print \"2번 문제\"\n",
    "print string2"
   ]
  },
  {
   "cell_type": "markdown",
   "metadata": {},
   "source": [
    "1번 문제 - split()을 이용해 공백으로 단어를 나눠 리스트에 넣어주고(S1), 슬라이싱을 이용해 역순으로 바꿔준다.(S2) 이후 for~in을 이용해 역순으로 되어진 문자열(string)을 출력해준다.\n",
    "\n",
    "2번 문제 - split()을 이용해 공백으로 단어를 나눠 리스트에 넣어주고(S3), join()을 이용해 앞에 ''를 써주어 띄어쓰기 없이 리스트를 결합해 준다.(string2)"
   ]
  },
  {
   "cell_type": "markdown",
   "metadata": {},
   "source": [
    "[문제3]\n",
    "\n",
    "다음 코드를 보고 물음에 답하시오.\n",
    "\n",
    "a = [1, 2, 3]\n",
    "\n",
    "b = a * 3\n",
    "\n",
    "c = [a] * 3\n",
    "\n",
    "print b\n",
    "\n",
    "print c"
   ]
  },
  {
   "cell_type": "markdown",
   "metadata": {},
   "source": [
    "◾1) 위 코드를 수행한 이후 다음 코드를 수행한 후 b와 c의 내용을 확인하시오.\n",
    "\n",
    "    a[0]=0"
   ]
  },
  {
   "cell_type": "code",
   "execution_count": 40,
   "metadata": {
    "collapsed": false
   },
   "outputs": [
    {
     "name": "stdout",
     "output_type": "stream",
     "text": [
      "[1, 2, 3, 1, 2, 3, 1, 2, 3]\n",
      "[[1, 2, 3], [1, 2, 3], [1, 2, 3]]\n",
      "\n",
      "a[0]=0 를 추가한 경우\n",
      "\n",
      "[1, 2, 3, 1, 2, 3, 1, 2, 3]\n",
      "[[0, 2, 3], [0, 2, 3], [0, 2, 3]]\n"
     ]
    }
   ],
   "source": [
    "a = [1, 2, 3]\n",
    "\n",
    "b = a * 3\n",
    "\n",
    "c = [a] * 3\n",
    "\n",
    "print b\n",
    "\n",
    "print c\n",
    "\n",
    "print\n",
    "print \"a[0]=0 를 추가한 경우\"\n",
    "print\n",
    "\n",
    "a[0]=0\n",
    "\n",
    "print b\n",
    "\n",
    "print c"
   ]
  },
  {
   "cell_type": "markdown",
   "metadata": {
    "collapsed": true
   },
   "source": [
    "◾2) b와 c 객체의 차이는 무엇인가?\n",
    "\n",
    "b의 경우, 객체 a 리스트를 3번 연속해서 출력하는 것이다.\n",
    "\n",
    "c의 경우, 리스트 a 자체를 원소로 가지고 있는 경우인데, 값을 복사해서 새로운 객체를 만든 것이 아니라 a를 참조하는 형태이다. 따라서 a[0] = 0을 해주게 되면 값이 바뀌게 된다.\n"
   ]
  },
  {
   "cell_type": "markdown",
   "metadata": {},
   "source": [
    "[문제4]\n",
    "\n",
    "다음 문자열을 ':'을 기준으로 분리하여 리스트로 만들고 각 문자열의 좌우 공백을 제거하시오 (즉, 문자열 S에서 l을 만들어라)\n",
    "\n",
    "\n",
    "s = '  first star   :   second star   :    third star  '\n",
    "\n",
    "l = ['first star', 'second star', 'third star']\n",
    "\n",
    "\n",
    "◾1) for ~ in 문을 이용한 코드를 작성하시오. "
   ]
  },
  {
   "cell_type": "code",
   "execution_count": 61,
   "metadata": {
    "collapsed": false
   },
   "outputs": [
    {
     "name": "stdout",
     "output_type": "stream",
     "text": [
      "[' first star ', ' second star ', ' third star ']\n",
      "['first star', 'second star', 'third star']\n"
     ]
    }
   ],
   "source": [
    "s = ' first star : second star : third star '\n",
    "\n",
    "s2 = s.split(':')\n",
    "\n",
    "print s2\n",
    "\n",
    "j = 0\n",
    "\n",
    "for i in s2:\n",
    "    s2[j] = i.strip()\n",
    "    j += 1\n",
    "    \n",
    "print s2"
   ]
  },
  {
   "cell_type": "markdown",
   "metadata": {},
   "source": [
    "먼저, :를 기준으로 단어를 나누어 리스트에 넣어주고, for~in을 통해 각각의 단어에 포함된 좌우 공백을 없애준다. for~in에 있어서 각각의 인덱스를 표시해 주기 위해 j라는 int 변수를 추가해 주었다."
   ]
  },
  {
   "cell_type": "markdown",
   "metadata": {},
   "source": [
    "◾2) 리스트 내포(list comprehension)를 이용한 코드를 작성하시오."
   ]
  },
  {
   "cell_type": "code",
   "execution_count": 59,
   "metadata": {
    "collapsed": false
   },
   "outputs": [
    {
     "name": "stdout",
     "output_type": "stream",
     "text": [
      "[' first star ', ' second star ', ' third star ']\n",
      "['first star', 'second star', 'third star']\n"
     ]
    }
   ],
   "source": [
    "s = ' first star : second star : third star '\n",
    "\n",
    "s2 = s.split(':')\n",
    "\n",
    "print s2\n",
    "\n",
    "j = 0\n",
    "\n",
    "s3 = [i.strip() for i in s2]\n",
    "    \n",
    "print s3"
   ]
  },
  {
   "cell_type": "markdown",
   "metadata": {},
   "source": [
    "리스트 내포의 경우, :를 기준으로 나눈 단어들의 리스트를 for문을 돌려 각각의 단어의 좌우 공백을 없애주면 되는 것이기 때문에 's3 = [i.strip() for i in s2]' 같이 나온다."
   ]
  },
  {
   "cell_type": "markdown",
   "metadata": {},
   "source": [
    "[문제5]\n",
    "\n",
    "다음과 같이 0보다 큰 정수 리스트 변수 list를 인자로 받는 함수 addall(list)와 addallodd(list)를 for ~ in 리터널과 리스트 내포 방식으로 각각 제시하시오.\n",
    "\n",
    "◾1) addall(list) 함수 (리스트 내의 모든 정수를 더하는 함수로서 해답으로는 for ~ in 리터럴과 리스트 내포 방식으로 각각 제시하시오.)\n",
    "\n",
    "\n",
    "◦>>> addall([1])\n",
    "1\n",
    "\n",
    "\n",
    "◦>>> addall([1, 2, 3, 4, 5, 6, 7, 8, 9])\n",
    "45\n",
    "\n",
    "◾[참고]: 리스트 내포 방식으로 addall() 및 addallodd()함수를 만들 때엔 리스트 내포에 의해 생성된 리스트 결과에 대해 내장 함수를 사용하는 방식을 고려해보시오 (주의: 리스트 내포 방식의 addall() 및 addallodd() 함수의 몸체는 단 1줄로 작성되어야 한다.) "
   ]
  },
  {
   "cell_type": "code",
   "execution_count": 12,
   "metadata": {
    "collapsed": false
   },
   "outputs": [
    {
     "name": "stdout",
     "output_type": "stream",
     "text": [
      "0보다 큰 정수를 입력하세요 : 10\n",
      "55\n"
     ]
    }
   ],
   "source": [
    "n = input(u'0보다 큰 정수를 입력하세요 : ')\n",
    "\n",
    "a = range(n)\n",
    "\n",
    "s = 0\n",
    "\n",
    "for i in range(len(a)+1):\n",
    "    s += i\n",
    "    \n",
    "print s"
   ]
  },
  {
   "cell_type": "code",
   "execution_count": 2,
   "metadata": {
    "collapsed": false
   },
   "outputs": [
    {
     "name": "stdout",
     "output_type": "stream",
     "text": [
      "0보다 큰 정수를 입력하세요 : 10\n",
      "55\n"
     ]
    }
   ],
   "source": [
    "\n",
    "n = input(u'0보다 큰 정수를 입력하세요 : ')\n",
    "\n",
    "a = range(n)\n",
    "\n",
    "L = [i for i in range(len(a)+1)]\n",
    "\n",
    "print sum(L)"
   ]
  },
  {
   "cell_type": "markdown",
   "metadata": {},
   "source": [
    "◾2) addallodd(list) 함수 (리스트내의 모든 홀수를 더하는 함수로서 해답으로는 for ~ in 리터럴과 리스트 내포 방식으로 각각 제시하시오.)\n",
    "\n",
    "\n",
    "◦>>> addallodd([1])\n",
    "1\n",
    "\n",
    "\n",
    "◦>>> addallodd([1, 2, 3, 4, 5, 6, 7, 8, 9])\n",
    "25"
   ]
  },
  {
   "cell_type": "code",
   "execution_count": 13,
   "metadata": {
    "collapsed": false
   },
   "outputs": [
    {
     "name": "stdout",
     "output_type": "stream",
     "text": [
      "0보다 큰 정수를 입력하세요 : 10\n",
      "25\n"
     ]
    }
   ],
   "source": [
    "n = input(u'0보다 큰 정수를 입력하세요 : ')\n",
    "\n",
    "a = range(n)\n",
    "\n",
    "s = 0\n",
    "\n",
    "for i in range(1,(len(a)+1),2):\n",
    "    s += i\n",
    "    \n",
    "print s"
   ]
  },
  {
   "cell_type": "code",
   "execution_count": 3,
   "metadata": {
    "collapsed": false
   },
   "outputs": [
    {
     "name": "stdout",
     "output_type": "stream",
     "text": [
      "0보다 큰 정수를 입력하세요 : 10\n",
      "25\n"
     ]
    }
   ],
   "source": [
    "\n",
    "n = input(u'0보다 큰 정수를 입력하세요 : ')\n",
    "\n",
    "a = range(n)\n",
    "\n",
    "L1 = [i for i in range(1,(len(a)+1),2)]\n",
    "\n",
    "print sum(L1)"
   ]
  },
  {
   "cell_type": "markdown",
   "metadata": {
    "collapsed": true
   },
   "source": [
    "[문제 6]\n",
    "\n",
    "다음 코드를 보고 물음에 답하시오.\n",
    "\n",
    "L1 = [1, 2, 3]\n",
    "\n",
    "L2 = [4, 5, 6]\n",
    "\n",
    "d = {'low':L1, 'high':L2}\n",
    "\n",
    "e = d\n",
    "\n",
    "f = d.copy()\n",
    "\n",
    "print d\n",
    "\n",
    "print e\n",
    "\n",
    "print f\n",
    "\n",
    "print\n",
    "\n",
    "d['low'] = [10, 20, 30]\n",
    "\n",
    "d['high'][1] = 500\n",
    "\n",
    "print d\n",
    "\n",
    "print e\n",
    "\n",
    "print f\n",
    "\n",
    "◾1) 위 코드의 수행 결과 d와 e는 항상 같은 결과를 출력한다. 그 이유는 무엇인가?"
   ]
  },
  {
   "cell_type": "code",
   "execution_count": 17,
   "metadata": {
    "collapsed": false
   },
   "outputs": [
    {
     "name": "stdout",
     "output_type": "stream",
     "text": [
      "{'high': [4, 5, 6], 'low': [1, 2, 3]}\n",
      "{'high': [4, 5, 6], 'low': [1, 2, 3]}\n",
      "{'high': [4, 5, 6], 'low': [1, 2, 3]}\n",
      "\n",
      "{'high': [4, 500, 6], 'low': [10, 20, 30]}\n",
      "{'high': [4, 500, 6], 'low': [10, 20, 30]}\n",
      "{'high': [4, 500, 6], 'low': [1, 2, 3]}\n"
     ]
    }
   ],
   "source": [
    "L1 = [1, 2, 3]\n",
    "\n",
    "L2 = [4, 5, 6]\n",
    "\n",
    "d = {'low':L1, 'high':L2}\n",
    "\n",
    "e = d\n",
    "\n",
    "f = d.copy()\n",
    "\n",
    "print d\n",
    "\n",
    "print e\n",
    "\n",
    "print f\n",
    "\n",
    "print\n",
    "\n",
    "d['low'] = [10, 20, 30]\n",
    "\n",
    "d['high'][1] = 500\n",
    "\n",
    "print d\n",
    "\n",
    "print e\n",
    "\n",
    "print f"
   ]
  },
  {
   "cell_type": "markdown",
   "metadata": {},
   "source": [
    "이유 : 'e = d'를 보면 e가 d의 객체를 참조하기 때문이다. 따라서 d의 값이 변하면 참조하고 있던 e의 값도 자동으로 바뀌게 된다."
   ]
  },
  {
   "cell_type": "markdown",
   "metadata": {},
   "source": [
    "◾2) 위 코드의 수행 결과 마지막 f의 내용은 다음과 같다. 이 때 'high' 키의 값 내용 중 500이 출력된 이유와 'low' 키의 값 내용 중 [1, 2, 3]이 출력된 이유를 설명하시오 ([hint]: shallow copy 관점에서 설명하시오.)\n",
    "\n",
    "            {'high': [4, 500, 6], 'low': [1, 2, 3]}\n",
    "            \n",
    "이유 : f의 경우 d의 값을 얕은 복사한 값이다.(swallow copy) 얕은 복사는 그 값을 복사하여 새로운 객체를 만든다. 하지만 리스트 안의 원소까지는 복사하지 못하기 때문에 d['high'][1] = 500 를 하게 되면 원소의 값이 바뀌게 되는 것이다."
   ]
  },
  {
   "cell_type": "markdown",
   "metadata": {},
   "source": [
    "[문제7]\n",
    "\n",
    "사전 d = {'one':1, 'two':2, 'three':3, 'four':4, 'five':5}가 주어졌을 때 다음 요구사항에 맞는 코드를 제시하시오 \n",
    "\n",
    "◾[참고]: d.keys(), d.values()를 통해 리스트를 얻어낸 후 리스트가 지니고 있는 sort(cmp=None, key=None, reverse=False)함수를 활용하시오.\n",
    "\n",
    "◾1) 키의 알파벳 오름차순 순서대로 튜플 (키, 값)을 차례대로 출력하시오."
   ]
  },
  {
   "cell_type": "code",
   "execution_count": 36,
   "metadata": {
    "collapsed": false
   },
   "outputs": [
    {
     "name": "stdout",
     "output_type": "stream",
     "text": [
      "[('five', 5), ('four', 4), ('one', 1), ('three', 3), ('two', 2)]\n"
     ]
    }
   ],
   "source": [
    "d = {'one':1, 'two':2, 'three':3, 'four':4, 'five':5}\n",
    "a = []\n",
    "a = d.items()\n",
    "a.sort(cmp)\n",
    "\n",
    "print a"
   ]
  },
  {
   "cell_type": "markdown",
   "metadata": {},
   "source": [
    "◾2) 키의 알파벳 내림차순 순서대로 튜플 (키, 값)을 차례대로 출력하시오."
   ]
  },
  {
   "cell_type": "code",
   "execution_count": 31,
   "metadata": {
    "collapsed": false
   },
   "outputs": [
    {
     "name": "stdout",
     "output_type": "stream",
     "text": [
      "[('two', 2), ('three', 3), ('one', 1), ('four', 4), ('five', 5)]\n"
     ]
    }
   ],
   "source": [
    "d = {'one':1, 'two':2, 'three':3, 'four':4, 'five':5}\n",
    "a = []\n",
    "a = d.items()\n",
    "a.sort(reverse = True)\n",
    "\n",
    "print a"
   ]
  },
  {
   "cell_type": "markdown",
   "metadata": {},
   "source": [
    "◾3) 값의 오름차순 순서대로 튜플 (키, 값)을 차례대로 출력하시오. "
   ]
  },
  {
   "cell_type": "code",
   "execution_count": 50,
   "metadata": {
    "collapsed": false
   },
   "outputs": [
    {
     "name": "stdout",
     "output_type": "stream",
     "text": [
      "[('one', 1), ('two', 2), ('three', 3), ('four', 4), ('five', 5)]\n"
     ]
    }
   ],
   "source": [
    "import operator\n",
    "\n",
    "d = {'one':1, 'two':2, 'three':3, 'four':4, 'five':5}\n",
    "\n",
    "sorted_d = sorted(d.items(), key=operator.itemgetter(1), reverse = False)\n",
    "\n",
    "print sorted_d"
   ]
  },
  {
   "cell_type": "markdown",
   "metadata": {},
   "source": [
    "도움 : http://stackoverflow.com/questions/613183/sort-a-python-dictionary-by-value\n"
   ]
  },
  {
   "cell_type": "markdown",
   "metadata": {},
   "source": [
    "◾4) 값의 내림차순 순서대로 튜플 (키, 값)을 차례대로 출력하시오."
   ]
  },
  {
   "cell_type": "code",
   "execution_count": 51,
   "metadata": {
    "collapsed": false
   },
   "outputs": [
    {
     "name": "stdout",
     "output_type": "stream",
     "text": [
      "[('five', 5), ('four', 4), ('three', 3), ('two', 2), ('one', 1)]\n"
     ]
    }
   ],
   "source": [
    "import operator\n",
    "\n",
    "d = {'one':1, 'two':2, 'three':3, 'four':4, 'five':5}\n",
    "\n",
    "sorted_d = sorted(d.items(), key=operator.itemgetter(1), reverse = True)\n",
    "\n",
    "print sorted_d"
   ]
  },
  {
   "cell_type": "markdown",
   "metadata": {},
   "source": [
    "도움 : http://stackoverflow.com/questions/613183/sort-a-python-dictionary-by-value\n"
   ]
  },
  {
   "cell_type": "markdown",
   "metadata": {},
   "source": [
    "[프로젝트 오일러 문제7]\n",
    "\n",
    "소수를 크기 순으로 나열하면 2, 3, 5, 7, 11, 13, ... 과 같이 됩니다.\n",
    "\n",
    "이 때 10,001번째의 소수를 구하세요."
   ]
  },
  {
   "cell_type": "code",
   "execution_count": 47,
   "metadata": {
    "collapsed": false
   },
   "outputs": [
    {
     "name": "stdout",
     "output_type": "stream",
     "text": [
      " 104743\n"
     ]
    }
   ],
   "source": [
    "l = []\n",
    "           \n",
    "for n in range(2, 1000000):\n",
    "    for a in range(2, n+1):\n",
    "        if n % a == 0:\n",
    "            if n != a:\n",
    "                break\n",
    "            else:\n",
    "                l.append(n)\n",
    "      \n",
    "    a = len(l)\n",
    "    \n",
    "    if a == 10001:\n",
    "        break\n",
    "\n",
    "print l[a-1]"
   ]
  },
  {
   "cell_type": "markdown",
   "metadata": {},
   "source": [
    "[프로젝트 오일러 문제8]\n",
    "\n",
    "먼저 소수를 구하는 코드를 구성해준다. 이후 리스트의 크기가 10001이면 마지막으로 10001번째 소수가 들어갔음을 의미하므로 break를 걸어 준다. 이후 리스트 마지막 값을 출력해주면 10001번째 소수 값을 얻을 수 있다."
   ]
  },
  {
   "cell_type": "markdown",
   "metadata": {},
   "source": [
    "다음은 연속된 1000자리 숫자입니다 (읽기 좋게 50자리씩 잘라놓음).\n",
    "\n",
    "73167176531330624919225119674426574742355349194934\n",
    "\n",
    " 96983520312774506326239578318016984801869478851843\n",
    " \n",
    " 85861560789112949495459501737958331952853208805511\n",
    " \n",
    " 12540698747158523863050715693290963295227443043557\n",
    " \n",
    " 66896648950445244523161731856403098'71112'1722383113\n",
    " \n",
    " 62229893423380308135336276614282806444486645238749\n",
    " \n",
    " 30358907296290491560440772390713810515859307960866\n",
    " \n",
    " 70172427121883998797908792274921901699720888093776\n",
    " \n",
    " 65727333001053367881220235421809751254540594752243\n",
    " \n",
    " 52584907711670556013604839586446706324415722155397\n",
    " \n",
    " 53697817977846174064955149290862569321978468622482\n",
    " \n",
    " 83972241375657056057490261407972968652414535100474\n",
    " \n",
    " 82166370484403199890008895243450658541227588666881\n",
    " \n",
    " 16427171479924442928230863465674813919123162824586\n",
    " \n",
    " 17866458359124566529476545682848912883142607690042\n",
    " \n",
    " 24219022671055626321111109370544217506941658960408\n",
    " \n",
    " 07198403850962455444362981230987879927244284909188\n",
    " \n",
    " 84580156166097919133875499200524063689912560717606\n",
    " \n",
    " 05886116467109405077541002256983155200055935729725\n",
    " \n",
    " 71636269561882670428252483600823257530420752963450 \n",
    " \n",
    "\n",
    "여기서 붉게 표시된 71112의 경우 7, 1, 1, 1, 2 각 숫자를 모두 곱하면 14가 됩니다.\n",
    "이런 식으로 맨 처음 (7 × 3 × 1 × 6 × 7 = 882) 부터 맨 끝 (6 × 3 × 4 × 5 × 0 = 0) 까지 5자리 숫자들의 곱을 구할 수 있습니다.\n",
    "\n",
    "이렇게 구할 수 있는 5자리 숫자의 곱 중에서 가장 큰 값은 얼마입니까?\n"
   ]
  },
  {
   "cell_type": "code",
   "execution_count": 72,
   "metadata": {
    "collapsed": false
   },
   "outputs": [
    {
     "name": "stdout",
     "output_type": "stream",
     "text": [
      "[882, 630, 0, 648, 20, 6048, 1680, 840, 540, 3888, 11664, 0, 1960, 0, 1890, 0, 1728, 0, 16128, 480, 1920, 0, 162, 6480, 0, 1323, 360, 3600, 0, 0, 0, 12096, 1400, 864, 0, 1620, 0, 360, 0, 2100, 15552, 8640, 0, 480, 126, 960, 0, 14, 84, 72, 432, 1728, 0, 0, 756, 288, 0, 2048, 1440, 6048, 0, 0, 0, 0, 0, 0, 0, 1000, 0, 0, 0, 112, 1728, 31752, 0, 1008, 0, 6804, 0, 7938, 2940, 0, 0, 2688, 0, 320, 0, 800, 0, 240, 1600, 0, 0, 0, 0, 8640, 0, 96, 140, 4725, 5670, 3528, 1344, 0, 900, 0, 3240, 378, 9216, 256, 3024, 168, 0, 0, 0, 0, 6048, 240, 300, 0, 576, 0, 0, 0, 0, 480, 0, 80, 13440, 2304, 336, 196, 2592, 1152, 0, 2160, 672, 162, 288, 1920, 2016, 2400, 360, 3240, 3360, 3840, 576, 768, 0, 0, 144, 0, 0, 72, 0, 0, 224, 0, 2160, 0, 0, 0, 0, 1600, 2592, 0, 28224, 1008, 2304, 0, 0, 180, 0, 81, 10080, 0, 0, 3888, 0, 0, 0, 144, 0, 0, 0, 1080, 600, 0, 4725, 1260, 756, 3240, 768, 0, 640, 0, 420, 0, 0, 0]\n",
      "31752\n"
     ]
    }
   ],
   "source": [
    "a = 7316717653133062491922511967442657474235534919493496983520312774506326239578318016984801869478851843858615607891129494954595017379583319528532088055111254069874715852386305071569329096329522744304355766896648950445244523161731856403098711121722383113622298934233803081353362766142828064444866452387493035890729629049156044077239071381051585930796086670172427121883998797908792274921901699720888093776657273330010533678812202354218097512545405947522435258490771167055601360483958644670632441572215539753697817977846174064955149290862569321978468622482839722413756570560574902614079729686524145351004748216637048440319989000889524345065854122758866688116427171479924442928230863465674813919123162824586178664583591245665294765456828489128831426076900422421902267105562632111110937054421750694165896040807198403850962455444362981230987879927244284909188845801561660979191338754992005240636899125607176060588611646710940507754100225698315520005593572972571636269561882670428252483600823257530420752963450 \n",
    "\n",
    "#a를 문자열로...\n",
    "string = str(a)\n",
    "\n",
    "#각각을 리스트에 넣어준다.\n",
    "l = []\n",
    "\n",
    "for i in range(len(string)):\n",
    "    l.append(string[i])\n",
    "    l[i] = int(l[i])\n",
    "\n",
    "add= []\n",
    "\n",
    "for i in range(0, len(l), 5):\n",
    "    mul = 1\n",
    "    for j in range(i, i + 5):\n",
    "        mul *= l[j]\n",
    "    \n",
    "    add.append(mul)\n",
    "    \n",
    "print add\n",
    "   \n",
    "print max(add)\n",
    "    \n"
   ]
  },
  {
   "cell_type": "markdown",
   "metadata": {},
   "source": [
    "[프로젝트 오일러 문제9]\n",
    "\n",
    "세 자연수 a, b, c 가 피타고라스 정리 a2 + b2 = c2 를 만족하면 피타고라스 수라고 부릅니다 (여기서 a < b < c ).\n",
    "예를 들면 32 + 42 = 9 + 16 = 25 = 52이므로 3, 4, 5는 피타고라스 수입니다.\n",
    "\n",
    "a + b + c = 1000  인 피타고라스 수 a, b, c는 한 가지 뿐입니다. 이 때, a × b × c 는 얼마입니까?"
   ]
  },
  {
   "cell_type": "markdown",
   "metadata": {
    "collapsed": true
   },
   "source": []
  },
  {
   "cell_type": "markdown",
   "metadata": {},
   "source": [
    "[Incremental Project] 이전 Assignment 2의 마지막 문제는 웹 URL로 지정된 웹페이지를 문자열로 가져와 모든 HTML 태그 및 CSS와 Javascript를 제외한 순수 텍스트를 얻어내고 그 안에 존재하는 단어를 추출하고 단어들의 총 개수를 출력하는 프로그램을 작성하는 것이었다. 이번에는 그 마지막 숙제를 그대로 확장하여 웹 URL로 지정된 웹페이지 내 순수 텍스트 안에 존재하는 각 단어들에 대해 다음 요구사항 대로 출력하는 프로그램을 작성하시오. \n",
    "\n",
    "◾요구사항 1. 순수 텍스트 안에 존재하는 단어들에 대해 string 모듈을 활용하여 모든 punctuation (구두문자)를 완벽히 제거하시오.\n",
    "\n",
    "◦예: ['world!', ':', '+hello+', '~python$$$', '=', 'world'] ---> ['world', 'hello', 'python', 'world']\n",
    "\n",
    "◦모든 punctuation을 확인하는 방법은 아래와 같다.import string\n",
    "\n",
    "print string.punctuation\n",
    "\n",
    "◾요구사항 2. 만약 punctuation (구두문자)를 제거한 이후 공백으로 판명되는 단어들은 해당 단어 리스트에서 제거하시오.\n",
    "\n",
    "◦예: ['컴퓨터공학부!', '---?', '%지향~', '...'] ---> ['컴퓨터공학부', '지향']\n",
    "\n",
    "◾요구사항 3. 각 단어들의 출현빈도를 사전형태로 저장하여 출력하시오.\n",
    "\n",
    "◦예: ['world', 'hello', 'python', 'world', '컴퓨터공학부', '지향'] ---> {'world': 2, 'hello': 1, 'python': 1, '컴퓨터공학부': 1, '지향': 1}\n",
    "\n",
    "◾요구사항 4. 다음 3개의 사이트에 대한 결과를 출력하시오.\n",
    "\n",
    "◦http://www.naver.com\n",
    "\n",
    "◦http://www.daum.net\n",
    "\n",
    "◦http://www.nytimes.com"
   ]
  },
  {
   "cell_type": "code",
   "execution_count": 159,
   "metadata": {
    "collapsed": false
   },
   "outputs": [
    {
     "name": "stdout",
     "output_type": "stream",
     "text": [
      "낮까지 : 2\n",
      "gt : 1\n",
      "DLScript.loadDS(\"http://s.pm.naver.net/js/c/JEagleEyeClient_20120111.min.js?v=2 : 1\n",
      "한글캠페인 : 1\n",
      "39;휴 : 1\n",
      "global : 1\n",
      "위하여 : 1\n",
      "생방송으로 : 1\n",
      "나눔글꼴이 : 2\n",
      "txt@@txt : 1\n",
      "라이브 : 1\n",
      "유지 : 1\n",
      "피플 : 1\n",
      "상대 : 1\n",
      "나눔글꼴을 : 1\n",
      "선호주제설정 : 1\n",
      "참여하세요 : 1\n",
      "볼 : 1\n",
      "불안한 : 1\n",
      "클릭하세요 : 1\n",
      "별자리 : 2\n",
      "주의 : 1\n",
      "10@@11 : 2\n",
      "바로이동 : 1\n",
      "화제작 : 1\n",
      "상반기 : 1\n",
      "기존 : 1\n",
      "홈 : 3\n",
      "방송/통신 : 1\n",
      "체크 : 1\n",
      "고객센터 : 1\n",
      "주제형캐스트 : 1\n",
      "개봉예정작 : 1\n",
      "사이트로 : 1\n",
      "다이어리 : 1\n",
      "때는 : 1\n",
      "제공되지 : 1\n",
      "홀로 : 1\n",
      "자주 : 2\n",
      "http://nv1.ad.naver.com/adshow?unit=002AN&nrefreshx=0 : 1\n",
      "기사보기 : 1\n",
      "앱 : 3\n",
      "열기 : 2\n",
      "15.9℃ : 1\n",
      "설치된 : 1\n",
      "url\":\"http://weather.naver.com : 1\n",
      "된 : 1\n",
      "LogError(\"[JSON : 1\n",
      "자동차 : 1\n",
      "종합/경제 : 1\n",
      "24.0℃ : 3\n",
      "전문보기 : 2\n",
      "국어사전 : 1\n",
      "뉴스스탠드 : 2\n",
      "주요언론사 : 2\n",
      "a.description)}}}},removeUrl:function(a){for(var : 1\n",
      "Caps : 2\n",
      "설정된 : 1\n",
      "설치하세요 : 1\n",
      "17.1℃ : 1\n",
      "부동산 : 2\n",
      "기온 : 2\n",
      "생활날씨 : 1\n",
      "닫기 : 6\n",
      "이용약관 : 1\n",
      "폰트를 : 1\n",
      "http://nv2.ad.naver.com/adshow?unit=002AP&nrefreshx=0 : 1\n",
      "구름많음 : 8\n",
      "켤 : 1\n",
      "신아영상승360 : 1\n",
      "만드는 : 1\n",
      "카테고리 : 1\n",
      "대체로 : 2\n",
      "공지사항 : 1\n",
      "신고검색어저장 : 4\n",
      "문화 : 1\n",
      "삭제완료 : 1\n",
      "이용을 : 1\n",
      "39;빽 : 1\n",
      "않고 : 1\n",
      "인디극장 : 1\n",
      "상남자가 : 1\n",
      "띠별 : 2\n",
      "초등학생 : 1\n",
      "경우에 : 1\n",
      "8@℃ : 2\n",
      "통합검색 : 1\n",
      "조승연상승585 : 2\n",
      "txt : 1\n",
      "true}}return : 1\n",
      "앱을 : 1\n",
      "정책 : 2\n",
      "슬리핑 : 1\n",
      "뉴스 : 5\n",
      "window.localStorage!=\"undefined\"){try{window.localStorage.clear()}catch(a){if(a.description){LogError(\"[DL : 1\n",
      "6 : 2\n",
      "type : 2\n",
      "이전캐스트다음캐스트 : 1\n",
      "女 : 1\n",
      "전국의 : 1\n",
      "라이프 : 1\n",
      "대한 : 1\n",
      "로이킴 : 1\n",
      "개인정보 : 1\n",
      "개인정보취급방침 : 1\n",
      "isSupportedFlicking : 1\n",
      "인물 : 1\n",
      "검색어를 : 1\n",
      "39;내부자들&#39 : 1\n",
      "있습니다.추가하시려면 : 1\n",
      "웹문서 : 1\n",
      "급상승 : 1\n",
      "none : 1\n",
      "대해 : 1\n",
      "뮨 : 1\n",
      "건강 : 1\n",
      "a=b.readyState;if(typeof : 1\n",
      "10.22.(목 : 1\n",
      "8위 : 1\n",
      "18.0℃ : 2\n",
      "sqare.json.11 : 1\n",
      "북스 : 1\n",
      "정준영 : 1\n",
      "메뉴 : 2\n",
      "촬영장 : 1\n",
      "달의 : 1\n",
      "저장되지 : 1\n",
      "소프트웨어야 : 1\n",
      "나눔글꼴로 : 1\n",
      "strHost : 1\n",
      "7위 : 1\n",
      "않습니다.자세히보기 : 1\n",
      "나만의 : 1\n",
      "글꼴설정 : 2\n",
      "삭제검색어저장 : 2\n",
      "뜻 : 1\n",
      "1 : 2\n",
      "카페 : 2\n",
      "밤 : 1\n",
      "c=0;c : 1\n",
      "증권 : 1\n",
      "아이디 : 1\n",
      "반드시 : 1\n",
      "영자지 : 1\n",
      "기록 : 3\n",
      "가능합니다 : 2\n",
      "차유람상승159 : 1\n",
      "누이 : 1\n",
      "않은 : 1\n",
      "편 : 1\n",
      "Lock이 : 2\n",
      "입력하신 : 1\n",
      "스포츠/연예 : 1\n",
      "이동 : 1\n",
      "구름조금 : 13\n",
      "Image();a.src=\"http://cecs.naver.com/?m=\"+b+\"&u=\"+document.location+\"&l=1115\"};DLScript={quSXI:new : 1\n",
      "검색어는 : 1\n",
      "생각한대로 : 1\n",
      "런칭 : 1\n",
      "로이킴상승222 : 1\n",
      "22.0℃ : 3\n",
      "LogError=function(b){var : 1\n",
      "국민행복캠페인 : 1\n",
      "14.0℃ : 2\n",
      "위해서는&nbsp;나눔글꼴을 : 1\n",
      "연합뉴스 : 1\n",
      "개인 : 2\n",
      "운세 : 6\n",
      "보내기 : 1\n",
      "검색결과 : 1\n",
      "더 : 2\n",
      "주요뉴스를 : 1\n",
      "대학생들에게 : 1\n",
      "2015 : 1\n",
      "용어사전 : 1\n",
      "않는 : 1\n",
      "시작페이지로 : 1\n",
      "질문형 : 1\n",
      "매거진/전문지 : 1\n",
      "법 : 1\n",
      "배우를 : 1\n",
      "검색어로 : 1\n",
      "오늘의 : 1\n",
      "차/테크 : 1\n",
      "몬스터 : 1\n",
      "지식iN : 2\n",
      "게임 : 2\n",
      "되지 : 1\n",
      "생년월일 : 2\n",
      "쾌투·19안타 : 1\n",
      "노래 : 1\n",
      "매력 : 1\n",
      "위해서는플래시 : 1\n",
      "무료 : 1\n",
      "영화홈 : 1\n",
      "9시 : 1\n",
      "상승장 : 1\n",
      "생활 : 1\n",
      "빠른 : 1\n",
      "17.9℃ : 1\n",
      "무빙 : 1\n",
      "전송은 : 1\n",
      "경제증권 : 1\n",
      "버튼을 : 1\n",
      "NAVER : 2\n",
      "사용하고 : 1\n",
      "입력 : 1\n",
      "놀자 : 1\n",
      "최근검색어 : 1\n",
      "만나는 : 1\n",
      "돌파의 : 1\n",
      "아더 : 1\n",
      "비밀번호 : 1\n",
      "맑고…동해안 : 2\n",
      "합니다.나눔글꼴을 : 1\n",
      "못하면 : 1\n",
      "내PC : 1\n",
      "회원가입 : 1\n",
      "7 : 2\n",
      "지원책 : 1\n",
      "취소 : 2\n",
      "검색어를내 : 1\n",
      "특종 : 1\n",
      "NPay : 1\n",
      "지워주세요 : 1\n",
      "울보 : 1\n",
      "23.0℃ : 2\n",
      "무료입니다 : 1\n",
      "쇼핑 : 2\n",
      "커플이 : 1\n",
      "Array(),quS:new : 1\n",
      "유형 : 1\n",
      "인 : 1\n",
      "에디킴상승507 : 1\n",
      "발생합니다 : 1\n",
      "공익/나눔 : 1\n",
      "선택 : 1\n",
      "싶은 : 1\n",
      "10/12 : 1\n",
      "지도 : 2\n",
      "잭맨&#39 : 1\n",
      "짚은 : 1\n",
      "13.0℃ : 5\n",
      "지역설정 : 1\n",
      "해피빈|쥬니버|한게임 : 1\n",
      "보세요 : 2\n",
      "구독설정 : 1\n",
      "비하인드 : 1\n",
      "mismatch_before@@match@@mismatch_after : 2\n",
      "어땠나 : 1\n",
      "조성진상승255 : 1\n",
      "TV캐스트 : 1\n",
      "이산상봉 : 1\n",
      "isLogin : 1\n",
      "10개 : 1\n",
      "회사소개 : 1\n",
      "isIPAD : 1\n",
      "현재시스템글꼴 : 1\n",
      "in_txt : 1\n",
      "동물이 : 1\n",
      "투데이 : 1\n",
      "보호를 : 1\n",
      "url\":\"http://finance.naver.com : 1\n",
      "로그아웃을 : 1\n",
      "고객님의 : 1\n",
      "웹툰 : 2\n",
      "copy : 1\n",
      "최대 : 1\n",
      "날씨 : 1\n",
      "뮤직 : 3\n",
      "도움말 : 7\n",
      "12 : 1\n",
      "14.4℃ : 1\n",
      "PC에서는 : 1\n",
      "미리보기 : 1\n",
      "라디오스타 : 1\n",
      "네이버를 : 1\n",
      "false : 5\n",
      "모든 : 2\n",
      "무료로 : 2\n",
      "15.5℃ : 2\n",
      "전세 : 1\n",
      "null : 1\n",
      "박스오피스 : 1\n",
      "오류 : 1\n",
      "사전 : 2\n",
      "등록를 : 1\n",
      "절친이 : 1\n",
      "기업을 : 2\n",
      "내일오후 : 12\n",
      "없습니다 : 1\n",
      "요정 : 1\n",
      "만나다 : 1\n",
      "메인에서 : 1\n",
      "39;오늘&#39 : 1\n",
      "켜기 : 5\n",
      "있습니다 : 5\n",
      "clearLS : 1\n",
      "39;로라키니&#39 : 1\n",
      "b>=0;b--){if(this.quS[b]===a){this.quS[b : 1\n",
      "1위 : 2\n",
      "4위 : 2\n",
      "번호는 : 1\n",
      "행복시간표 : 1\n",
      "오픈캐스트 : 2\n",
      "useWideLoginboxFlash=true : 1\n",
      "메인을 : 2\n",
      "조정석 : 1\n",
      "량첸살인기 : 1\n",
      "일회용 : 1\n",
      "울버린 : 1\n",
      "현재상영작 : 1\n",
      "3위 : 2\n",
      "상태 : 1\n",
      "배우는소프트웨어 : 1\n",
      "KS행 : 1\n",
      "공모전 : 1\n",
      "지역 : 2\n",
      "극장판 : 1\n",
      "찾기 : 1\n",
      "N드라이브 : 1\n",
      "10.0℃ : 1\n",
      "사용 : 2\n",
      "현재 : 15\n",
      "포토예고 : 1\n",
      "때 : 1\n",
      "8 : 1\n",
      "퓨처2&#39 : 1\n",
      "다시 : 3\n",
      "검색등록 : 1\n",
      "clearLS:function(){if(typeof : 1\n",
      "검색 : 2\n",
      "자동완성 : 10\n",
      "김구라 : 1\n",
      "13 : 1\n",
      "러브 : 1\n",
      "구독목록 : 1\n",
      "우리 : 1\n",
      "재보궐선거 : 1\n",
      "b=this.quS.length-1 : 2\n",
      "서울 : 1\n",
      "영상 : 3\n",
      "신규 : 1\n",
      "initPage : 1\n",
      "지금은맞고그때는틀리다 : 1\n",
      "5백만 : 1\n",
      "qst_idx=1 : 1\n",
      "예고 : 1\n",
      "등록@txt@@date@.삭제@in_txt : 1\n",
      "수 : 2\n",
      "6@원@10 : 1\n",
      "실시간 : 1\n",
      "中 : 1\n",
      "네이버뉴스|연예|스포츠|경제|랭킹뉴스 : 1\n",
      "광고 : 3\n",
      "알림 : 1\n",
      "전체 : 2\n",
      "19.0℃ : 1\n",
      "저녁 : 1\n",
      "L\",\"shortcut\":{\"name\":\"날씨 : 1\n",
      "9위 : 1\n",
      "영어사전 : 1\n",
      "lcs_do(refreshLcs : 1\n",
      "종료에 : 1\n",
      "etc;}return : 1\n",
      "대니 : 1\n",
      "솜뭉치 : 1\n",
      "E\",\"shortcut\":{\"name\":\"금융 : 1\n",
      "해제@txt : 1\n",
      "자승자강의 : 1\n",
      "된다 : 1\n",
      "검색해 : 1\n",
      "주제별캐스트 : 1\n",
      "15.0℃ : 1\n",
      "설치해야 : 1\n",
      "공용 : 1\n",
      "메일 : 1\n",
      "2위 : 2\n",
      "주세요 : 1\n",
      "다음 : 1\n",
      "PC에서 : 1\n",
      "선거일까지 : 1\n",
      "백과사전 : 1\n",
      "선택하여 : 1\n",
      "나눔글꼴 : 7\n",
      "15.1℃ : 1\n",
      "앱스토어new : 1\n",
      "전체언론사 : 2\n",
      "해 : 1\n",
      "헤어질 : 1\n",
      "다운로드URL : 2\n",
      "검색어 : 10\n",
      "살아남은 : 1\n",
      "신청하세요 : 1\n",
      "다운로드 : 3\n",
      "통합검색에서의 : 1\n",
      "charset=utf-8\");k.setRequestHeader(\"charset\",\"utf-8\");k.send : 1\n",
      "최근검색어내 : 1\n",
      "최초 : 1\n",
      "활성화되었습니다 : 1\n",
      "Beta : 1\n",
      "설정 : 1\n",
      "한자사전 : 1\n",
      "계십니다 : 1\n",
      "서로에게 : 1\n",
      "14.6℃ : 2\n",
      "내일오전 : 12\n",
      "39;마크 : 1\n",
      "false},_runOnload:function(b,d,c){if(!d){return}var : 1\n",
      "생활위젯 : 1\n",
      "음악 : 1\n",
      "6@@7@@8@@9@@10@@11@+@12 : 1\n",
      "확인 : 1\n",
      "웨스트 : 1\n",
      "‘버팀목대출’ : 1\n",
      "보기 : 2\n",
      "흐림 : 2\n",
      "삭제한 : 1\n",
      "울지 : 1\n",
      "a===\"undefined\"&&!b.onloadDone){b.onloadDone=true;(c)?setTimeout(d,100):b.onload=d : 1\n",
      "isMyCast : 1\n",
      "39;마블&#39 : 1\n",
      "이유는 : 1\n",
      "상영 : 1\n",
      "차유람 : 1\n",
      "라디오스타상승60 : 1\n",
      "20.0℃ : 1\n",
      "10월 : 1\n",
      "쓰는 : 1\n",
      "슬로우 : 1\n",
      "qst_size=2 : 1\n",
      "완벽한 : 1\n",
      "행복검색 : 1\n",
      "정준영상승180 : 1\n",
      "e.description : 1\n",
      "교육을 : 1\n",
      "보기위해서는나눔글꼴 : 1\n",
      "넘을까 : 1\n",
      "무비토크 : 1\n",
      "서비스 : 2\n",
      "까지 : 1\n",
      "html : 2\n",
      "아이디찾기/비밀번호 : 1\n",
      "내역이 : 1\n",
      "9 : 3\n",
      "필요합니다 : 1\n",
      "경우 : 1\n",
      "헌트 : 1\n",
      "김소정상승564 : 1\n",
      "다양성 : 1\n",
      "문자받기 : 2\n",
      "바로 : 2\n",
      "IT : 1\n",
      "프로방스 : 1\n",
      "펼치기 : 1\n",
      "전문자료 : 1\n",
      "더보기 : 2\n",
      "영화 : 8\n",
      "확인되지 : 2\n",
      "네이버me : 1\n",
      "최초설치가 : 1\n",
      "42주차 : 1\n",
      "맑음 : 12\n",
      "위치 : 1\n",
      "급감 : 1\n",
      "재설치가 : 1\n",
      "동영상 : 1\n",
      "전체보기 : 1\n",
      "신아영 : 1\n",
      "17.3℃ : 1\n",
      "되고 : 1\n",
      "이전페이지다음페이지 : 2\n",
      "패밀리 : 1\n",
      "전하는 : 1\n",
      "공개 : 2\n",
      "바로가기 : 5\n",
      "21일 : 1\n",
      "국내 : 1\n",
      "투 : 1\n",
      "김소정 : 1\n",
      "refreshLcs(etc : 1\n",
      "설치해주세요.설치방법 : 1\n",
      "궁금해 : 1\n",
      "6위 : 1\n",
      "돼지갈비구이 : 1\n",
      "검색어가 : 1\n",
      "카페글 : 1\n",
      "10/18 : 1\n",
      "찾는 : 1\n",
      "말자 : 1\n",
      "2단계 : 1\n",
      "약관 : 1\n",
      "라인 : 1\n",
      "IP보안 : 2\n",
      "a=new : 1\n",
      "가볍고 : 1\n",
      "이유 : 1\n",
      "13.8℃ : 1\n",
      "티저 : 1\n",
      "랍스터 : 1\n",
      "관객 : 1\n",
      "b>=0;b--){if(this.quS[b]===a){return : 1\n",
      "주제별 : 1\n",
      "2015년 : 1\n",
      "5위 : 2\n",
      "1승 : 1\n",
      "책 : 3\n",
      "타임스퀘어 : 2\n",
      "위드 : 1\n",
      "12.6℃ : 1\n",
      "일본어사전 : 1\n",
      "와트니&#39 : 1\n",
      "뉴스/이슈TV : 1\n",
      "끄기 : 7\n",
      "return}if((\"loaded\"===a||\"complete\"===a)&&!b.onloadDone){b.onloadDone=true;setTimeout(d,100)}else{if(this.retry0)?\"&\"+i:\"?\"+i}k.open(\"GET\",c+l,true);k.setRequestHeader(\"Content-Type\",\"application/x-www-form-urlencoded : 1\n",
      "비 : 3\n",
      "설치 : 3\n",
      "임의로 : 1\n",
      "10위 : 1\n",
      "포함 : 2\n",
      "www.naver.com : 1\n",
      "영상&#39;셜록&#39 : 1\n",
      "주간예보 : 2\n",
      "속 : 1\n",
      "네이버SE : 1\n",
      "39;조정석&#39;이 : 2\n",
      "마션 : 1\n",
      "에디킴 : 1\n",
      "2/3 : 1\n",
      "image7 : 1\n",
      "및 : 3\n",
      "TV/동영상 : 1\n",
      "조성진 : 1\n",
      "보안로그인 : 1\n",
      "매거진 : 1\n",
      "else{if(g){setTimeout(g,100)}}},injectScripts:function(){var : 1\n",
      "네이버캐스트 : 1\n",
      "VDT증후군 : 1\n",
      "라이센스 : 2\n",
      "내 : 6\n",
      "부르는 : 1\n",
      "12.0℃ : 2\n",
      "블로그 : 2\n",
      "권투부 : 1\n",
      "if(document.cookie.indexOf(\"nrefreshx=1 : 1\n",
      "8/12 : 1\n",
      "검색홈 : 1\n",
      "MY뉴스 : 1\n",
      "문화콘텐츠공모전에 : 1\n",
      "NC : 1\n",
      "긍정부정검색 : 1\n",
      "켜져 : 2\n",
      "var : 10\n",
      "Corp : 1\n",
      "네이버 : 14\n",
      "function : 1\n",
      "기능을 : 2\n",
      "영영사전 : 1\n",
      "레이어 : 5\n",
      "플레이어를 : 1\n",
      "저장 : 2\n",
      "후보에 : 1\n",
      "손민한 : 1\n",
      "안내 : 3\n",
      "설치하시겠습니까 : 2\n",
      "포토 : 3\n",
      "5@회차 : 1\n",
      "스포츠 : 2\n",
      "아이디어 : 1\n",
      "쇼핑캐스트 : 2\n",
      "사이트 : 3\n",
      "없습니다.최근검색어에서 : 1\n",
      "지속에도 : 1\n",
      "기능이 : 5\n",
      "메인뉴스 : 1\n",
      "청소년보호정책 : 1\n",
      "공연 : 1\n",
      "않습니다.나눔글꼴로 : 1\n",
      "예고편 : 2\n",
      "catch : 1\n",
      "화성에 : 1\n",
      "카페명 : 1\n",
      "소년들 : 1\n",
      "있어요 : 1\n",
      "6천 : 1\n",
      "이야기 : 1\n",
      "10/26 : 1\n",
      "언론사별 : 1\n",
      "제대로완료되지 : 1\n",
      "사용자가 : 2\n",
      "4월29일 : 1\n",
      "저장할 : 1\n",
      "Array(),retry:0,isLoad:function(a){for(var : 1\n",
      "etc=etc?etc:{};etc[\"mrf\"]=\"1\";return : 1\n",
      "5 : 4\n",
      "이미지 : 1\n",
      "휴대폰번호 : 1\n",
      "저장해 : 1\n",
      "isMobile : 1\n",
      "포인트 : 1\n",
      "꺼져 : 3\n",
      "콜린스 : 1\n",
      "매체보기 : 1\n",
      "잘못 : 1\n",
      "조승연 : 1\n",
      "제휴제안 : 1\n",
      "이전다음 : 1\n",
      "전시회 : 1\n",
      "a=DLScript.quSXI.length;for(var : 1\n",
      "로그인 : 5\n",
      "e : 1\n",
      "25.0℃ : 1\n",
      "김구라상승207 : 1\n",
      "SW교육 : 1\n",
      "이전 : 1\n",
      "svr : 1\n"
     ]
    }
   ],
   "source": [
    "import urllib2\n",
    "\n",
    "source = urllib2.urlopen(\"http://www.naver.com\").read()\n",
    "source2 = \"\"\n",
    "i = 0\n",
    "\n",
    "while i < len(source):\n",
    "    if source[i] == '<':\n",
    "        while True:\n",
    "            i += 1\n",
    "            if source[i] == '>':\n",
    "                break\n",
    "    else:\n",
    "        source2 +=  source[i]\n",
    "        #print source[i],\n",
    "    i += 1\n",
    "    \n",
    "L = source2.split()\n",
    "    \n",
    "import string\n",
    "\n",
    "#구두점 없애주어야 한다.\n",
    "for k in range(0, len(L)):\n",
    "    L[k] = L[k].strip(string.punctuation)\n",
    "\n",
    "#빈칸을 없애주어야 한다.\n",
    "count = 0\n",
    "for k in range(0, len(L)):\n",
    "    if(L[k] == ''):\n",
    "        count += 1\n",
    "        \n",
    "for k in range(0, count):\n",
    "    L.remove('')\n",
    "\n",
    "#출현 빈도를 사전 형태로\n",
    "#(참고)http://www.flowdas.com/thinkpython/11-dictionaries/\n",
    "d = dict()\n",
    "\n",
    "for c in L:\n",
    "    if c not in d:\n",
    "        d[c] = 1\n",
    "    else:\n",
    "        d[c] += 1\n",
    "\n",
    "keys = d.keys()\n",
    "values = d.values()\n",
    "\n",
    "for i in range(len(keys)):\n",
    "    print keys[i], ':' ,values[i]\n",
    "\n"
   ]
  },
  {
   "cell_type": "markdown",
   "metadata": {
    "collapsed": false
   },
   "source": [
    "소감문\n",
    "\n",
    "이번 과제는 시험기간과 겹쳐서 그런지 시간이 많이 촉박했습니다. Incremental Project와 어느 정도 할만 했지만 오일러 프로젝트가 너무 어려웠습니다. 문제 7번 마지막 두 문제는 구글링을 통해 도움을 받았고(링크), 오일러 문제 9번이 아이디어가 떠오르지 않아 못풀었습니다. 비록 모르는 상태로 제출했지만 계속해서 풀어보고 다음 과제와 함께 같이 제출하겠습니다."
   ]
  },
  {
   "cell_type": "code",
   "execution_count": null,
   "metadata": {
    "collapsed": true
   },
   "outputs": [],
   "source": []
  }
 ],
 "metadata": {
  "kernelspec": {
   "display_name": "Python 2",
   "language": "python",
   "name": "python2"
  },
  "language_info": {
   "codemirror_mode": {
    "name": "ipython",
    "version": 2
   },
   "file_extension": ".py",
   "mimetype": "text/x-python",
   "name": "python",
   "nbconvert_exporter": "python",
   "pygments_lexer": "ipython2",
   "version": "2.7.9"
  }
 },
 "nbformat": 4,
 "nbformat_minor": 0
}
