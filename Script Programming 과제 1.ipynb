{
 "cells": [
  {
   "cell_type": "markdown",
   "metadata": {},
   "source": [
    "# Script Programming 과제1"
   ]
  },
  {
   "cell_type": "markdown",
   "metadata": {},
   "source": [
    "문제 1) a=\"Hello Python\" 문자열을 Slicing과 연결 연산자 (+)를 사용하여 \"Python Hello\"로 변경하시오.\n",
    "\n",
    "   ◎[주의] a 변수 자체에 \"Python Hello\" 문자열이 저장되어야 함"
   ]
  },
  {
   "cell_type": "code",
   "execution_count": 19,
   "metadata": {
    "collapsed": false
   },
   "outputs": [
    {
     "name": "stdout",
     "output_type": "stream",
     "text": [
      "Python Hello\n"
     ]
    }
   ],
   "source": [
    "a = \"Hello Python\"\n",
    "\n",
    "a = a[6:] + ' ' + a[:5]\n",
    "\n",
    "print a"
   ]
  },
  {
   "cell_type": "markdown",
   "metadata": {},
   "source": [
    "\n",
    "\n",
    "\n",
    "문제 2) b=\"Hello Python World\" 문자열을 Slicing과 연결 연산자 (+)를 사용하여 \"World Python Hello\"로 변경하시오. \n",
    "\n",
    "   ◎[주의] b 변수 자체에 \"Python Hello\" 문자열이 저장되어야 함"
   ]
  },
  {
   "cell_type": "code",
   "execution_count": 25,
   "metadata": {
    "collapsed": false
   },
   "outputs": [
    {
     "name": "stdout",
     "output_type": "stream",
     "text": [
      "World Python Hello\n"
     ]
    }
   ],
   "source": [
    "b = \"Hello Python World\"\n",
    "\n",
    "w = b[13:]\n",
    "\n",
    "b = b[6:12] + ' ' + b[:5]\n",
    "\n",
    "print w + ' ' + b"
   ]
  },
  {
   "cell_type": "markdown",
   "metadata": {},
   "source": [
    "문제 3) c=\"Hello\"를 \"olleH\"로 변경하시오.\n",
    "\n",
    "   ◎[주의] c 변수 자체에 \"olleH\" 문자열이 저장되어야 함"
   ]
  },
  {
   "cell_type": "code",
   "execution_count": 9,
   "metadata": {
    "collapsed": false
   },
   "outputs": [
    {
     "name": "stdout",
     "output_type": "stream",
     "text": [
      "olleH\n"
     ]
    }
   ],
   "source": [
    "c = \"Hello\"\n",
    "\n",
    "c = c[::-1]\n",
    "\n",
    "print c"
   ]
  },
  {
   "cell_type": "markdown",
   "metadata": {},
   "source": [
    "문제 4) s=\"python\"에 대해 다음 문제를 풀어보시오.\n",
    "\n",
    "① s[0], s[0][0], s[0][0][0]은 각각 어떤 값이 나오는지 확인하고 그 이유를 나름대로 설명해 보시오."
   ]
  },
  {
   "cell_type": "code",
   "execution_count": 10,
   "metadata": {
    "collapsed": false
   },
   "outputs": [
    {
     "name": "stdout",
     "output_type": "stream",
     "text": [
      "p p p\n"
     ]
    }
   ],
   "source": [
    "s = \"python\"\n",
    "\n",
    "print s[0], s[0][0], s[0][0][0]"
   ]
  },
  {
   "cell_type": "markdown",
   "metadata": {},
   "source": [
    "설명 : 문자열은 시퀀스(순차자료)형으로 인덱스가 붙는다. 따라서 차례대로 p[0] y[1] t[2] h[3] o[4] n[5] 가 된다.\n",
    "\n"
   ]
  },
  {
   "cell_type": "markdown",
   "metadata": {},
   "source": [
    "② s[-100], s[100]은 값이 나오는지 에러가 나오는지 확인하고 그 결과에 대한 이유를 나름대로 설명해 보시오."
   ]
  },
  {
   "cell_type": "code",
   "execution_count": 17,
   "metadata": {
    "collapsed": false
   },
   "outputs": [
    {
     "ename": "IndexError",
     "evalue": "string index out of range",
     "output_type": "error",
     "traceback": [
      "\u001b[1;31m---------------------------------------------------------------------------\u001b[0m",
      "\u001b[1;31mIndexError\u001b[0m                                Traceback (most recent call last)",
      "\u001b[1;32m<ipython-input-17-feab9dd2ec30>\u001b[0m in \u001b[0;36m<module>\u001b[1;34m()\u001b[0m\n\u001b[0;32m      1\u001b[0m \u001b[0ms\u001b[0m \u001b[1;33m=\u001b[0m \u001b[1;34m\"python\"\u001b[0m\u001b[1;33m\u001b[0m\u001b[0m\n\u001b[0;32m      2\u001b[0m \u001b[1;33m\u001b[0m\u001b[0m\n\u001b[1;32m----> 3\u001b[1;33m \u001b[1;32mprint\u001b[0m \u001b[0ms\u001b[0m\u001b[1;33m[\u001b[0m\u001b[1;33m-\u001b[0m\u001b[1;36m100\u001b[0m\u001b[1;33m]\u001b[0m\u001b[1;33m\u001b[0m\u001b[0m\n\u001b[0m\u001b[0;32m      4\u001b[0m \u001b[1;32mprint\u001b[0m \u001b[0ms\u001b[0m\u001b[1;33m[\u001b[0m\u001b[1;36m100\u001b[0m\u001b[1;33m]\u001b[0m\u001b[1;33m\u001b[0m\u001b[0m\n",
      "\u001b[1;31mIndexError\u001b[0m: string index out of range"
     ]
    }
   ],
   "source": [
    "s = \"python\"\n",
    "\n",
    "print s[-100]\n",
    "print s[100]"
   ]
  },
  {
   "cell_type": "markdown",
   "metadata": {},
   "source": [
    "설명 : 문자열은 시퀀스(순차자료)형으로 인덱스가 붙는다. 따라서 차례대로 p[0] y[1] t[2] h[3] o[4] n[5] 가 된다. 그런데 문제에서 주어진 수는 -100과 100으로 5를 초과하기 때문에 오류가 뜬다."
   ]
  },
  {
   "cell_type": "markdown",
   "metadata": {},
   "source": [
    "③ s[-100, 100]은 값이 나오는지 에러가 나오는지 확인하고 그 결과에 대한 이유를 나름대로 설명해 보시오."
   ]
  },
  {
   "cell_type": "code",
   "execution_count": 18,
   "metadata": {
    "collapsed": false
   },
   "outputs": [
    {
     "name": "stdout",
     "output_type": "stream",
     "text": [
      "python\n"
     ]
    }
   ],
   "source": [
    "s = \"python\"\n",
    "\n",
    "print s[-100:100]"
   ]
  },
  {
   "cell_type": "markdown",
   "metadata": {},
   "source": [
    "설명 : 문자열은 시퀀스(순차자료)형으로 인덱스가 붙는다. 따라서 차례대로 p[0] y[1] t[2] h[3] o[4] n[5] 가 된다. 주어진 범위(-100 ~ 100) 안에 해당 범위가 포함되므로 출력이 된다."
   ]
  },
  {
   "cell_type": "markdown",
   "metadata": {},
   "source": [
    "④ s[1:-1]의 결과를 확인하고 그 결과에 대한 이유를 정확하게 설명하시오."
   ]
  },
  {
   "cell_type": "code",
   "execution_count": 20,
   "metadata": {
    "collapsed": false
   },
   "outputs": [
    {
     "name": "stdout",
     "output_type": "stream",
     "text": [
      "ytho\n"
     ]
    }
   ],
   "source": [
    "s = \"python\"\n",
    "\n",
    "print s[1:-1]"
   ]
  },
  {
   "cell_type": "markdown",
   "metadata": {},
   "source": [
    "설명 : 문자열은 시퀀스(순차자료)형으로 인덱스가 붙는다. 따라서 차례대로 p[0] y[1] t[2] h[3] o[4] n[5] 가 된다. s[1:-1]에서 1은 y가 해당이되고, -1은 n이 해당이된다. 하지만 s[a:b]의 형태에서 a는 포함, b는 포함되지 않으므로 ytho만 출력되게 된다."
   ]
  },
  {
   "cell_type": "markdown",
   "metadata": {},
   "source": [
    "⑤ s[3:-3]의 결과를 확인하고 그 결과에 대한 이유를 정확하게 설명하시오."
   ]
  },
  {
   "cell_type": "code",
   "execution_count": 27,
   "metadata": {
    "collapsed": false
   },
   "outputs": [
    {
     "name": "stdout",
     "output_type": "stream",
     "text": [
      "\n"
     ]
    }
   ],
   "source": [
    "s = \"python\"\n",
    "\n",
    "print s[3:-3]"
   ]
  },
  {
   "cell_type": "markdown",
   "metadata": {},
   "source": [
    "설명 : 문자열은 시퀀스(순차자료)형으로 인덱스가 붙는다. 따라서 차례대로 p[0] y[1] t[2] h[3] o[4] n[5] 가 된다. s[3:-3]에서 3은 h가 해당이되고, -3도 h에 해당이된다. 하지만 s[a:b]의 형태에서 a는 포함, b는 포함되지 않으므로 아무것도 출력되지 않게 된다."
   ]
  },
  {
   "cell_type": "markdown",
   "metadata": {},
   "source": [
    "문제 5) for문을 활용하여 1부터 100사이의 홀수를 출력하시오.\n"
   ]
  },
  {
   "cell_type": "code",
   "execution_count": 32,
   "metadata": {
    "collapsed": false
   },
   "outputs": [
    {
     "name": "stdout",
     "output_type": "stream",
     "text": [
      "1 3 5 7 9 11 13 15 17 19 21 23 25 27 29 31 33 35 37 39 41 43 45 47 49 51 53 55 57 59 61 63 65 67 69 71 73 75 77 79 81 83 85 87 89 91 93 95 97 99\n"
     ]
    }
   ],
   "source": [
    "for x in range(100):\n",
    "    if x % 2 == 1:\n",
    "        print x, "
   ]
  },
  {
   "cell_type": "markdown",
   "metadata": {},
   "source": [
    "설명 : for x int range(100)는 1부터 100까지의 숫자를 말한다. 여기서 if x % 2 == 1은 2로 나누었을 때 나머지가 1인 수, 즉 홀수 일때를 말한다. 따라서 이에 해당하는 수만 print를 이용해서 출력해준다."
   ]
  },
  {
   "cell_type": "markdown",
   "metadata": {},
   "source": [
    "문제 6) while문을 활용하여 1부터 100사이의 짝수의 합을 계산하여 출력하시오."
   ]
  },
  {
   "cell_type": "code",
   "execution_count": 39,
   "metadata": {
    "collapsed": false
   },
   "outputs": [
    {
     "name": "stdout",
     "output_type": "stream",
     "text": [
      "2550\n"
     ]
    }
   ],
   "source": [
    "x = 0\n",
    "sum = 0\n",
    "\n",
    "while x <= 100:\n",
    "    if x % 2 == 0:\n",
    "        sum = sum + x\n",
    "    x = x + 1\n",
    "        \n",
    "print sum"
   ]
  },
  {
   "cell_type": "markdown",
   "metadata": {},
   "source": [
    "설명 : while문을 통해 1부터 100까지를 순환하게 한다. 순환이 이루어지면서 x % 2 == 0인 경우, 즉, 짝수인 경우를 찾아 sum에 더해준 후 x의 값을 1 증가시킨다. 이후 whlie문이 모두 순환하게 되면 print를 이용해 sum을 출력해 준다."
   ]
  },
  {
   "cell_type": "markdown",
   "metadata": {},
   "source": [
    "문제 7) 사용자로 부터 임의의 정수를 입력받고, 해당 숫자를 역순으로 출력하는 프로그램을 작성하시오.\n",
    "\n",
    "[실행 예]\n",
    "\n",
    "정수를 입력하세요: 3125\n",
    "\n",
    "숫자 역순은 5213 입니다."
   ]
  },
  {
   "cell_type": "code",
   "execution_count": 46,
   "metadata": {
    "collapsed": false
   },
   "outputs": [
    {
     "name": "stdout",
     "output_type": "stream",
     "text": [
      "Enter the number : 1231234\n",
      "4321321\n"
     ]
    }
   ],
   "source": [
    "a = raw_input('Enter the number : ')\n",
    "\n",
    "a = a[::-1]\n",
    "\n",
    "print a"
   ]
  },
  {
   "cell_type": "markdown",
   "metadata": {},
   "source": [
    "설명 : 문자열 입력 내장함수인 raw_input()을 이용해 정수를 받는다. 이후 a[::-1]을 이용하여 a 객체 안에 거꾸로 된 수를 넣어준다. 이후 print를 이용해 출력한다."
   ]
  },
  {
   "cell_type": "markdown",
   "metadata": {},
   "source": [
    "문제8) 사용자로 부터 정수를 입력받아서 1부터 그 사이에 존재하는 소수 (Prime number)를 출력하는 파이썬 프로그램을 작성하시오.\n"
   ]
  },
  {
   "cell_type": "code",
   "execution_count": 23,
   "metadata": {
    "collapsed": false
   },
   "outputs": [
    {
     "name": "stdout",
     "output_type": "stream",
     "text": [
      "Enter the number : 10\n",
      "2 3 5 7\n"
     ]
    }
   ],
   "source": [
    "a = int(raw_input('Enter the number : '))\n",
    "\n",
    "for x in range(2, a + 1):\n",
    "    for y in range(2, x + 1):\n",
    "        if x % y == 0:\n",
    "            break\n",
    "    if x == y:\n",
    "        print x,"
   ]
  },
  {
   "cell_type": "markdown",
   "metadata": {},
   "source": [
    "설명 : 문자열 입력 내장함수인 raw_input()을 int형으로 바꾸어 준 후, 중첩된 for문과 if문을 이용해 소수를 출력하도록 한다. 주의할 것으로는 for문에서 range에 마지막 범위를 a+1로 해주어야 한다는 것(a를 포함시키기 위해서), 소수는 약수로 1과 자기자신 밖에 없는 성질을 이용하여 x를 y로 나누었을 때 나머지가 0이면 break를 작동시킨다. 그리고 x와 y의 값이 같으면 출력하는 형식으로 구성해준다."
   ]
  },
  {
   "cell_type": "markdown",
   "metadata": {},
   "source": [
    "오일러프로젝트 1번)\n",
    "\n",
    " 10보다 작은 자연수 중에서 3 또는 5의 배수는 3, 5, 6, 9 이고, 이것을 모두 더하면 23입니다. 1000보다 작은 자연수 중에서 3 또는 5의 배수를 모두 더하면 얼마일까요?\n"
   ]
  },
  {
   "cell_type": "code",
   "execution_count": 55,
   "metadata": {
    "collapsed": false
   },
   "outputs": [
    {
     "name": "stdout",
     "output_type": "stream",
     "text": [
      "233168\n"
     ]
    }
   ],
   "source": [
    "sum = 0\n",
    "\n",
    "for x in range(1000) :\n",
    "    if x % 3 == 0 or x % 5 == 0 :\n",
    "        sum = sum + x\n",
    "\n",
    "print sum"
   ]
  },
  {
   "cell_type": "markdown",
   "metadata": {},
   "source": [
    "설명 : for문을 이용해 1 부터 1000까지 순환시켜준다. 순환시키면서 x를 3으로 나누었을 때 나머지가 0 또는 5로 나누었을 때 나머지가 0이면, 3의 배수, 5의 배수, 둘의 최소공배수인 15의 배수를 모두 더한 값을 구할 수 있다."
   ]
  },
  {
   "cell_type": "markdown",
   "metadata": {},
   "source": [
    "오일러프로젝트 2번)\n",
    "\n",
    "피보나치 수열의 각 항은 바로 앞의 항 두 개를 더한 것이 됩니다. 1과 2로 시작하는 경우 이 수열은 아래와 같습니다.\n",
    "\n",
    "1, 2, 3, 5, 8, 13, 21, 34, 55, 89, ... \n",
    "\n",
    "짝수이면서 4백만 이하인 모든 항을 더하면 얼마가 됩니까?\n"
   ]
  },
  {
   "cell_type": "code",
   "execution_count": 67,
   "metadata": {
    "collapsed": false
   },
   "outputs": [
    {
     "name": "stdout",
     "output_type": "stream",
     "text": [
      "1089154\n",
      "2178309 3524578 5702887\n"
     ]
    }
   ],
   "source": [
    "a = 1\n",
    "b = 2\n",
    "sum = 0\n",
    "\n",
    "while(True) :\n",
    "    \n",
    "    c = a + b\n",
    "    if a > 4000000 or b > 4000000 or c > 4000000 :\n",
    "        break\n",
    "        \n",
    "    if a % 2 == 0 :\n",
    "        sum = sum + a\n",
    "    elif b % 2 == 0 :\n",
    "        sum = sum + b\n",
    "    elif c % 2 == 0 :\n",
    "        sum = sum + c\n",
    "        \n",
    "    a = b + c\n",
    "    b = c + a\n",
    "    \n",
    "print sum\n",
    "print a, b, c\n"
   ]
  },
  {
   "cell_type": "markdown",
   "metadata": {},
   "source": [
    "설명 : 먼저 피보나치 수열을 구현해 주기 위해서 a와 b의 초기값을 각각 1과 2로 주어주고, while(True)를 이용하여 무한루프를 만들어준다. 이후 짝수이면서 4백만 이하인 모든 항을 더해주는 것이기 때문에 각각의 a,b,c가 2로 나누었을 때, 나머지가 0이면 sum에 더해준다. 계속해서 순환하다가 a,b,c의 값 중 하나라도 4백만을 넘는다면 break를 걸어 for문을 빠져나와준다."
   ]
  },
  {
   "cell_type": "markdown",
   "metadata": {},
   "source": [
    "오일러프로젝트 3번)\n",
    "\n",
    "어떤 수를 소수의 곱으로만 나타내는 것을 소인수분해라 하고, 이 소수들을 그 수의 소인수라고 합니다.\n",
    "예를 들면 13195의 소인수는 5, 7, 13, 29 입니다.\n",
    "\n",
    "600851475143의 소인수 중에서 가장 큰 수를 구하세요.\n"
   ]
  },
  {
   "cell_type": "code",
   "execution_count": 16,
   "metadata": {
    "collapsed": false
   },
   "outputs": [
    {
     "name": "stdout",
     "output_type": "stream",
     "text": [
      "소인수 :  [71, 839, 1471, 6857]\n",
      "가장 큰 수 :  6857\n"
     ]
    }
   ],
   "source": [
    "prime = 2\n",
    "a= []\n",
    "n = 600851475143\n",
    "\n",
    "\n",
    "while(n > 0 and n >= prime):\n",
    "    if n % prime == 0:\n",
    "        n = n / prime\n",
    "        a.append(prime)\n",
    "        \n",
    "    elif n % prime != 0:\n",
    "        prime += 1\n",
    "           \n",
    "print \"소인수 : \", a\n",
    "\n",
    "print \"가장 큰 수 : \", max(a)\n",
    "        "
   ]
  },
  {
   "cell_type": "markdown",
   "metadata": {
    "collapsed": true
   },
   "source": [
    "설명 : 먼저 주어진 값의 소인수들을 구하는 함수를 통해 소인수들을 구할 때마다 a리스트 안에 넣어준다. a리스트를 출력해 준 후, max(a)를 이용해서 소인수 중 가장 큰 값을 출력해준다."
   ]
  },
  {
   "cell_type": "markdown",
   "metadata": {},
   "source": [
    "소감 \n",
    "\n",
    " 총 11문제를 풀었는데 처음에는 괜찮더니 마지막 오일러 문제(소인수 분해)가 생각하기 까다로웠다. 그리고 지금까지 강의를 들으면서 현재 자료구조(C++)과 자바를 동시에 배우니 함수 측면에서 이용이 좀 해깔리기도 했지만 앞으로 과제를 해나가며 익숙해지면 괜찮을 것 같다.\n",
    " \n",
    " \n",
    "질문 \n",
    "\n",
    " 코딩을 하다보니 옆 줄이 표시되는 칸에 In[*별표 ]처럼 별표가 표시되는 경우, 어떤 것을 의미하며 이러한 경우 실행되지가 않습니다. 이에 대한 대처방법이 궁금합니다. "
   ]
  },
  {
   "cell_type": "code",
   "execution_count": null,
   "metadata": {
    "collapsed": true
   },
   "outputs": [],
   "source": []
  }
 ],
 "metadata": {
  "kernelspec": {
   "display_name": "Python 2",
   "language": "python",
   "name": "python2"
  },
  "language_info": {
   "codemirror_mode": {
    "name": "ipython",
    "version": 2
   },
   "file_extension": ".py",
   "mimetype": "text/x-python",
   "name": "python",
   "nbconvert_exporter": "python",
   "pygments_lexer": "ipython2",
   "version": "2.7.9"
  }
 },
 "nbformat": 4,
 "nbformat_minor": 0
}
