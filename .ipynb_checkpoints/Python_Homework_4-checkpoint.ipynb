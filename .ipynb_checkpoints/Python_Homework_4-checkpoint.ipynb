{
 "cells": [
  {
   "cell_type": "markdown",
   "metadata": {},
   "source": [
    "#[1번 문제]\n",
    "\n",
    "1) 파일 s.txt을 읽어서 각 라인에 있는 첫 번째 단어(문자열) 자체들을 기준으로 라인별 정렬후 파일 s1.txt에 그 결과를 기록하는 코드를 작성하시오. 즉, 프로그램 수행 후 s1.txt에 있는 파일 내용은 다음과 같다."
   ]
  },
  {
   "cell_type": "code",
   "execution_count": 1,
   "metadata": {
    "collapsed": false
   },
   "outputs": [],
   "source": [
    "#파일을 읽어 들이고 정렬\n",
    "f = open('s.txt','r')\n",
    "\n",
    "a = []\n",
    "\n",
    "for line in f.readlines():\n",
    "    a.append(line)\n",
    "    \n",
    "a.sort()\n",
    "f.close()\n",
    "\n",
    "#정렬된 결과를 기록\n",
    "f = open('s1.txt', 'w')\n",
    "f.writelines(a)\n",
    "f.close()"
   ]
  },
  {
   "cell_type": "markdown",
   "metadata": {},
   "source": [
    "2) 파일 s.txt을 읽어서 각 라인에 있는 두 번째 단어(문자열) 자체들을 기준으로 라인별 정렬후 파일 s2.txt에 그 결과를 기록하는 코드를 작성하시오. 즉, 프로그램 수행 후 s2.txt에 있는 파일 내용은 다음과 같다."
   ]
  },
  {
   "cell_type": "code",
   "execution_count": 32,
   "metadata": {
    "collapsed": false
   },
   "outputs": [],
   "source": [
    "f = open('s.txt','r')\n",
    "\n",
    "a = []\n",
    "\n",
    "for line in f.readlines():\n",
    "    a.append(line)\n",
    "    \n",
    "c = []\n",
    "\n",
    "for i in a:\n",
    "    b = i.split()\n",
    "    c += b\n",
    "\n",
    "key = c[::2]\n",
    "value = c[1::2]\n",
    "\n",
    "l = []\n",
    "\n",
    "for i in range(len(key)):\n",
    "    l.append(value[i] + \" \" + key[i])\n",
    "\n",
    "f = open('s2.txt', 'w')\n",
    "f.write('\\n'.join(l))\n",
    "f.close()"
   ]
  },
  {
   "cell_type": "markdown",
   "metadata": {
    "collapsed": true
   },
   "source": [
    "3) 파일 s.txt을 읽어서 각 라인들에 있는 모든 단어들을 순차적으로 다시 나열하되 각 라인에 세 개의 단어들이 오도록 하여 s3.txt에 기록하는 코드를 작성하시오. 즉, 프로그램 수행 후 s3.txt에 있는 파일 내용은 다음과 같다."
   ]
  },
  {
   "cell_type": "code",
   "execution_count": 48,
   "metadata": {
    "collapsed": false
   },
   "outputs": [],
   "source": [
    "f = open('s.txt','r')\n",
    "\n",
    "a = []\n",
    "\n",
    "for line in f.readlines():\n",
    "    a.append(line)\n",
    "\n",
    "f.close()\n",
    "\n",
    "f = open('s3.txt', 'w')\n",
    "c = []\n",
    "\n",
    "for i in a:\n",
    "    b = i.split()\n",
    "    c += b\n",
    "\n",
    "\n",
    "for i in range(0, len(c)):\n",
    "    if i % 3 == 0 and i != 0:\n",
    "        f.write(\"\\n\")\n",
    "    f.write(c[i] + \" \")\n",
    "        \n",
    "f.close()"
   ]
  },
  {
   "cell_type": "markdown",
   "metadata": {
    "collapsed": true
   },
   "source": [
    "#[문제 2번]"
   ]
  },
  {
   "cell_type": "code",
   "execution_count": 12,
   "metadata": {
    "collapsed": false
   },
   "outputs": [
    {
     "name": "stdout",
     "output_type": "stream",
     "text": [
      "\n",
      "Welcome to Our Service\n",
      "1. Sign Up\n",
      "2. Sign In\n",
      "3. Quit\n",
      "\n",
      "choice : 1\n",
      "ID : tjtjdgur34\n",
      "PassWord : 12345\n",
      "Name : Seo Seong Hyuk\n",
      "School : KUT\n",
      "\n",
      "Welcome to Our Service\n",
      "1. Sign Up\n",
      "2. Sign In\n",
      "3. Quit\n",
      "\n",
      "choice : 2\n",
      "ID : tjtjdgur\n",
      "PW : 1234\n",
      "Sorry, you are not a registered member.\n",
      "\n",
      "Welcome to Our Service\n",
      "1. Sign Up\n",
      "2. Sign In\n",
      "3. Quit\n",
      "\n",
      "choice : 2\n",
      "ID : tjtjdgur34\n",
      "PW : 4634\n",
      "Sorry, the entered password is not correct.\n",
      "\n",
      "Welcome to Our Service\n",
      "1. Sign Up\n",
      "2. Sign In\n",
      "3. Quit\n",
      "\n",
      "choice : 2\n",
      "ID : tjtjdgur34\n",
      "PW : 12345\n",
      "HelloSeo Seong Hyuk\n",
      "\n",
      "Welcome to Our Service\n",
      "1. Sign Up\n",
      "2. Sign In\n",
      "3. Quit\n",
      "\n",
      "choice : 3\n",
      "End\n"
     ]
    }
   ],
   "source": [
    "import sha\n",
    "\n",
    "def display():\n",
    "    print\n",
    "    print 'Welcome to Our Service'\n",
    "    print '1. Sign Up'\n",
    "    print '2. Sign In'\n",
    "    print '3. Quit'\n",
    "    print\n",
    "\n",
    "def SignUp():\n",
    "    \n",
    "    ok = False\n",
    "    \n",
    "    while(ok == False): \n",
    "        \n",
    "        Id = raw_input('ID : ')\n",
    "        f = open(\"acess.txt\", \"r\")\n",
    "        \n",
    "        for line in f:\n",
    "            l = line.split(\":\")\n",
    "            if Id == l[0]:\n",
    "                print \"Sorry, the entered ID is already used.\"\n",
    "                ok = False\n",
    "                break\n",
    "            else:\n",
    "                ok = True\n",
    "    f.close()\n",
    "                \n",
    "    Pw = raw_input('PassWord : ')\n",
    "    Encrypted = sha.new(Pw).hexdigest()\n",
    "    \n",
    "    Name = raw_input('Name : ')\n",
    "    \n",
    "    School = raw_input('School : ')\n",
    "    \n",
    "    f = open(\"acess.txt\", 'a')\n",
    "    f.write(Id + \":\" + Encrypted + \":\"  + Name + \":\"  + School + \"\\n\")\n",
    "    f.close()\n",
    "    \n",
    "def SignIn():\n",
    "\n",
    "    r = 0\n",
    "    Id = raw_input('ID : ')\n",
    "    Pw = raw_input('PW : ')\n",
    "    Encryption = sha.new(Pw).hexdigest()\n",
    "    \n",
    "    f = open(\"acess.txt\", \"r\")\n",
    "        \n",
    "    for line in f:\n",
    "        l = line.split(\":\")\n",
    "        if l[0] == Id:  \n",
    "            r = 0\n",
    "            if l[1] == Encryption:\n",
    "                print unicode(\"Hello\" + l[2])\n",
    "                break\n",
    "                \n",
    "            else:\n",
    "                print \"Sorry, the entered password is not correct.\"\n",
    "                break\n",
    "        else:\n",
    "            r = 1\n",
    "            \n",
    "    if(r == 1):\n",
    "        print \"Sorry, you are not a registered member.\"\n",
    "        \n",
    "    f.close()\n",
    "    \n",
    "def main():\n",
    "    while(True):\n",
    "        display()\n",
    "    \n",
    "        c = input(\"choice : \")\n",
    "    \n",
    "        if c == 1:\n",
    "            SignUp()\n",
    "        elif c == 2:\n",
    "            SignIn()\n",
    "        elif c == 3:\n",
    "            print \"End\"\n",
    "            break\n",
    "        \n",
    "main()"
   ]
  },
  {
   "cell_type": "markdown",
   "metadata": {},
   "source": [
    "##-> 위 문제에 해당하는 acess.txt\n",
    "\n",
    "a : 1\n",
    "\n",
    "tjtjdgur34:8cb2237d0679ca88db6464eac60da96345513964:Seo Seong Hyuk:KUT\n"
   ]
  },
  {
   "cell_type": "markdown",
   "metadata": {},
   "source": [
    "#[3번 문제]"
   ]
  },
  {
   "cell_type": "code",
   "execution_count": 59,
   "metadata": {
    "collapsed": false
   },
   "outputs": [
    {
     "name": "stdout",
     "output_type": "stream",
     "text": [
      "frange(0.5)\n",
      "[0.0, 0.1, 0.2, 0.3, 0.4]\n",
      "\n",
      "frange(1.0, 2.0)\n",
      "[1.0, 1.1, 1.2, 1.3, 1.4, 1.5, 1.6, 1.7, 1.8, 1.9]\n",
      "\n",
      "frange(2.2, 4.0, 0.5)\n",
      "[2.2, 2.7, 3.2, 3.7]\n"
     ]
    }
   ],
   "source": [
    "def frange(start, stop = None, step = None):\n",
    "    \n",
    "    #2)번 적용\n",
    "    if stop == None:\n",
    "        stop = start\n",
    "        start = 0.0\n",
    "    \n",
    "    if step == None:\n",
    "        step = 0.1\n",
    "        \n",
    "    #1)번 적용\n",
    "    if start < 0 or stop < 0 or step < 0:\n",
    "        print \"인수가 음수입니다.\"\n",
    "        return 0\n",
    "   \n",
    "        \n",
    "    l = []\n",
    "    value = start\n",
    "\n",
    "    while(True):\n",
    "        \n",
    "        l.append(round(value, 1))\n",
    "        \n",
    "        value = value + step\n",
    "        \n",
    "        if(value >= stop):\n",
    "            break\n",
    "            \n",
    "    return l\n",
    "\n",
    "print \"frange(0.5)\"\n",
    "print frange(0.5)\n",
    "#그냥 append 해줄 경우 [0.0, 0.1, 0.2, 0.30000000000000004, 0.4]가 나온다 - round()반올림 함수 이용\n",
    "print\n",
    "print \"frange(1.0, 2.0)\"\n",
    "print frange(1.0, 2.0)\n",
    "print\n",
    "print \"frange(2.2, 4.0, 0.5)\"\n",
    "print frange(2.2, 4.0, 0.5)        \n",
    "        "
   ]
  },
  {
   "cell_type": "markdown",
   "metadata": {},
   "source": [
    "#[4번 문제]"
   ]
  },
  {
   "cell_type": "code",
   "execution_count": 66,
   "metadata": {
    "collapsed": false
   },
   "outputs": [
    {
     "name": "stdout",
     "output_type": "stream",
     "text": [
      "sum()\n",
      "0\n",
      "\n",
      "sum(1, 2)\n",
      "3\n",
      "\n",
      "sum(1, 2, 3, 4, 5)\n",
      "15\n",
      "\n",
      "sum(1, 5, 7, 2, -10)\n",
      "5\n"
     ]
    }
   ],
   "source": [
    "#sum()의 경우 값이 0이 나와야 하기 때문에 n = 0을 해준다.\n",
    "def sum(n = 0, *nums):\n",
    "    result = n\n",
    "    for i in nums:\n",
    "        result += i\n",
    "        \n",
    "    return result\n",
    "\n",
    "print \"sum()\"\n",
    "print sum()\n",
    "print\n",
    "print \"sum(1, 2)\"\n",
    "print sum(1, 2)\n",
    "print\n",
    "print \"sum(1, 2, 3, 4, 5)\"\n",
    "print sum(1, 2, 3, 4, 5)\n",
    "print\n",
    "print \"sum(1, 5, 7, 2, -10)\"\n",
    "print sum(1, 5, 7, 2, -10)\n"
   ]
  },
  {
   "cell_type": "markdown",
   "metadata": {},
   "source": [
    "#[5번 문제]"
   ]
  },
  {
   "cell_type": "code",
   "execution_count": 70,
   "metadata": {
    "collapsed": false
   },
   "outputs": [
    {
     "name": "stdout",
     "output_type": "stream",
     "text": [
      "Enter the setences : as soon as possible\n",
      "ASAP\n"
     ]
    }
   ],
   "source": [
    "def myinitial(sen):\n",
    "    l1 = sen.split()\n",
    "    l2 = map(lambda x : x[0], l1)\n",
    "    l3 = \"\".join(l2)\n",
    "    l4 = l3.upper()\n",
    "    \n",
    "    return l4\n",
    "\n",
    "print myinitial(raw_input(\"Enter the setences : \"))\n",
    "    "
   ]
  },
  {
   "cell_type": "markdown",
   "metadata": {},
   "source": [
    "#[6번 문제]"
   ]
  },
  {
   "cell_type": "code",
   "execution_count": 74,
   "metadata": {
    "collapsed": false
   },
   "outputs": [
    {
     "name": "stdout",
     "output_type": "stream",
     "text": [
      "음수가 입력되었습니다. 0\n",
      "1\n",
      "2432902008176640000\n"
     ]
    }
   ],
   "source": [
    "def myfact(number):\n",
    "    if number < 0:\n",
    "        print \"음수가 입력되었습니다.\",\n",
    "        return 0\n",
    "    \n",
    "    elif number == 0:\n",
    "        return 1\n",
    "    \n",
    "    else:\n",
    "        #재귀적 함수로 구현하시오...\n",
    "        return number * myfact(number - 1)\n",
    "\n",
    "print myfact(-10)\n",
    "print myfact(0)\n",
    "print myfact(20)\n"
   ]
  },
  {
   "cell_type": "markdown",
   "metadata": {},
   "source": [
    "#[7번 문제]"
   ]
  },
  {
   "cell_type": "markdown",
   "metadata": {},
   "source": [
    " import string의 경우 이름 공간 string이 그대로 유지되므로 string.area() 형태로 자격 이름이 사용되며 기본적인 문자열 연산을 제공한다. 반면에 from string import* 의 경우, 해당 모듈에 존재하는 '_'로 시작되는 이름들을 제외한 모든 이름들을 현재 이름 공간으로 불러들인다. "
   ]
  },
  {
   "cell_type": "markdown",
   "metadata": {},
   "source": [
    "#[8번 문제] - 프로젝트 오일러 문제 10"
   ]
  },
  {
   "cell_type": "code",
   "execution_count": 2,
   "metadata": {
    "collapsed": false
   },
   "outputs": [
    {
     "name": "stdout",
     "output_type": "stream",
     "text": [
      "Enter the number : 30000\n",
      "45675864\n"
     ]
    }
   ],
   "source": [
    "#이백만이 너무 큰 수이기 때문에, 값을 입력 받는 형식으로 만들었습니다.\n",
    "a = int(raw_input('Enter the number : '))\n",
    "\n",
    "result = 0\n",
    "\n",
    "for x in range(2, a + 1):\n",
    "    for y in range(2, x + 1):\n",
    "        if x % y == 0:\n",
    "            break\n",
    "    if x == y:\n",
    "        result += x\n",
    "        \n",
    "print result"
   ]
  },
  {
   "cell_type": "markdown",
   "metadata": {},
   "source": [
    "#[9번 문제] - 프로젝트 오일러 문제 11"
   ]
  },
  {
   "cell_type": "code",
   "execution_count": 66,
   "metadata": {
    "collapsed": false
   },
   "outputs": [
    {
     "name": "stdout",
     "output_type": "stream",
     "text": [
      "70600674\n"
     ]
    }
   ],
   "source": [
    "array = '''08 02 22 97 38 15 00 40 00 75 04 05 07 78 52 12 50 77 91 08\n",
    "49 49 99 40 17 81 18 57 60 87 17 40 98 43 69 48 04 56 62 00\n",
    "81 49 31 73 55 79 14 29 93 71 40 67 53 88 30 03 49 13 36 65\n",
    "52 70 95 23 04 60 11 42 69 24 68 56 01 32 56 71 37 02 36 91\n",
    "22 31 16 71 51 67 63 89 41 92 36 54 22 40 40 28 66 33 13 80\n",
    "24 47 32 60 99 03 45 02 44 75 33 53 78 36 84 20 35 17 12 50\n",
    "32 98 81 28 64 23 67 10 26 38 40 67 59 54 70 66 18 38 64 70\n",
    "67 26 20 68 02 62 12 20 95 63 94 39 63 08 40 91 66 49 94 21\n",
    "24 55 58 05 66 73 99 26 97 17 78 78 96 83 14 88 34 89 63 72\n",
    "21 36 23 09 75 00 76 44 20 45 35 14 00 61 33 97 34 31 33 95\n",
    "78 17 53 28 22 75 31 67 15 94 03 80 04 62 16 14 09 53 56 92\n",
    "16 39 05 42 96 35 31 47 55 58 88 24 00 17 54 24 36 29 85 57\n",
    "86 56 00 48 35 71 89 07 05 44 44 37 44 60 21 58 51 54 17 58\n",
    "19 80 81 68 05 94 47 69 28 73 92 13 86 52 17 77 04 89 55 40\n",
    "04 52 08 83 97 35 99 16 07 97 57 32 16 26 26 79 33 27 98 66\n",
    "88 36 68 87 57 62 20 72 03 46 33 67 46 55 12 32 63 93 53 69\n",
    "04 42 16 73 38 25 39 11 24 94 72 18 08 46 29 32 40 62 76 36\n",
    "20 69 36 41 72 30 23 88 34 62 99 69 82 67 59 85 74 04 36 16\n",
    "20 73 35 29 78 31 90 01 74 31 49 71 48 86 81 16 23 57 05 54\n",
    "01 70 54 71 83 51 54 69 16 92 33 48 61 43 52 01 89 19 67 48'''\n",
    "\n",
    "#배열 형식으로 나누자\n",
    "l = array.split('\\n')\n",
    "ins = []\n",
    "for num in l:\n",
    "    ins.append(num.split())\n",
    "\n",
    "#안의 원소들을 정수로 바꾸자\n",
    "row = len(ins)\n",
    "col = len(ins[0])\n",
    "\n",
    "for i in range(row):\n",
    "    for j in range(col):\n",
    "        ins[i][j] = int(ins[i][j])\n",
    "     \n",
    "    \n",
    "compare = []\n",
    "\n",
    "#수평의 곱\n",
    "for i in range(len(ins)):\n",
    "    for j in range(len(ins[i])):\n",
    "        result = ins[i][j] * ins[i][j+1] * ins[i][j+2] * ins[i][j+3]\n",
    "        compare.append(result)\n",
    "        if(j+3 == len(ins[i])-1):\n",
    "            break\n",
    "    \n",
    "#수직의 곱\n",
    "for i in range(len(ins)):\n",
    "    for j in range(len(ins[i])):\n",
    "        result1 = ins[i][j] * ins[i+1][j] * ins[i+2][j] * ins[i+3][j]\n",
    "        compare.append(result1)\n",
    "    if(i+3 == len(ins)-1):\n",
    "            break\n",
    "            \n",
    "#대각선의 곱(왼쪽에서 오른쪽)\n",
    "for i in range(len(ins)):\n",
    "    for j in range(len(ins[i])):\n",
    "        result3 = ins[i][j] * ins[i+1][j+1] * ins[i+2][j+2] * ins[i+3][j+3]\n",
    "        compare.append(result3)\n",
    "        if(j+3 == len(ins[i])-1):\n",
    "            break\n",
    "    if(i+3 == len(ins)-1):\n",
    "        break\n",
    "        \n",
    "#대각선의 곱(오른쪽에서 왼쪽)\n",
    "for i in range(3, len(ins)):\n",
    "    for j in range(len(ins[i])):\n",
    "        result4 = ins[i][j] * ins[i-1][j+1] * ins[i-2][j+2] * ins[i-3][j+3]\n",
    "        compare.append(result4)\n",
    "        if(j+3 == len(ins[i])-1):\n",
    "            break\n",
    "    if(i-3 == len(ins)-1):\n",
    "        break\n",
    "        \n",
    "print max(compare)"
   ]
  },
  {
   "cell_type": "markdown",
   "metadata": {},
   "source": [
    "# [10번 문제] - 프로젝트 오일러 문제 12 ***"
   ]
  },
  {
   "cell_type": "code",
   "execution_count": 38,
   "metadata": {
    "collapsed": false
   },
   "outputs": [
    {
     "ename": "KeyboardInterrupt",
     "evalue": "",
     "output_type": "error",
     "traceback": [
      "\u001b[1;31m---------------------------------------------------------------------------\u001b[0m",
      "\u001b[1;31mKeyboardInterrupt\u001b[0m                         Traceback (most recent call last)",
      "\u001b[1;32m<ipython-input-38-d8efa341b9cf>\u001b[0m in \u001b[0;36m<module>\u001b[1;34m()\u001b[0m\n\u001b[0;32m     11\u001b[0m     \u001b[1;31m#약수 구하기\u001b[0m\u001b[1;33m\u001b[0m\u001b[1;33m\u001b[0m\u001b[0m\n\u001b[0;32m     12\u001b[0m     \u001b[1;32mfor\u001b[0m \u001b[0mi\u001b[0m \u001b[1;32min\u001b[0m \u001b[0mrange\u001b[0m\u001b[1;33m(\u001b[0m\u001b[1;36m1\u001b[0m\u001b[1;33m,\u001b[0m \u001b[0mssum\u001b[0m\u001b[1;33m+\u001b[0m\u001b[1;36m1\u001b[0m\u001b[1;33m)\u001b[0m\u001b[1;33m:\u001b[0m\u001b[1;33m\u001b[0m\u001b[0m\n\u001b[1;32m---> 13\u001b[1;33m         \u001b[1;32mif\u001b[0m\u001b[1;33m(\u001b[0m\u001b[0mssum\u001b[0m \u001b[1;33m%\u001b[0m \u001b[0mi\u001b[0m \u001b[1;33m==\u001b[0m \u001b[1;36m0\u001b[0m\u001b[1;33m)\u001b[0m\u001b[1;33m:\u001b[0m\u001b[1;33m\u001b[0m\u001b[0m\n\u001b[0m\u001b[0;32m     14\u001b[0m             \u001b[0mcount\u001b[0m\u001b[1;33m.\u001b[0m\u001b[0mappend\u001b[0m\u001b[1;33m(\u001b[0m\u001b[0mi\u001b[0m\u001b[1;33m)\u001b[0m\u001b[1;33m\u001b[0m\u001b[0m\n\u001b[0;32m     15\u001b[0m \u001b[1;33m\u001b[0m\u001b[0m\n",
      "\u001b[1;31mKeyboardInterrupt\u001b[0m: "
     ]
    }
   ],
   "source": [
    "tri = 0\n",
    "ssum = 0\n",
    "\n",
    "while(True):\n",
    "    #삼각수 만들기\n",
    "    for i in range(tri + 1):\n",
    "        ssum += i\n",
    "\n",
    "    count = []\n",
    "\n",
    "    #약수 구하기\n",
    "    for i in range(1, ssum+1):\n",
    "        if(ssum % i == 0):\n",
    "            count.append(i)\n",
    "\n",
    "    if(len(count) == 5):\n",
    "        print tri\n",
    "        \n",
    "    tri += 1\n",
    "    ssum = 0"
   ]
  },
  {
   "cell_type": "markdown",
   "metadata": {},
   "source": [
    "#[11번 문제] - 프로젝트 오일러 문제 13"
   ]
  },
  {
   "cell_type": "code",
   "execution_count": 35,
   "metadata": {
    "collapsed": false
   },
   "outputs": [
    {
     "name": "stdout",
     "output_type": "stream",
     "text": [
      "5537376230\n"
     ]
    }
   ],
   "source": [
    "num = '''37107287533902102798797998220837590246510135740250\n",
    "46376937677490009712648124896970078050417018260538\n",
    "74324986199524741059474233309513058123726617309629\n",
    "91942213363574161572522430563301811072406154908250\n",
    "23067588207539346171171980310421047513778063246676\n",
    "89261670696623633820136378418383684178734361726757\n",
    "28112879812849979408065481931592621691275889832738\n",
    "44274228917432520321923589422876796487670272189318\n",
    "47451445736001306439091167216856844588711603153276\n",
    "70386486105843025439939619828917593665686757934951\n",
    "62176457141856560629502157223196586755079324193331\n",
    "64906352462741904929101432445813822663347944758178\n",
    "92575867718337217661963751590579239728245598838407\n",
    "58203565325359399008402633568948830189458628227828\n",
    "80181199384826282014278194139940567587151170094390\n",
    "35398664372827112653829987240784473053190104293586\n",
    "86515506006295864861532075273371959191420517255829\n",
    "71693888707715466499115593487603532921714970056938\n",
    "54370070576826684624621495650076471787294438377604\n",
    "53282654108756828443191190634694037855217779295145\n",
    "36123272525000296071075082563815656710885258350721\n",
    "45876576172410976447339110607218265236877223636045\n",
    "17423706905851860660448207621209813287860733969412\n",
    "81142660418086830619328460811191061556940512689692\n",
    "51934325451728388641918047049293215058642563049483\n",
    "62467221648435076201727918039944693004732956340691\n",
    "15732444386908125794514089057706229429197107928209\n",
    "55037687525678773091862540744969844508330393682126\n",
    "18336384825330154686196124348767681297534375946515\n",
    "80386287592878490201521685554828717201219257766954\n",
    "78182833757993103614740356856449095527097864797581\n",
    "16726320100436897842553539920931837441497806860984\n",
    "48403098129077791799088218795327364475675590848030\n",
    "87086987551392711854517078544161852424320693150332\n",
    "59959406895756536782107074926966537676326235447210\n",
    "69793950679652694742597709739166693763042633987085\n",
    "41052684708299085211399427365734116182760315001271\n",
    "65378607361501080857009149939512557028198746004375\n",
    "35829035317434717326932123578154982629742552737307\n",
    "94953759765105305946966067683156574377167401875275\n",
    "88902802571733229619176668713819931811048770190271\n",
    "25267680276078003013678680992525463401061632866526\n",
    "36270218540497705585629946580636237993140746255962\n",
    "24074486908231174977792365466257246923322810917141\n",
    "91430288197103288597806669760892938638285025333403\n",
    "34413065578016127815921815005561868836468420090470\n",
    "23053081172816430487623791969842487255036638784583\n",
    "11487696932154902810424020138335124462181441773470\n",
    "63783299490636259666498587618221225225512486764533\n",
    "67720186971698544312419572409913959008952310058822\n",
    "95548255300263520781532296796249481641953868218774\n",
    "76085327132285723110424803456124867697064507995236\n",
    "37774242535411291684276865538926205024910326572967\n",
    "23701913275725675285653248258265463092207058596522\n",
    "29798860272258331913126375147341994889534765745501\n",
    "18495701454879288984856827726077713721403798879715\n",
    "38298203783031473527721580348144513491373226651381\n",
    "34829543829199918180278916522431027392251122869539\n",
    "40957953066405232632538044100059654939159879593635\n",
    "29746152185502371307642255121183693803580388584903\n",
    "41698116222072977186158236678424689157993532961922\n",
    "62467957194401269043877107275048102390895523597457\n",
    "23189706772547915061505504953922979530901129967519\n",
    "86188088225875314529584099251203829009407770775672\n",
    "11306739708304724483816533873502340845647058077308\n",
    "82959174767140363198008187129011875491310547126581\n",
    "97623331044818386269515456334926366572897563400500\n",
    "42846280183517070527831839425882145521227251250327\n",
    "55121603546981200581762165212827652751691296897789\n",
    "32238195734329339946437501907836945765883352399886\n",
    "75506164965184775180738168837861091527357929701337\n",
    "62177842752192623401942399639168044983993173312731\n",
    "32924185707147349566916674687634660915035914677504\n",
    "99518671430235219628894890102423325116913619626622\n",
    "73267460800591547471830798392868535206946944540724\n",
    "76841822524674417161514036427982273348055556214818\n",
    "97142617910342598647204516893989422179826088076852\n",
    "87783646182799346313767754307809363333018982642090\n",
    "10848802521674670883215120185883543223812876952786\n",
    "71329612474782464538636993009049310363619763878039\n",
    "62184073572399794223406235393808339651327408011116\n",
    "66627891981488087797941876876144230030984490851411\n",
    "60661826293682836764744779239180335110989069790714\n",
    "85786944089552990653640447425576083659976645795096\n",
    "66024396409905389607120198219976047599490197230297\n",
    "64913982680032973156037120041377903785566085089252\n",
    "16730939319872750275468906903707539413042652315011\n",
    "94809377245048795150954100921645863754710598436791\n",
    "78639167021187492431995700641917969777599028300699\n",
    "15368713711936614952811305876380278410754449733078\n",
    "40789923115535562561142322423255033685442488917353\n",
    "44889911501440648020369068063960672322193204149535\n",
    "41503128880339536053299340368006977710650566631954\n",
    "81234880673210146739058568557934581403627822703280\n",
    "82616570773948327592232845941706525094512325230608\n",
    "22918802058777319719839450180888072429661980811197\n",
    "77158542502016545090413245809786882778948721859617\n",
    "72107838435069186155435662884062257473692284509516\n",
    "20849603980134001723930671666823555245252804609722\n",
    "53503534226472524250874054075591789781264330331690'''\n",
    "\n",
    "l = num.split('\\n')\n",
    "sum = 0\n",
    "for i in range(len(l)):\n",
    "    l[i] = long(l[i])\n",
    "    sum += l[i]\n",
    "\n",
    "#첫 10번째 자리수\n",
    "s =str(sum)\n",
    "print s[:10]"
   ]
  },
  {
   "cell_type": "markdown",
   "metadata": {},
   "source": [
    "#[12번 문제] - 프로젝트 오일러 문제 14"
   ]
  },
  {
   "cell_type": "code",
   "execution_count": 18,
   "metadata": {
    "collapsed": false
   },
   "outputs": [
    {
     "name": "stdout",
     "output_type": "stream",
     "text": [
      "837799\n"
     ]
    }
   ],
   "source": [
    "def Count(n):  \n",
    "    count = 1\n",
    "\n",
    "    while(n != 1):\n",
    "        count += 1\n",
    "\n",
    "        if(n % 2 == 0):\n",
    "            n = n / 2\n",
    "        else:\n",
    "            n = 3 * n + 1\n",
    "            \n",
    "    return count\n",
    "\n",
    "\n",
    "\n",
    "l1 = range(1,1000000 + 1)\n",
    "l2 = map(Count, l1)\n",
    "\n",
    "l3 = dict(zip(l2, l1))\n",
    "\n",
    "b = []\n",
    "for i in l3.keys():\n",
    "    b.append(i)\n",
    "\n",
    "#max가 동작하지 않으므로  sort를 이용한 후, 마지막 인덱스 값에 해당하는 리스트 값을 넣는다.\n",
    "b.sort()\n",
    "big = b[len(b)-1]\n",
    "\n",
    "print l3[big]\n"
   ]
  },
  {
   "cell_type": "markdown",
   "metadata": {},
   "source": [
    "#[13번 문제] - 프로젝트 오일러 문제 15***"
   ]
  },
  {
   "cell_type": "code",
   "execution_count": 6,
   "metadata": {
    "collapsed": false,
    "scrolled": true
   },
   "outputs": [
    {
     "name": "stdout",
     "output_type": "stream",
     "text": [
      "137846528820\n"
     ]
    }
   ],
   "source": [
    "def factorial(n):\n",
    "    if n == 1:\n",
    "        return 1\n",
    "\n",
    "    return n * factorial(n-1)\n",
    "\n",
    "print factorial(40) / (factorial(20) * factorial(20))\n"
   ]
  },
  {
   "cell_type": "markdown",
   "metadata": {},
   "source": [
    "#[14번 문제] - Incremental Project"
   ]
  },
  {
   "cell_type": "code",
   "execution_count": 10,
   "metadata": {
    "collapsed": false
   },
   "outputs": [],
   "source": [
    "def URL(a) :\n",
    "    import urllib2\n",
    "    import pickle\n",
    "    # 2) 각 URL로 지정된 웹페이지의 HTML 소스를 파일로 저장하시오.\n",
    "    source = urllib2.urlopen(a).read()\n",
    "    b = a + '.html'\n",
    "    c = b.strip(\"http://\")\n",
    "\n",
    "    f = open(c, 'w')\n",
    "    f.close()\n",
    "\n",
    "    # 3) 단어의 출현빈도가 담긴 사전 객체를 위 HTML 소스 파일과 동일한 폴더에 파일로 저장하시오\n",
    "    d = c + \".words.frequency\"\n",
    "    f = open(d, 'w')\n",
    "\n",
    "    source2 = \"\"\n",
    "\n",
    "    i = 0\n",
    "\n",
    "    while i < len(source):\n",
    "        if source[i] == '<':\n",
    "            while True:\n",
    "                i += 1\n",
    "                if source[i] == '>':\n",
    "                    break\n",
    "        else:\n",
    "            source2 +=  source[i]\n",
    "            #print source[i],\n",
    "        i += 1\n",
    "\n",
    "    L = source2.split()\n",
    "\n",
    "    import string\n",
    "\n",
    "    #구두점 없애주어야 한다.\n",
    "    for k in range(0, len(L)):\n",
    "        L[k] = L[k].strip(string.punctuation)\n",
    "\n",
    "    #빈칸을 없애주어야 한다.\n",
    "    count = 0\n",
    "    for k in range(0, len(L)):\n",
    "        if(L[k] == ''):\n",
    "            count += 1\n",
    "\n",
    "    for k in range(0, count):\n",
    "        L.remove('')\n",
    "\n",
    "    # 1) 영어 불용어 없애기\n",
    "    notuse = ['A', 'a', 'and', 'are', 'as', 'at', 'be', 'but', 'by', 'for', 'if', 'in', 'into', 'is', 'it', 'no', 'not', 'of', 'on', 'or', 's', 'such', 't', 'that', 'the', 'their', 'then', 'there', 'these', 'they', 'this', 'to', 'was', 'will', 'with']\n",
    "    for k in range(0, len(L)):\n",
    "        for s in range(len(notuse)):\n",
    "            L[k].strip(notuse[s])\n",
    "\n",
    "\n",
    "    #출현 빈도를 사전 형태로\n",
    "    #(참고)http://www.flowdas.com/thinkpython/11-dictionaries/\n",
    "    d = dict()\n",
    "\n",
    "    for c in L:\n",
    "        if c not in d:\n",
    "            d[c] = 1\n",
    "        else:\n",
    "            d[c] += 1\n",
    "\n",
    "    keys = d.keys()\n",
    "    values = d.values()\n",
    "\n",
    "    for i in range(len(keys)):\n",
    "        ins = str(keys[i]) + ' : ' + str(values[i])\n",
    "        pickle.dump(ins, f)\n",
    "\n",
    "    f.close()\n",
    "    \n",
    "# 4) 최소 5개 이상의 영어 웹 사이트에 대한 HTML 소스 파일과 단어 출현빈도 파일을 저장하시오.\n",
    "URL(\"http://www.bbc.co.uk\")\n",
    "URL(\"http://edition.cnn.com\")\n",
    "URL(\"http://www.harvard.edu\")\n",
    "URL(\"http://www.olemiss.edu\")\n",
    "URL(\"http://www.miamiherald.com\")\n",
    "\n",
    "f = open()\n"
   ]
  },
  {
   "cell_type": "code",
   "execution_count": null,
   "metadata": {
    "collapsed": false
   },
   "outputs": [],
   "source": []
  },
  {
   "cell_type": "code",
   "execution_count": null,
   "metadata": {
    "collapsed": true
   },
   "outputs": [],
   "source": []
  }
 ],
 "metadata": {
  "kernelspec": {
   "display_name": "Python 2",
   "language": "python",
   "name": "python2"
  },
  "language_info": {
   "codemirror_mode": {
    "name": "ipython",
    "version": 2
   },
   "file_extension": ".py",
   "mimetype": "text/x-python",
   "name": "python",
   "nbconvert_exporter": "python",
   "pygments_lexer": "ipython2",
   "version": "2.7.9"
  }
 },
 "nbformat": 4,
 "nbformat_minor": 0
}
