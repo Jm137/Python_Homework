{
 "cells": [
  {
   "cell_type": "markdown",
   "metadata": {},
   "source": [
    "1. open(filename, mode) #파일이름, 덧붙일건지? 읽을건지?(mode)\n",
    "\n",
    "2. mode r w a형태(3가지가 존재)\n",
    "\n",
    "3. r - 파일 객체를 읽기 모드로 생성, 파일 포인터를 파일 처음 위치에 놓는다.(파일 포인터가 있는 곳부터 읽는다.)\n",
    "\n",
    "4. w - 쓰기 전용, 새로운 파일을 쓰기 모드로 생성하거나 해당  파일이 이미 존재하면 내용을 모두 없애면서 쓰기 모드로 생성하고, 파일 포인터를 파일 처음 위치에 놓는다.\n",
    "\n",
    "5. a - 파일 끝에 추가, 이미 존재하는 파일을 쓰기 모드로 생성하거나 파일이 존재하지 않으면 새롭게 파일을 새엉하면서 쓰기 모드로 생성하고, 파일 포인터를 파일의 마지막 위치에 놓는다. 그래서 이후 작성되는 내용은 뒷 부분에 추가된다.\n",
    "\n",
    "6. rb, wb, ab의 경우 이진 파일이 된다.(읽기, 쓰기, 끝에 추가)"
   ]
  },
  {
   "cell_type": "code",
   "execution_count": 2,
   "metadata": {
    "collapsed": false
   },
   "outputs": [
    {
     "name": "stdout",
     "output_type": "stream",
     "text": [
      "C:\\Users\\SeoSeongHyuk\\Documents\\git\\Python_Homework\n"
     ]
    }
   ],
   "source": [
    "import os\n",
    "print os.getcwd()"
   ]
  },
  {
   "cell_type": "code",
   "execution_count": 9,
   "metadata": {
    "collapsed": false
   },
   "outputs": [
    {
     "name": "stdout",
     "output_type": "stream",
     "text": [
      "<type 'str'>\n"
     ]
    }
   ],
   "source": [
    "s = \"\"\"It's power: python developers typically report they are able to develop\n",
    "hihiihihihihihihihi\"\"\"\n",
    "f = open('t.txt', 'w')\n",
    "print type(s)\n",
    "f.write(s)\n",
    "f.close()"
   ]
  },
  {
   "cell_type": "code",
   "execution_count": 10,
   "metadata": {
    "collapsed": false
   },
   "outputs": [
    {
     "name": "stdout",
     "output_type": "stream",
     "text": [
      "It's power: python developers typically report they are able to develop\n",
      "hihiihihihihihihihi\n"
     ]
    }
   ],
   "source": [
    "f = open('t.txt')\n",
    "#mode가 쓰이지 않으면 읽기 모드이다.\n",
    "s = f.read()\n",
    "print s\n",
    "f.close()\n",
    "#붙여 주지 않아도 자동으로 f.close()가 호출된다.(가독성이 높아진다.)"
   ]
  },
  {
   "cell_type": "code",
   "execution_count": 11,
   "metadata": {
    "collapsed": false
   },
   "outputs": [
    {
     "name": "stdout",
     "output_type": "stream",
     "text": [
      "1 : It's power: python developers typically report they are able to develop\n",
      "2 : hihiihihihihihihihi\n"
     ]
    }
   ],
   "source": [
    "#라인 단위로 파일을 입출력\n",
    "f = open('t.txt')\n",
    "i = 1\n",
    "for line in f:\n",
    "    print i, \":\", line, \n",
    "    i += 1\n",
    "f.close()"
   ]
  },
  {
   "cell_type": "code",
   "execution_count": 12,
   "metadata": {
    "collapsed": false
   },
   "outputs": [
    {
     "name": "stdout",
     "output_type": "stream",
     "text": [
      "1 : It's power: python developers typically report they are able to develop\n",
      "2 : hihiihihihihihihihi\n"
     ]
    }
   ],
   "source": [
    "f = open('t.txt')\n",
    "line = f.readline() #개행 문자까지 읽음\n",
    "i = 1\n",
    "while line:\n",
    "    print i, \":\", line,\n",
    "    line = f.readline()\n",
    "    i += 1\n",
    "f.close()"
   ]
  },
  {
   "cell_type": "code",
   "execution_count": 14,
   "metadata": {
    "collapsed": false
   },
   "outputs": [
    {
     "name": "stdout",
     "output_type": "stream",
     "text": [
      "[\"It's power: python developers typically report they are able to develop\\n\", 'hihiihihihihihihihi']\n",
      "\n",
      "1 : It's power: python developers typically report they are able to develop\n",
      "2 : hihiihihihihihihihi\n"
     ]
    }
   ],
   "source": [
    "f = open('t.txt')\n",
    "print f.readlines() #메모리 측면에서 비효율적, 파일에 있는 내용을 메모리로 다 가지고 온다(리스트 형태로...)\n",
    "print\n",
    "\n",
    "f.seek(0) #위에 코딩으로 인해 파일 포인터는 맨 끝에 위치하게 된다.\n",
    "\n",
    "i = 1\n",
    "for line in f.readlines():\n",
    "    print i, \":\", line,\n",
    "    i += 1\n",
    "f.close()"
   ]
  },
  {
   "cell_type": "code",
   "execution_count": 15,
   "metadata": {
    "collapsed": false
   },
   "outputs": [
    {
     "name": "stdout",
     "output_type": "stream",
     "text": [
      "<open file 't.txt', mode 'r' at 0x0000000003918810>\n",
      "\n",
      "1 : It's power: python developers typically report they are able to develop\n",
      "2 : hihiihihihihihihihi\n"
     ]
    }
   ],
   "source": [
    "f = open('t.txt')\n",
    "print f.xreadlines() #리스트가 나오는 것이 아니라, 필요시 그때 그때 접근한다.\n",
    "print\n",
    "\n",
    "f.seek(0) #위에 코딩으로 인해 파일 포인터는 맨 끝에 위치하게 된다.\n",
    "\n",
    "i = 1\n",
    "for line in f.readlines():\n",
    "    print i, \":\", line,\n",
    "    i += 1\n",
    "f.close()"
   ]
  },
  {
   "cell_type": "code",
   "execution_count": 17,
   "metadata": {
    "collapsed": false
   },
   "outputs": [
    {
     "name": "stdout",
     "output_type": "stream",
     "text": [
      "first line\n",
      "second line\n",
      "third line\n",
      "\n"
     ]
    }
   ],
   "source": [
    "#라인 단위로 파일을 쓰는 방법\n",
    "#개행 문자(\\n)를 꼭 써주어야 한다.\n",
    "lines = ['first line\\n', 'second line\\n', 'third line\\n']\n",
    "f = open('t1.txt', 'w')\n",
    "f.writelines(lines)\n",
    "f.close()\n",
    "\n",
    "f = open('t1.txt')\n",
    "print f.read()\n",
    "f.close;"
   ]
  },
  {
   "cell_type": "code",
   "execution_count": 18,
   "metadata": {
    "collapsed": false
   },
   "outputs": [
    {
     "name": "stdout",
     "output_type": "stream",
     "text": [
      "first line\n",
      "second line\n",
      "third line\n"
     ]
    }
   ],
   "source": [
    "lines = ['first line', 'second line', 'third line']\n",
    "f = open('t1.txt', 'w')\n",
    "f.write('\\n'.join(lines))\n",
    "f.close()\n",
    "\n",
    "f = open('t1.txt')\n",
    "f.seek(0)\n",
    "print f.read()\n",
    "f.close()"
   ]
  },
  {
   "cell_type": "code",
   "execution_count": 20,
   "metadata": {
    "collapsed": false
   },
   "outputs": [
    {
     "name": "stdout",
     "output_type": "stream",
     "text": [
      "12\n"
     ]
    }
   ],
   "source": [
    "#파일 내에 존재하는 단어의 수\n",
    "f = open('t.txt')\n",
    "s = f.read()\n",
    "n = len(s.split()) #리스트 안에 존재하는 원소의 개수\n",
    "print n\n",
    "f.close()"
   ]
  },
  {
   "cell_type": "code",
   "execution_count": 23,
   "metadata": {
    "collapsed": false
   },
   "outputs": [
    {
     "name": "stdout",
     "output_type": "stream",
     "text": [
      "first line\n",
      "second line\n",
      "\n",
      "first line\n",
      "second line\n",
      "third line\n",
      "\n"
     ]
    }
   ],
   "source": [
    "f = open('removeme.txt', 'w')\n",
    "f.write('first line\\n')\n",
    "f.write('second line\\n')\n",
    "f.close()\n",
    "\n",
    "f = open('removeme.txt')\n",
    "print f.read()\n",
    "\n",
    "f = open('removeme.txt', 'a')\n",
    "f.write('third line\\n')\n",
    "f.close()\n",
    "\n",
    "f = open('removeme.txt')\n",
    "print f.read()"
   ]
  },
  {
   "cell_type": "markdown",
   "metadata": {},
   "source": [
    "파일 포인터 - 파일 내에서 현재 위치를 가리키고 있음\n",
    "    #순차 접근 - 파일을 앞에서 부터 순차적으로 읽고 쓰는 방식\n",
    "    #임의 접근 - 파일 내 임의 위치에서 읽고 쓰는 방식"
   ]
  },
  {
   "cell_type": "code",
   "execution_count": 29,
   "metadata": {
    "collapsed": false
   },
   "outputs": [
    {
     "name": "stdout",
     "output_type": "stream",
     "text": [
      "5\n",
      "f\n",
      "6\n"
     ]
    }
   ],
   "source": [
    "name = 't.txt'\n",
    "f = open(name, 'w+') #파일을 쓰는데, 읽기도 가능하다.\n",
    "s = 'abcdefghigk'\n",
    "f.write(s)\n",
    "\n",
    "f.seek(5)#문자열의 5번째 인덱스까지 파일 포인터 이동\n",
    "print f.tell()#현재 위치를 돌려줌\n",
    "print f.read(1)#1문자 읽기\n",
    "print f.tell()"
   ]
  },
  {
   "cell_type": "markdown",
   "metadata": {},
   "source": [
    "##표준 출력 방향 전환"
   ]
  },
  {
   "cell_type": "markdown",
   "metadata": {},
   "source": [
    "sys 모듈의 표준 입출력 관련 객체\n",
    "    sys.stdout - 표준 출력\n",
    "    sys.stderr - 표준 에러 출력\n",
    "    sys.stdin - 표준입력 \n",
    "   "
   ]
  },
  {
   "cell_type": "code",
   "execution_count": 32,
   "metadata": {
    "collapsed": true
   },
   "outputs": [],
   "source": [
    "#어렵네....\n",
    "import sys\n",
    "\n",
    "f = open('t.txt', 'w')\n",
    "stdout = sys.stdout\n",
    "sys.stdout = f #파일 객체로 표준 출력\n",
    "\n",
    "print 'Sample output'\n",
    "print 'Good'\n",
    "print 'Good'\n",
    "f.close()\n",
    "\n",
    "#파일쪽으로 출력이 되었던 부분을 다시 모니터로 복원\n",
    "sys.stdout = stdout"
   ]
  },
  {
   "cell_type": "code",
   "execution_count": 34,
   "metadata": {
    "collapsed": false
   },
   "outputs": [
    {
     "name": "stderr",
     "output_type": "stream",
     "text": [
      "Warning, action field nor supplied\n"
     ]
    }
   ],
   "source": [
    "import sys\n",
    "print >> sys.stderr, \"Warning, action field nor supplied\""
   ]
  },
  {
   "cell_type": "code",
   "execution_count": 36,
   "metadata": {
    "collapsed": false
   },
   "outputs": [
    {
     "name": "stdout",
     "output_type": "stream",
     "text": [
      "spam string\n",
      "\n"
     ]
    }
   ],
   "source": [
    "f = open('t.txt', 'w')\n",
    "#곧바로 파일에다가 내용을 쓸 수 있다.\n",
    "print >> f, 'spam string'\n",
    "f.close()\n",
    "\n",
    "f = open('t.txt')\n",
    "print f.read()\n",
    "f.close()"
   ]
  },
  {
   "cell_type": "markdown",
   "metadata": {},
   "source": [
    "#Stirng IO모듈 사용하기\n",
    "파일 객체처럼 입풀력 가능한 문자열 객체"
   ]
  },
  {
   "cell_type": "code",
   "execution_count": 37,
   "metadata": {
    "collapsed": false
   },
   "outputs": [
    {
     "name": "stdout",
     "output_type": "stream",
     "text": [
      "abc\n",
      "\n",
      "abc\n"
     ]
    }
   ],
   "source": [
    "import StringIO\n",
    "\n",
    "f = StringIO.StringIO()\n",
    "f.write(\"abc\")\n",
    "f.seek(0)\n",
    "s = f.read()\n",
    "print s\n",
    "print\n",
    "\n",
    "s2 = f.getvalue()\n",
    "print s2"
   ]
  },
  {
   "cell_type": "code",
   "execution_count": 40,
   "metadata": {
    "collapsed": false
   },
   "outputs": [
    {
     "name": "stdout",
     "output_type": "stream",
     "text": [
      "<type 'instance'>\n",
      "Sample output\n",
      "Good\n",
      "Good\n",
      "\n"
     ]
    }
   ],
   "source": [
    "import sys\n",
    "import StringIO\n",
    "\n",
    "stdout = sys.stdout\n",
    "sys.stdout = f = StringIO.StringIO()\n",
    "\n",
    "print type(f)\n",
    "print 'Sample output'\n",
    "print 'Good'\n",
    "print 'Good'\n",
    "\n",
    "sys.stdout = stdout\n",
    "\n",
    "s = f.getvalue()\n",
    "print s"
   ]
  },
  {
   "cell_type": "markdown",
   "metadata": {},
   "source": [
    "#지속성\n",
    "- 프로그램 내에 생성된 각종 객체들을 해당 프로그램 종료 이후에도 존재하게 만들고, 그것들을 동일한 또는 다른 프로그램에서 사용하는 기능 "
   ]
  },
  {
   "cell_type": "markdown",
   "metadata": {},
   "source": [
    "1. dbm - 파이썬이 제공하는 내장자료형 저장에 최적화 \n",
    "\n",
    "2. pickle - 파이썬 내장자료형 + 사용자가 정의한 객체 저장 가능(picle모듈이 좀 더 일반적)"
   ]
  },
  {
   "cell_type": "code",
   "execution_count": 43,
   "metadata": {
    "collapsed": false
   },
   "outputs": [
    {
     "name": "stdout",
     "output_type": "stream",
     "text": [
      "{'jim': 6851325, 'jack': 9465215, 'tom': 4358382}\n",
      "<type 'list'>\n"
     ]
    }
   ],
   "source": [
    "import pickle\n",
    "\n",
    "phone = {'tom':4358382, 'jack':9465215, 'jim':6851325}\n",
    "List = ['string', 1234, 0.2345]\n",
    "Tuple = (phone, list)\n",
    "\n",
    "f = open('pickle.txt', 'w')\n",
    "\n",
    "pickle.dump(Tuple, f) #저장하고자 하는 Tuple을 f에 넣어 알림\n",
    "f.close()\n",
    "\n",
    "f = open('pickle.txt')\n",
    "\n",
    "x, y = pickle.load(f) #dump와 반대되는 함수\n",
    "print x\n",
    "print y"
   ]
  },
  {
   "cell_type": "code",
   "execution_count": 45,
   "metadata": {
    "collapsed": false
   },
   "outputs": [
    {
     "name": "stdout",
     "output_type": "stream",
     "text": [
      "__main__.Simple\n",
      "10\n"
     ]
    }
   ],
   "source": [
    "#사용자가 정의한 클래스 객체\n",
    "import pickle\n",
    "\n",
    "class Simple:\n",
    "    pass\n",
    "\n",
    "s = Simple()#인스턴스 객체 생성\n",
    "s.count = 10#인스턴스 이름 공간에 변수 생성(cout라는 변수에 10을 넣는다.)\n",
    "\n",
    "f = open('pickle2.txt', 'w')\n",
    "pickle.dump(s, f) #인스턴스에 저장\n",
    "f.close()\n",
    "\n",
    "f = open('pickle2.txt')\n",
    "t = pickle.load(f) #인스턴스 가져오기\n",
    "print t.__class__ #어디에 클래스가 정의되었는지?\n",
    "print t.count"
   ]
  },
  {
   "cell_type": "code",
   "execution_count": null,
   "metadata": {
    "collapsed": true
   },
   "outputs": [],
   "source": []
  }
 ],
 "metadata": {
  "kernelspec": {
   "display_name": "Python 2",
   "language": "python",
   "name": "python2"
  },
  "language_info": {
   "codemirror_mode": {
    "name": "ipython",
    "version": 2
   },
   "file_extension": ".py",
   "mimetype": "text/x-python",
   "name": "python",
   "nbconvert_exporter": "python",
   "pygments_lexer": "ipython2",
   "version": "2.7.9"
  }
 },
 "nbformat": 4,
 "nbformat_minor": 0
}
