{
 "cells": [
  {
   "cell_type": "markdown",
   "metadata": {},
   "source": [
    "#파일 목록 얻기"
   ]
  },
  {
   "cell_type": "code",
   "execution_count": 3,
   "metadata": {
    "collapsed": false
   },
   "outputs": [
    {
     "name": "stdout",
     "output_type": "stream",
     "text": [
      "['.git', '.ipynb_checkpoints', '13. \\xc6\\xc4\\xc0\\xcf\\xc0\\xd4\\xc3\\xe2\\xb7\\xc2.ipynb', '14. \\xc6\\xc4\\xc0\\xcf\\xb0\\xfa \\xb5\\xf0\\xb7\\xba\\xc5\\xe4\\xb8\\xae \\xb4\\xd9\\xb7\\xe7\\xb1\\xe2.ipynb', 'Homework3.ipynb', 'pickle.txt', 'pickle2.txt', 'picle.txt', 'PythonHomework2.ipynb', 'remove.txt', 'removeme.txt', 'Script Programming \\xb0\\xfa\\xc1\\xa6 1.ipynb', 't.txt', 't1.txt', 'Untitled.ipynb', 'untitled.txt', 'untitled1.txt']\n",
      "\n",
      "['Python_Homework']\n"
     ]
    }
   ],
   "source": [
    "import os\n",
    "\n",
    "print os.listdir('.') #경로명에 .이므로 현재 디렉토리\n",
    "print\n",
    "print os.listdir('../') #경로명에 ../ 이므로 부모 디렉토리\n",
    "\n",
    "#라인 맨 앞에 d가 있으면 디렉토리를 의미한다.\n",
    "#rwx - 디렉토리의 소유자가 가지고 있는 읽기, 쓰기, 실행 권한\n",
    "#r-x - 그룹 외 사람들이 이용할 수 있는 권한(읽기, 실행)"
   ]
  },
  {
   "cell_type": "markdown",
   "metadata": {},
   "source": [
    "#파일 종류 알아보기"
   ]
  },
  {
   "cell_type": "code",
   "execution_count": 7,
   "metadata": {
    "collapsed": false
   },
   "outputs": [
    {
     "name": "stdout",
     "output_type": "stream",
     "text": [
      ".git : Directory\n",
      ".ipynb_checkpoints : Directory\n",
      "13. ���������.ipynb : Regular file\n",
      "14. ���ϰ� ���丮 �ٷ��.ipynb : Regular file\n",
      "Homework3.ipynb : Regular file\n",
      "pickle.txt : Regular file\n",
      "pickle2.txt : Regular file\n",
      "picle.txt : Regular file\n",
      "PythonHomework2.ipynb : Regular file\n",
      "remove.txt : Regular file\n",
      "removeme.txt : Regular file\n",
      "Script Programming ���� 1.ipynb : Regular file\n",
      "t.txt : Regular file\n",
      "t1.txt : Regular file\n",
      "Untitled.ipynb : Regular file\n",
      "untitled.txt : Regular file\n",
      "untitled1.txt : Regular file\n"
     ]
    }
   ],
   "source": [
    "import os\n",
    "\n",
    "def filetype(fpath):\n",
    "    print fpath, ':',\n",
    "    \n",
    "    if os.path.isfile(fpath):\n",
    "        print 'Regular file'\n",
    "    if os.path.isdir(fpath):\n",
    "        print 'Directory'\n",
    "    if os.path.islink(fpath):\n",
    "        print 'Symbolic link'\n",
    "        \n",
    "flist = os.listdir('.')\n",
    "for fname in flist:\n",
    "    filetype(fname)"
   ]
  },
  {
   "cell_type": "markdown",
   "metadata": {},
   "source": [
    "#파일의 허가권"
   ]
  },
  {
   "cell_type": "code",
   "execution_count": 9,
   "metadata": {
    "collapsed": false
   },
   "outputs": [
    {
     "name": "stdout",
     "output_type": "stream",
     "text": [
      " .git : Exist R W X\n",
      ".ipynb_checkpoints : Exist R W X\n",
      "13. ���������.ipynb : Exist R W X\n",
      "14. ���ϰ� ���丮 �ٷ��.ipynb : Exist R W X\n",
      "Homework3.ipynb : Exist R W X\n",
      "pickle.txt : Exist R W X\n",
      "pickle2.txt : Exist R W X\n",
      "picle.txt : Exist R W X\n",
      "PythonHomework2.ipynb : Exist R W X\n",
      "remove.txt : Exist R W X\n",
      "removeme.txt : Exist R W X\n",
      "Script Programming ���� 1.ipynb : Exist R W X\n",
      "t.txt : Exist R W X\n",
      "t1.txt : Exist R W X\n",
      "Untitled.ipynb : Exist R W X\n",
      "untitled.txt : Exist R W X\n",
      "untitled1.txt : Exist R W X\n"
     ]
    }
   ],
   "source": [
    "import os\n",
    "\n",
    "def fileaccess(fpath):\n",
    "    print fpath, ':',\n",
    "    \n",
    "    if os.access(fpath, os.F_OK):\n",
    "        print 'Exist',\n",
    "    else:\n",
    "        return\n",
    "    \n",
    "    if os.access(fpath, os.R_OK):\n",
    "        print 'R',\n",
    "    if os.access(fpath, os.W_OK):\n",
    "        print 'W',\n",
    "    if os.access(fpath, os.X_OK):\n",
    "        print 'X',\n",
    "    print\n",
    "    \n",
    "flist = os.listdir('.')\n",
    "for fname in flist:\n",
    "    fileaccess(fname)\n",
    "    \n",
    "#파일이 존재하는지, 각각의 권한이 있는지 "
   ]
  },
  {
   "cell_type": "code",
   "execution_count": 11,
   "metadata": {
    "collapsed": false
   },
   "outputs": [],
   "source": [
    "import os\n",
    "os.chmod('t.txt', 0777)\n",
    "#첫번째 7 - 권한 조정\n",
    "#두번째 7 - 그룹 권한을 조정\n",
    "#세번째 7 - 그룹 밖의 권한 조정"
   ]
  },
  {
   "cell_type": "markdown",
   "metadata": {},
   "source": [
    "#파일 조작하기"
   ]
  },
  {
   "cell_type": "code",
   "execution_count": 12,
   "metadata": {
    "collapsed": false
   },
   "outputs": [
    {
     "ename": "WindowsError",
     "evalue": "[Error 183] ",
     "output_type": "error",
     "traceback": [
      "\u001b[1;31m---------------------------------------------------------------------------\u001b[0m",
      "\u001b[1;31mWindowsError\u001b[0m                              Traceback (most recent call last)",
      "\u001b[1;32m<ipython-input-12-8dc5ccae4a30>\u001b[0m in \u001b[0;36m<module>\u001b[1;34m()\u001b[0m\n\u001b[0;32m      1\u001b[0m \u001b[1;32mimport\u001b[0m \u001b[0mos\u001b[0m\u001b[1;33m\u001b[0m\u001b[0m\n\u001b[1;32m----> 2\u001b[1;33m \u001b[0mos\u001b[0m\u001b[1;33m.\u001b[0m\u001b[0mrename\u001b[0m\u001b[1;33m(\u001b[0m\u001b[1;34m't.txt'\u001b[0m\u001b[1;33m,\u001b[0m \u001b[1;34m't1.txt'\u001b[0m\u001b[1;33m)\u001b[0m\u001b[1;33m\u001b[0m\u001b[0m\n\u001b[0m\u001b[0;32m      3\u001b[0m \u001b[1;32mprint\u001b[0m \u001b[0mos\u001b[0m\u001b[1;33m.\u001b[0m\u001b[0maccess\u001b[0m\u001b[1;33m(\u001b[0m\u001b[1;34m't.txt'\u001b[0m\u001b[1;33m,\u001b[0m \u001b[0mos\u001b[0m\u001b[1;33m.\u001b[0m\u001b[0mF_OK\u001b[0m\u001b[1;33m)\u001b[0m\u001b[1;33m\u001b[0m\u001b[0m\n\u001b[0;32m      4\u001b[0m \u001b[1;32mprint\u001b[0m \u001b[0mos\u001b[0m\u001b[1;33m.\u001b[0m\u001b[0maccess\u001b[0m\u001b[1;33m(\u001b[0m\u001b[1;34m't1.tx'\u001b[0m\u001b[1;33m,\u001b[0m \u001b[0mos\u001b[0m\u001b[1;33m.\u001b[0m\u001b[0mF_OK\u001b[0m\u001b[1;33m)\u001b[0m\u001b[1;33m\u001b[0m\u001b[0m\n",
      "\u001b[1;31mWindowsError\u001b[0m: [Error 183] "
     ]
    }
   ],
   "source": [
    "import os\n",
    "os.rename('t.txt', 't1.txt')\n",
    "print os.access('t.txt', os.F_OK)\n",
    "print os.access('t1.tx', os.F_OK)"
   ]
  },
  {
   "cell_type": "code",
   "execution_count": 14,
   "metadata": {
    "collapsed": false
   },
   "outputs": [
    {
     "ename": "WindowsError",
     "evalue": "[Error 3] ",
     "output_type": "error",
     "traceback": [
      "\u001b[1;31m---------------------------------------------------------------------------\u001b[0m",
      "\u001b[1;31mWindowsError\u001b[0m                              Traceback (most recent call last)",
      "\u001b[1;32m<ipython-input-14-d1da689cdffc>\u001b[0m in \u001b[0;36m<module>\u001b[1;34m()\u001b[0m\n\u001b[0;32m      1\u001b[0m \u001b[1;31m#파일 이동하기\u001b[0m\u001b[1;33m\u001b[0m\u001b[1;33m\u001b[0m\u001b[0m\n\u001b[0;32m      2\u001b[0m \u001b[1;32mimport\u001b[0m \u001b[0mos\u001b[0m\u001b[1;33m\u001b[0m\u001b[0m\n\u001b[1;32m----> 3\u001b[1;33m \u001b[0mos\u001b[0m\u001b[1;33m.\u001b[0m\u001b[0mrename\u001b[0m\u001b[1;33m(\u001b[0m\u001b[1;34m't1.txt'\u001b[0m\u001b[1;33m,\u001b[0m \u001b[1;34m'example/t1.txt'\u001b[0m\u001b[1;33m)\u001b[0m\u001b[1;33m\u001b[0m\u001b[0m\n\u001b[0m\u001b[0;32m      4\u001b[0m \u001b[1;32mprint\u001b[0m \u001b[0mos\u001b[0m\u001b[1;33m.\u001b[0m\u001b[0maccess\u001b[0m\u001b[1;33m(\u001b[0m\u001b[1;34m'examples/t1.txt'\u001b[0m\u001b[1;33m,\u001b[0m \u001b[0mos\u001b[0m\u001b[1;33m.\u001b[0m\u001b[0mF_OK\u001b[0m\u001b[1;33m)\u001b[0m\u001b[1;33m\u001b[0m\u001b[0m\n",
      "\u001b[1;31mWindowsError\u001b[0m: [Error 3] "
     ]
    }
   ],
   "source": [
    "#파일 이동하기\n",
    "import os\n",
    "os.rename('t1.txt', 'example/t1.txt')\n",
    "print os.access('examples/t1.txt', os.F_OK)"
   ]
  },
  {
   "cell_type": "code",
   "execution_count": 15,
   "metadata": {
    "collapsed": false
   },
   "outputs": [
    {
     "ename": "IOError",
     "evalue": "[Errno 2] No such file or directory: 'sample.txt'",
     "output_type": "error",
     "traceback": [
      "\u001b[1;31m---------------------------------------------------------------------------\u001b[0m",
      "\u001b[1;31mIOError\u001b[0m                                   Traceback (most recent call last)",
      "\u001b[1;32m<ipython-input-15-0a9d1826d89c>\u001b[0m in \u001b[0;36m<module>\u001b[1;34m()\u001b[0m\n\u001b[0;32m      1\u001b[0m \u001b[1;31m#파일 복사하기\u001b[0m\u001b[1;33m\u001b[0m\u001b[1;33m\u001b[0m\u001b[0m\n\u001b[0;32m      2\u001b[0m \u001b[1;32mimport\u001b[0m \u001b[0mshutil\u001b[0m\u001b[1;33m\u001b[0m\u001b[0m\n\u001b[1;32m----> 3\u001b[1;33m \u001b[0mshutil\u001b[0m\u001b[1;33m.\u001b[0m\u001b[0mcopyfile\u001b[0m\u001b[1;33m(\u001b[0m\u001b[1;34m'sample.txt'\u001b[0m\u001b[1;33m,\u001b[0m \u001b[1;34m'sample_new.txt'\u001b[0m\u001b[1;33m)\u001b[0m\u001b[1;33m\u001b[0m\u001b[0m\n\u001b[0m\u001b[0;32m      4\u001b[0m \u001b[1;32mprint\u001b[0m \u001b[0mos\u001b[0m\u001b[1;33m.\u001b[0m\u001b[0maccess\u001b[0m\u001b[1;33m(\u001b[0m\u001b[1;34m'sample_new.txt'\u001b[0m\u001b[1;33m,\u001b[0m \u001b[0mos\u001b[0m\u001b[1;33m.\u001b[0m\u001b[0mF_OK\u001b[0m\u001b[1;33m)\u001b[0m\u001b[1;33m\u001b[0m\u001b[0m\n",
      "\u001b[1;32mC:\\Users\\SeoSeongHyuk\\AppData\\Local\\Enthought\\Canopy\\App\\appdata\\canopy-1.5.5.3123.win-x86_64\\lib\\shutil.pyc\u001b[0m in \u001b[0;36mcopyfile\u001b[1;34m(src, dst)\u001b[0m\n\u001b[0;32m     80\u001b[0m                 \u001b[1;32mraise\u001b[0m \u001b[0mSpecialFileError\u001b[0m\u001b[1;33m(\u001b[0m\u001b[1;34m\"`%s` is a named pipe\"\u001b[0m \u001b[1;33m%\u001b[0m \u001b[0mfn\u001b[0m\u001b[1;33m)\u001b[0m\u001b[1;33m\u001b[0m\u001b[0m\n\u001b[0;32m     81\u001b[0m \u001b[1;33m\u001b[0m\u001b[0m\n\u001b[1;32m---> 82\u001b[1;33m     \u001b[1;32mwith\u001b[0m \u001b[0mopen\u001b[0m\u001b[1;33m(\u001b[0m\u001b[0msrc\u001b[0m\u001b[1;33m,\u001b[0m \u001b[1;34m'rb'\u001b[0m\u001b[1;33m)\u001b[0m \u001b[1;32mas\u001b[0m \u001b[0mfsrc\u001b[0m\u001b[1;33m:\u001b[0m\u001b[1;33m\u001b[0m\u001b[0m\n\u001b[0m\u001b[0;32m     83\u001b[0m         \u001b[1;32mwith\u001b[0m \u001b[0mopen\u001b[0m\u001b[1;33m(\u001b[0m\u001b[0mdst\u001b[0m\u001b[1;33m,\u001b[0m \u001b[1;34m'wb'\u001b[0m\u001b[1;33m)\u001b[0m \u001b[1;32mas\u001b[0m \u001b[0mfdst\u001b[0m\u001b[1;33m:\u001b[0m\u001b[1;33m\u001b[0m\u001b[0m\n\u001b[0;32m     84\u001b[0m             \u001b[0mcopyfileobj\u001b[0m\u001b[1;33m(\u001b[0m\u001b[0mfsrc\u001b[0m\u001b[1;33m,\u001b[0m \u001b[0mfdst\u001b[0m\u001b[1;33m)\u001b[0m\u001b[1;33m\u001b[0m\u001b[0m\n",
      "\u001b[1;31mIOError\u001b[0m: [Errno 2] No such file or directory: 'sample.txt'"
     ]
    }
   ],
   "source": [
    "#파일 복사하기\n",
    "import shutil\n",
    "shutil.copyfile('sample.txt', 'sample_new.txt')\n",
    "print os.access('sample_new.txt', os.F_OK)"
   ]
  },
  {
   "cell_type": "markdown",
   "metadata": {},
   "source": [
    "#파일 이름 다루기"
   ]
  },
  {
   "cell_type": "code",
   "execution_count": 18,
   "metadata": {
    "collapsed": false
   },
   "outputs": [
    {
     "name": "stdout",
     "output_type": "stream",
     "text": [
      "C:\\Users\\SeoSeongHyuk\\Documents\\git\\Python_Homework\\o.txt\n"
     ]
    }
   ],
   "source": [
    "import os\n",
    "print os.path.abspath('o.txt')\n",
    "#o.txt를 기준으로 절대 경로를 뽑는 방법"
   ]
  },
  {
   "cell_type": "code",
   "execution_count": 19,
   "metadata": {
    "collapsed": false
   },
   "outputs": [
    {
     "name": "stdout",
     "output_type": "stream",
     "text": [
      "C:\\Users\\SeoSeongHyuk\\Documents\\git\\Python_Homework\n",
      "C:\\Users\\SeoSeongHyuk\\Documents\\git\\Python_Homework\\o.txt\n"
     ]
    }
   ],
   "source": [
    "import os\n",
    "print os.getcwd()\n",
    "print os.path.abspath('o.txt')"
   ]
  },
  {
   "cell_type": "code",
   "execution_count": 22,
   "metadata": {
    "collapsed": false
   },
   "outputs": [
    {
     "ename": "AttributeError",
     "evalue": "'module' object has no attribute 'exist'",
     "output_type": "error",
     "traceback": [
      "\u001b[1;31m---------------------------------------------------------------------------\u001b[0m",
      "\u001b[1;31mAttributeError\u001b[0m                            Traceback (most recent call last)",
      "\u001b[1;32m<ipython-input-22-923c1d7deb80>\u001b[0m in \u001b[0;36m<module>\u001b[1;34m()\u001b[0m\n\u001b[0;32m      1\u001b[0m \u001b[1;32mimport\u001b[0m \u001b[0mos\u001b[0m\u001b[1;33m\u001b[0m\u001b[0m\n\u001b[0;32m      2\u001b[0m \u001b[0mf\u001b[0m \u001b[1;33m=\u001b[0m \u001b[1;34m'\\Users\\SeoSeongHyuk\\Documents\\git\\Python_Homework\\t.txt'\u001b[0m\u001b[1;33m\u001b[0m\u001b[0m\n\u001b[1;32m----> 3\u001b[1;33m \u001b[1;32mprint\u001b[0m \u001b[0mos\u001b[0m\u001b[1;33m.\u001b[0m\u001b[0mpath\u001b[0m\u001b[1;33m.\u001b[0m\u001b[0mexist\u001b[0m\u001b[1;33m(\u001b[0m\u001b[0mf\u001b[0m\u001b[1;33m)\u001b[0m\u001b[1;33m\u001b[0m\u001b[0m\n\u001b[0m\u001b[0;32m      4\u001b[0m \u001b[1;32mprint\u001b[0m \u001b[0mos\u001b[0m\u001b[1;33m.\u001b[0m\u001b[0mpath\u001b[0m\u001b[1;33m.\u001b[0m\u001b[0mexist\u001b[0m\u001b[1;33m(\u001b[0m\u001b[1;34m't.txt'\u001b[0m\u001b[1;33m)\u001b[0m\u001b[1;33m\u001b[0m\u001b[0m\n\u001b[0;32m      5\u001b[0m \u001b[1;32mprint\u001b[0m \u001b[0mos\u001b[0m\u001b[1;33m.\u001b[0m\u001b[0mpath\u001b[0m\u001b[1;33m.\u001b[0m\u001b[0mexist\u001b[0m\u001b[1;33m(\u001b[0m\u001b[1;34m'asdf.txt'\u001b[0m\u001b[1;33m)\u001b[0m\u001b[1;33m\u001b[0m\u001b[0m\n",
      "\u001b[1;31mAttributeError\u001b[0m: 'module' object has no attribute 'exist'"
     ]
    }
   ],
   "source": [
    "import os\n",
    "f = '\\Users\\SeoSeongHyuk\\Documents\\git\\Python_Homework\\t.txt'\n",
    "print os.path.exist(f)\n",
    "print os.path.exist('t.txt')\n",
    "print os.path.exist('asdf.txt')"
   ]
  },
  {
   "cell_type": "code",
   "execution_count": 27,
   "metadata": {
    "collapsed": false
   },
   "outputs": [
    {
     "name": "stdout",
     "output_type": "stream",
     "text": [
      ".\n",
      "..\n",
      "\\\n"
     ]
    }
   ],
   "source": [
    "#현재 디렉토리와 부모 디렉토리를 가리키는 이름 얻기\n",
    "print os.curdir#현재 디렉토리\n",
    "print os.pardir#부모 디렉토리\n",
    "print os.sep#디렉토리 분리 문자 얻기"
   ]
  },
  {
   "cell_type": "markdown",
   "metadata": {},
   "source": [
    "#경로명 분리하기 "
   ]
  },
  {
   "cell_type": "code",
   "execution_count": 29,
   "metadata": {
    "collapsed": false
   },
   "outputs": [
    {
     "name": "stdout",
     "output_type": "stream",
     "text": [
      " t.txt\n",
      "\\Users\\SeoSeongHyuk\\Documents\\git\\Python_Homework\n"
     ]
    }
   ],
   "source": [
    "import os\n",
    "\n",
    "f = '\\Users\\SeoSeongHyuk\\Documents\\git\\Python_Homework\\ t.txt'\n",
    "\n",
    "print os.path.basename(f)\n",
    "print os.path.dirname(f)"
   ]
  },
  {
   "cell_type": "code",
   "execution_count": 31,
   "metadata": {
    "collapsed": false
   },
   "outputs": [
    {
     "name": "stdout",
     "output_type": "stream",
     "text": [
      "('\\\\Users\\\\SeoSeongHyuk\\\\Documents\\\\git\\\\Python_Homework', ' t.txt')\n"
     ]
    }
   ],
   "source": [
    "#경로 명과 파일 명을 한번에 분리\n",
    "print os.path.split(f)"
   ]
  },
  {
   "cell_type": "code",
   "execution_count": 33,
   "metadata": {
    "collapsed": false
   },
   "outputs": [
    {
     "name": "stdout",
     "output_type": "stream",
     "text": [
      "('', '\\\\Users\\\\SeoSeongHyuk\\\\Documents\\\\git\\\\Python_Homework\\\\ t.txt')\n"
     ]
    }
   ],
   "source": [
    "#윈도우즈에서 드라이브명과 파일 경로명을 분리\n",
    "print os.path.splitdrive(f)"
   ]
  },
  {
   "cell_type": "code",
   "execution_count": 35,
   "metadata": {
    "collapsed": false
   },
   "outputs": [
    {
     "name": "stdout",
     "output_type": "stream",
     "text": [
      "('\\\\Users\\\\SeoSeongHyuk\\\\Documents\\\\git\\\\Python_Homework\\\\ t', '.txt')\n"
     ]
    }
   ],
   "source": [
    "#확장자 분리\n",
    "print os.path.splitext(f)#ext - 확장자를 의미한다."
   ]
  },
  {
   "cell_type": "markdown",
   "metadata": {},
   "source": [
    "#디렉토리에 관련된 일반 작업"
   ]
  },
  {
   "cell_type": "code",
   "execution_count": 37,
   "metadata": {
    "collapsed": false
   },
   "outputs": [
    {
     "name": "stdout",
     "output_type": "stream",
     "text": [
      "C:\\Users\\SeoSeongHyuk\\Documents\\git\\Python_Homework\n"
     ]
    }
   ],
   "source": [
    "#현재 작업하고 있는 디렉토리\n",
    "import os\n",
    "#os.chdir('\\User\\...') 작업 디렉토리가 변경된다.\n",
    "print os.getcwd()"
   ]
  },
  {
   "cell_type": "code",
   "execution_count": 39,
   "metadata": {
    "collapsed": false
   },
   "outputs": [
    {
     "ename": "WindowsError",
     "evalue": "[Error 183] : 'temp'",
     "output_type": "error",
     "traceback": [
      "\u001b[1;31m---------------------------------------------------------------------------\u001b[0m",
      "\u001b[1;31mWindowsError\u001b[0m                              Traceback (most recent call last)",
      "\u001b[1;32m<ipython-input-39-08dd716dc3eb>\u001b[0m in \u001b[0;36m<module>\u001b[1;34m()\u001b[0m\n\u001b[0;32m      1\u001b[0m \u001b[1;32mimport\u001b[0m \u001b[0mos\u001b[0m\u001b[1;33m\u001b[0m\u001b[0m\n\u001b[1;32m----> 2\u001b[1;33m \u001b[0mos\u001b[0m\u001b[1;33m.\u001b[0m\u001b[0mmkdir\u001b[0m\u001b[1;33m(\u001b[0m\u001b[1;34m'temp'\u001b[0m\u001b[1;33m)\u001b[0m\u001b[1;33m\u001b[0m\u001b[0m\n\u001b[0m\u001b[0;32m      3\u001b[0m \u001b[0mos\u001b[0m\u001b[1;33m.\u001b[0m\u001b[0mmkdir\u001b[0m\u001b[1;33m(\u001b[0m\u001b[1;34m'temp2'\u001b[0m\u001b[1;33m,\u001b[0m \u001b[1;36m0700\u001b[0m\u001b[1;33m)\u001b[0m\u001b[1;33m\u001b[0m\u001b[0m\n\u001b[0;32m      4\u001b[0m \u001b[0mos\u001b[0m\u001b[1;33m.\u001b[0m\u001b[0mmkdirs\u001b[0m\u001b[1;33m(\u001b[0m\u001b[1;34m'temp/level1/level2'\u001b[0m\u001b[1;33m)\u001b[0m  \u001b[1;31m#재귀적으로 만든다.\u001b[0m\u001b[1;33m\u001b[0m\u001b[0m\n",
      "\u001b[1;31mWindowsError\u001b[0m: [Error 183] : 'temp'"
     ]
    }
   ],
   "source": [
    "import os\n",
    "os.mkdir('temp')\n",
    "os.mkdir('temp2', 0700)\n",
    "os.mkdirs('temp/level1/level2')  #재귀적으로 만든다."
   ]
  },
  {
   "cell_type": "code",
   "execution_count": 40,
   "metadata": {
    "collapsed": true
   },
   "outputs": [],
   "source": [
    "#디렉토리 삭제\n",
    "os.rmdir('temp')"
   ]
  },
  {
   "cell_type": "code",
   "execution_count": 41,
   "metadata": {
    "collapsed": false
   },
   "outputs": [
    {
     "ename": "AttributeError",
     "evalue": "'module' object has no attribute 'rmdirs'",
     "output_type": "error",
     "traceback": [
      "\u001b[1;31m---------------------------------------------------------------------------\u001b[0m",
      "\u001b[1;31mAttributeError\u001b[0m                            Traceback (most recent call last)",
      "\u001b[1;32m<ipython-input-41-9a871ca017c2>\u001b[0m in \u001b[0;36m<module>\u001b[1;34m()\u001b[0m\n\u001b[0;32m      1\u001b[0m \u001b[1;31m#다단계 디렉토리 삭제\u001b[0m\u001b[1;33m\u001b[0m\u001b[1;33m\u001b[0m\u001b[0m\n\u001b[1;32m----> 2\u001b[1;33m \u001b[0mos\u001b[0m\u001b[1;33m.\u001b[0m\u001b[0mrmdirs\u001b[0m\u001b[1;33m(\u001b[0m\u001b[1;34m'temp/level1/level2'\u001b[0m\u001b[1;33m)\u001b[0m \u001b[1;31m#오른쪽에서 왼쪽 순으로 삭제\u001b[0m\u001b[1;33m\u001b[0m\u001b[0m\n\u001b[0m",
      "\u001b[1;31mAttributeError\u001b[0m: 'module' object has no attribute 'rmdirs'"
     ]
    }
   ],
   "source": [
    "#다단계 디렉토리 삭제\n",
    "os.rmdirs('temp/level1/level2') #오른쪽에서 왼쪽 순으로 삭제"
   ]
  },
  {
   "cell_type": "code",
   "execution_count": null,
   "metadata": {
    "collapsed": true
   },
   "outputs": [],
   "source": [
    "#하위 디렉토리까지 모두 한번에 삭제\n",
    "import shutil\n",
    "shutil.rmtree('temp')"
   ]
  },
  {
   "cell_type": "code",
   "execution_count": 42,
   "metadata": {
    "collapsed": true
   },
   "outputs": [],
   "source": [
    "#디렉토리 복사\n",
    "import os, shutil\n",
    "os.mkdir('temp')\n",
    "os.mkdir('temp/temp2',0700)\n",
    "shutil.copytree('temp', 'myweb_backup')"
   ]
  },
  {
   "cell_type": "markdown",
   "metadata": {},
   "source": [
    "#디렉토리(트리) 탐색하기"
   ]
  },
  {
   "cell_type": "code",
   "execution_count": 46,
   "metadata": {
    "collapsed": false
   },
   "outputs": [
    {
     "name": "stdout",
     "output_type": "stream",
     "text": [
      "removing C:\\Users\\SeoSeongHyuk\\Documents\\git\\Python_Homework\\pickle.txt\n",
      "removing C:\\Users\\SeoSeongHyuk\\Documents\\git\\Python_Homework\\pickle2.txt\n"
     ]
    },
    {
     "ename": "WindowsError",
     "evalue": "[Error 32] : 'C:\\\\Users\\\\SeoSeongHyuk\\\\Documents\\\\git\\\\Python_Homework\\\\pickle2.txt'",
     "output_type": "error",
     "traceback": [
      "\u001b[1;31m---------------------------------------------------------------------------\u001b[0m",
      "\u001b[1;31mWindowsError\u001b[0m                              Traceback (most recent call last)",
      "\u001b[1;32m<ipython-input-46-378e5f706708>\u001b[0m in \u001b[0;36m<module>\u001b[1;34m()\u001b[0m\n\u001b[0;32m      6\u001b[0m             \u001b[0mfullpath\u001b[0m \u001b[1;33m=\u001b[0m \u001b[0mos\u001b[0m\u001b[1;33m.\u001b[0m\u001b[0mpath\u001b[0m\u001b[1;33m.\u001b[0m\u001b[0mjoin\u001b[0m\u001b[1;33m(\u001b[0m\u001b[0mpath\u001b[0m\u001b[1;33m,\u001b[0m \u001b[0mfname\u001b[0m\u001b[1;33m)\u001b[0m\u001b[1;33m\u001b[0m\u001b[0m\n\u001b[0;32m      7\u001b[0m             \u001b[1;32mprint\u001b[0m \u001b[1;34m'removing'\u001b[0m\u001b[1;33m,\u001b[0m \u001b[0mfullpath\u001b[0m\u001b[1;33m\u001b[0m\u001b[0m\n\u001b[1;32m----> 8\u001b[1;33m             \u001b[0mos\u001b[0m\u001b[1;33m.\u001b[0m\u001b[0mremove\u001b[0m\u001b[1;33m(\u001b[0m\u001b[0mfullpath\u001b[0m\u001b[1;33m)\u001b[0m\u001b[1;33m\u001b[0m\u001b[0m\n\u001b[0m",
      "\u001b[1;31mWindowsError\u001b[0m: [Error 32] : 'C:\\\\Users\\\\SeoSeongHyuk\\\\Documents\\\\git\\\\Python_Homework\\\\pickle2.txt'"
     ]
    }
   ],
   "source": [
    "import os\n",
    "\n",
    "for path, subdirs, files in os.walk(os.getcwd()):  #하위 디렉토리를 전부 다 들어가 본다.\n",
    "    for fname in files:\n",
    "        if fname.endswith('.txt'):\n",
    "            fullpath = os.path.join(path, fname)\n",
    "            print 'removing', fullpath\n",
    "            os.remove(fullpath)"
   ]
  },
  {
   "cell_type": "code",
   "execution_count": null,
   "metadata": {
    "collapsed": true
   },
   "outputs": [],
   "source": []
  }
 ],
 "metadata": {
  "kernelspec": {
   "display_name": "Python 2",
   "language": "python",
   "name": "python2"
  },
  "language_info": {
   "codemirror_mode": {
    "name": "ipython",
    "version": 2
   },
   "file_extension": ".py",
   "mimetype": "text/x-python",
   "name": "python",
   "nbconvert_exporter": "python",
   "pygments_lexer": "ipython2",
   "version": "2.7.9"
  }
 },
 "nbformat": 4,
 "nbformat_minor": 0
}
