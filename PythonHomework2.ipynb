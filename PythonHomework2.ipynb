{
 "cells": [
  {
   "cell_type": "markdown",
   "metadata": {
    "collapsed": true
   },
   "source": [
    "문제1. 다음 6개의 Expression에 대해 Evaluation 결과 값을 출력하고, 해당 결과가 나온 이유에 대해 설명하시오."
   ]
  },
  {
   "cell_type": "markdown",
   "metadata": {},
   "source": [
    "(1)   1 and 2 and 3 and 4"
   ]
  },
  {
   "cell_type": "code",
   "execution_count": 3,
   "metadata": {
    "collapsed": false
   },
   "outputs": [
    {
     "data": {
      "text/plain": [
       "4"
      ]
     },
     "execution_count": 3,
     "metadata": {},
     "output_type": "execute_result"
    }
   ],
   "source": [
    "eval('1 and 2 and 3 and 4')"
   ]
  },
  {
   "cell_type": "markdown",
   "metadata": {},
   "source": [
    "and의 경우, 양쪽 모두가 참이면 참이다. 그러므로 마지막까지 검사한다."
   ]
  },
  {
   "cell_type": "code",
   "execution_count": 4,
   "metadata": {
    "collapsed": false
   },
   "outputs": [
    {
     "data": {
      "text/plain": [
       "1"
      ]
     },
     "execution_count": 4,
     "metadata": {},
     "output_type": "execute_result"
    }
   ],
   "source": [
    "eval('1 or 2 or 3 or 4')"
   ]
  },
  {
   "cell_type": "markdown",
   "metadata": {},
   "source": [
    "or의 경우, 하나만 참이더라도 참이다. 그러므로 처음에 참이 나왔기 때문에 참이다"
   ]
  },
  {
   "cell_type": "code",
   "execution_count": 5,
   "metadata": {
    "collapsed": false
   },
   "outputs": [
    {
     "data": {
      "text/plain": [
       "2"
      ]
     },
     "execution_count": 5,
     "metadata": {},
     "output_type": "execute_result"
    }
   ],
   "source": [
    "eval('1 and 2 or 3 and 4')"
   ]
  },
  {
   "cell_type": "markdown",
   "metadata": {},
   "source": [
    "1 and 2의 경우 2를, 2 or 3의 경우 2를, 따라서 2가 나오게 된다."
   ]
  },
  {
   "cell_type": "code",
   "execution_count": 8,
   "metadata": {
    "collapsed": false
   },
   "outputs": [
    {
     "data": {
      "text/plain": [
       "2"
      ]
     },
     "execution_count": 8,
     "metadata": {},
     "output_type": "execute_result"
    }
   ],
   "source": [
    "eval('(1 and 2) or (3 and 4)')"
   ]
  },
  {
   "cell_type": "markdown",
   "metadata": {},
   "source": [
    "1 and 2의 경우 2를, 3 and 4의 경우 4를, 2 or 4의 경우 2가 나오게 된다."
   ]
  },
  {
   "cell_type": "code",
   "execution_count": 9,
   "metadata": {
    "collapsed": false
   },
   "outputs": [
    {
     "data": {
      "text/plain": [
       "3"
      ]
     },
     "execution_count": 9,
     "metadata": {},
     "output_type": "execute_result"
    }
   ],
   "source": [
    "eval('(1 or 2) and (3 or 4)')"
   ]
  },
  {
   "cell_type": "markdown",
   "metadata": {},
   "source": [
    "1 or 2의 경우 1을, 3 or 4의 경우 3을, 1 and 3의 경우 1이 나오게 된다."
   ]
  },
  {
   "cell_type": "markdown",
   "metadata": {},
   "source": [
    "\n",
    "\n",
    "문제2. 키보드로 정수값을 입력 받고 그 값이 양수인지 음수인지를 비트 연산자를 이용하여 판단하는 프로그램을 작성하시오."
   ]
  },
  {
   "cell_type": "code",
   "execution_count": 29,
   "metadata": {
    "collapsed": false
   },
   "outputs": [
    {
     "name": "stdout",
     "output_type": "stream",
     "text": [
      "정수 값을 입력하세요: -5\n",
      "음수\n"
     ]
    }
   ],
   "source": [
    "n = input(u\"정수 값을 입력하세요: \")\n",
    "\n",
    "a = n >> 1000000000\n",
    "\n",
    "if a == -1:\n",
    "    print (\"음수\")\n",
    "elif a == 0:\n",
    "    print (\"양수\")"
   ]
  },
  {
   "cell_type": "markdown",
   "metadata": {},
   "source": [
    "아래 코딩을 보게되면 음수를 계속 비트 이동(>>)시켜주면 -1이 나오게 되고, 양수를 계속 비트이동(>>)시켜주면 0이 나오는 것을 이용해 준다."
   ]
  },
  {
   "cell_type": "code",
   "execution_count": 20,
   "metadata": {
    "collapsed": false
   },
   "outputs": [
    {
     "name": "stdout",
     "output_type": "stream",
     "text": [
      "0b11\n",
      "0b1100\n",
      "-0b11\n",
      "-0b1100\n",
      "-2\n",
      "-1\n",
      "-1\n",
      "-1\n",
      "-1\n",
      "-1\n",
      "2\n",
      "1\n",
      "0\n",
      "0\n"
     ]
    }
   ],
   "source": [
    "a = 3\n",
    "print bin(a)\n",
    "\n",
    "b = a << 2\n",
    "print bin(b)\n",
    "\n",
    "c = -3\n",
    "print bin(c)\n",
    "\n",
    "d = c << 2\n",
    "print bin(d)\n",
    "\n",
    "e = -4\n",
    "print e >> 1\n",
    "print e >> 2\n",
    "print e >> 3\n",
    "print e >> 4\n",
    "print e >> 5\n",
    "print e >> 6\n",
    "\n",
    "e = 4\n",
    "print e >> 1\n",
    "print e >> 2\n",
    "print e >> 3\n",
    "print e >> 4"
   ]
  },
  {
   "cell_type": "markdown",
   "metadata": {},
   "source": [
    "\n",
    "\n",
    "문제3. 경로에 해당하는 문자열 1개를 입력 받아 그 안에 디렉토리경로명과 파일명을 분리하여 리스트로 반환하는 함수 div_path(s)를 작성하시오.\n",
    "\n",
    "\n",
    "▶ 인자로 전달하는 문자열은 경로만 들어간다고 가정한다.\n",
    "\n",
    "▶ 각 디렉토리와 파일을 구분하는 문자는 '/'로 가정한다.\n",
    "\n",
    "▶ 반환하는 리스트의 첫번째 원소는 디렉토리이고 두번째 원소는 파일명이다.\n",
    "\n",
    "▶ 다음과 같은 실행 및 출력 결과가 도출되어야 한다.\n",
    "\n",
    "▷ div_path('/usr/local/bin/python')\n",
    "\n",
    "▷ ['/usr/local/bin', 'python']\n",
    "\n",
    "▷ div_path('/home/chulsoo/test.txt')\n",
    "\n",
    "▷ ['/home/chulsoo', 'test.txt']\n",
    "\n",
    "▶ [참고] 리스트(l) 내에 새로운 정수값 (예를 들어 10)을 넣는 방법은 l.append(10) 이다.\n"
   ]
  },
  {
   "cell_type": "code",
   "execution_count": 2,
   "metadata": {
    "collapsed": false
   },
   "outputs": [
    {
     "name": "stdout",
     "output_type": "stream",
     "text": [
      "경로에 해당하는 문자열을 입력 :/Seo/git/test.cpp\n",
      "['/Seo/git', 'test.cpp']\n"
     ]
    }
   ],
   "source": [
    "def div_path(s):\n",
    "    s = s.split('/')\n",
    "    l = len(s)\n",
    "    news = ''\n",
    "\n",
    "    for i in range(1,l-1):\n",
    "        news += ('/' + s[i])\n",
    "    \n",
    "    news2 = []\n",
    "    news2.append(news)\n",
    "    news2.append(s[l-1])\n",
    "\n",
    "    return news2\n",
    "    \n",
    "    \n",
    "dir = raw_input(u\"경로에 해당하는 문자열을 입력 :\")\n",
    "print div_path(dir)"
   ]
  },
  {
   "cell_type": "markdown",
   "metadata": {},
   "source": [
    "문자열을 입력 받게 되면, 먼저 '/'를 기준으로 문자열을 나눠준다. -  ['', 'Seo', 'git', 'test.cpp']\n",
    "\n",
    "for문을 이용해 i = 0일 때와 i = l - 1일 때를 제외한 나머지를 '/'를 붙여 결합시켜 준다."
   ]
  },
  {
   "cell_type": "markdown",
   "metadata": {},
   "source": [
    "\n",
    "\n",
    "문제4. 두 개의 리스트를 인자로 받아서 그 두 개의 리스트에 대한 '합집합'을 반환하는 함수 list_union(lista, listb)를 작성하시오.\n",
    "\n",
    "▶인자로 전달하는 리스트 2 개에는 정수값만 들어간다고 가정하자.\n",
    "\n",
    "▶함수 내에서 새로운 리스트를 만들어 그 리스트 내에 인자로 받은 두 리스트의 모든 원소를 넣어 반환한다.\n",
    "\n",
    "▶반환하는 리스트에는 절대로 중복된 원소가 들어 있으면 안된다 (집합의 조건).\n",
    "\n",
    "▶반환하는 리스트는 정렬이 되어 있어야 한다.\n",
    "\n",
    "▶다음과 같은 실행 및 출력 결과가 도출되어야 한다.\n",
    "\n",
    " ▷ list_union([1, 2, 3], [1, 2, 4])\n",
    "\n",
    "        ◇  [1, 2, 3, 4]\n",
    "\n",
    " ▷ list_union([-10, -5, 0, -1], [100, 9, 0, 9])\n",
    "\n",
    "        ◇  [-10, -5, -1, 0, 9, 100]\n",
    "\n",
    "▷ list_union([0, 1, 2], [0, 1, 2])\n",
    "\n",
    "        ◇  [0, 1, 2]\n",
    "\n",
    "▶[참고] 리스트(l) 내에 새로운 정수값 (예를 들어 10)을 넣는 방법은 l.append(10) 이다.\n",
    "\n",
    "▶[참고] 임의의 정수값 (x)이 리스트 (l) 내에 존재하는지 판단하는 방법은 x in l 이다.\n",
    "\n",
    " "
   ]
  },
  {
   "cell_type": "code",
   "execution_count": 86,
   "metadata": {
    "collapsed": false
   },
   "outputs": [
    {
     "name": "stdout",
     "output_type": "stream",
     "text": [
      "1번 리스트를 입력하세요 :9,8,7,6,5\n",
      "2번 리스트를 입력하세요 :1,2,3,4,5\n",
      "[1, 2, 3, 4, 5, 6, 7, 8, 9]\n",
      "[1, 2, 3, 4, 5, 6, 7, 8, 9]\n"
     ]
    }
   ],
   "source": [
    "def list_union(lista, listb):\n",
    "    total = []\n",
    "    slista = len(lista)\n",
    "    for i in range(slista):\n",
    "        total.append(lista[i])\n",
    "    \n",
    "    slistb = len(listb)\n",
    "    for i in range(slistb):\n",
    "        if (listb[i] in lista) == False:\n",
    "            total.append(listb[i])\n",
    "    \n",
    "    total.sort()\n",
    "    \n",
    "    return total\n",
    "\n",
    "l1 = []\n",
    "l2 = []\n",
    "l1 = input(u\"1번 리스트를 입력하세요 :\")\n",
    "l2 = input(u\"2번 리스트를 입력하세요 :\")\n",
    "\n",
    "l3 = []\n",
    "l3 = list_union(l1, l2)\n",
    "sl3 = len(l3)\n",
    "\n",
    "print l3"
   ]
  },
  {
   "cell_type": "markdown",
   "metadata": {},
   "source": [
    "함수 - 처음 입력 받은 리스트1을 total에 집어 넣어주고, 그 다음으로 입력 받은 리스트2에 '리스트 1에 없는 값'만을 찾아 넣어준다. 이후 sor 내장함수를 이용해 정리후 return 해준다."
   ]
  },
  {
   "cell_type": "markdown",
   "metadata": {},
   "source": [
    "[오일러 프로젝트 4]\n",
    "\n",
    "\n",
    "앞에서부터 읽을 때나 뒤에서부터 읽을 때나 모양이 같은 수를 대칭수(palindrome)라고 부릅니다. 두 자리 수를 곱해 만들 수 있는 대칭수 중 가장 큰 수는 9009 (= 91 × 99) 입니다. 세 자리 수를 곱해 만들 수 있는 가장 큰 대칭수는 얼마입니까?\n"
   ]
  },
  {
   "cell_type": "code",
   "execution_count": 107,
   "metadata": {
    "collapsed": false
   },
   "outputs": [
    {
     "name": "stdout",
     "output_type": "stream",
     "text": [
      "906609\n"
     ]
    }
   ],
   "source": [
    "l = []\n",
    "\n",
    "for i in range(100, 1000):\n",
    "    for j in range(100,1000):\n",
    "        temp = i * j\n",
    "        stemp = str(temp)\n",
    "        \n",
    "        if stemp == stemp[::-1] :\n",
    "            temp = int(stemp)\n",
    "            l.append(temp)\n",
    "                     \n",
    "l.sort()\n",
    "sl = len(l)\n",
    "\n",
    "print l[sl-1]   "
   ]
  },
  {
   "cell_type": "markdown",
   "metadata": {},
   "source": [
    "이중 for문을 이용하여 곱셈의 값을 temp에 넣어주고, 이를 문자열로 형변환 시켜준 것을 stemp에 넣어준다. 이후 if문을 이용하여 대칭임을 확인하면 l 리스트에 넣어주고, 이를 내장함수 sort()를 이용하여 정렬 후 리스트의 맨 마지막 값을 출력해준다."
   ]
  },
  {
   "cell_type": "markdown",
   "metadata": {},
   "source": [
    "\n",
    "\n",
    "[오일러 프로젝트5]\n",
    "1 ~ 10 사이의 어떤 수로도 나누어 떨어지는 가장 작은 수는 2520입니다. 그러면 1 ~ 20 사이의 어떤 수로도 나누어 떨어지는 가장 작은 수는 얼마입니까?\n"
   ]
  },
  {
   "cell_type": "code",
   "execution_count": 3,
   "metadata": {
    "collapsed": false
   },
   "outputs": [
    {
     "name": "stdout",
     "output_type": "stream",
     "text": [
      "232792560\n"
     ]
    }
   ],
   "source": [
    "n = 21\n",
    "i = 1\n",
    "\n",
    "while(i < 21):\n",
    "    if n % i == 0:\n",
    "        if i == 20:\n",
    "            break     \n",
    "        i += 1\n",
    "        \n",
    "    else:\n",
    "        n += 1\n",
    "        i = 1\n",
    "        \n",
    "print n"
   ]
  },
  {
   "cell_type": "markdown",
   "metadata": {},
   "source": [
    "n % i == 0  (나누어 떨어진다.)  (i == 20임을 검사한 후, break를 걸어준다)  (i != 20이면, i 값을 증가시켜준다 - 다음 i로 나누어 떨어지는지)\n",
    "\n",
    "n % i != 0  (나누어 떨어지지 않는다.)  (다음 n 값으로 계산해준다.) (이와 같은 겨우, i는 1부터 다시 나누어주어야 한다.)"
   ]
  },
  {
   "cell_type": "markdown",
   "metadata": {},
   "source": [
    "[오일러 프로젝트 6]\n",
    "\n",
    "1부터 10까지 자연수를 각각 제곱해 더하면 다음과 같습니다 (제곱의 합).\n",
    "12 + 22 + ... + 102 = 385\n",
    "\n",
    "1부터 10을 먼저 더한 다음에 그 결과를 제곱하면 다음과 같습니다 (합의 제곱).\n",
    "(1 + 2 + ... + 10)2 = 552 = 3025\n",
    "\n",
    "따라서 1부터 10까지 자연수에 대해 \"합의 제곱\"과 \"제곱의 합\" 의 차이는 3025 - 385 = 2640 이 됩니다. 그러면 1부터 100까지 자연수에 대해 \"합의 제곱\"과 \"제곱의 합\"의 차이는 얼마입니까?\n"
   ]
  },
  {
   "cell_type": "code",
   "execution_count": 7,
   "metadata": {
    "collapsed": false
   },
   "outputs": [
    {
     "name": "stdout",
     "output_type": "stream",
     "text": [
      "제곱의 합\n",
      "338350\n",
      "합의 제곱\n",
      "25502500\n",
      "'합의 제곱'과 '제곱의 합'의 차이\n",
      "25164150\n"
     ]
    }
   ],
   "source": [
    "print \"제곱의 합\"\n",
    "a = 0\n",
    "for i in range(1, 101):\n",
    "    a += pow(i,2)\n",
    "    \n",
    "print a\n",
    "\n",
    "print \"합의 제곱\"\n",
    "b = 0\n",
    "for i in range(1, 101):\n",
    "    b += i\n",
    "\n",
    "b = pow(b,2)\n",
    "\n",
    "print b\n",
    "\n",
    "print \"'합의 제곱'과 '제곱의 합'의 차이\"\n",
    "print b - a"
   ]
  },
  {
   "cell_type": "markdown",
   "metadata": {},
   "source": [
    "range()함수와 pow()함수를 이용해 주면 된다."
   ]
  },
  {
   "cell_type": "markdown",
   "metadata": {},
   "source": [
    "\n",
    "[Incremental Project] 웹 URL로 지정된 웹페이지를 문자열로 가져와 1) 모든 HTML 태그를 제외한 순수 텍스트 문자열만을 걸러내고, 2) 그 순수 텍스트 문자열 안에 존재하는 단어가 총 몇개인지 출력하는 프로그램을 작성하시오.  \n",
    "\n",
    " \n",
    "\n",
    "▶ HTML 태그는 다음 조건을 가지는 것이다.\n",
    "\n",
    "▷ < 로 시작하여 >로 끝난다.\n",
    "\n",
    "▷ 예를 들어, 아래와 같은 HTML 내용 내에 한 줄이 있다고 가정하자.\n",
    "\n",
    "<label for=\"keep_signed\"> 로그인 유지</label>▷ 위 소스에서 HTML 태그를 제외한 순수 텍스트 문자열은 아래와 같다.\n",
    "\n",
    "로그인 유지▷ 한편, 아래와 같은 HTML 한 줄이 있다고 가정하자.\n",
    "\n",
    "<link rel=\"stylesheet\" href=\"/common/css/xe.min.css?20150910092654\" /> ▷ 위 소스는 HTML 태그로만 구성된 것이며 걸러낼 수 있는 순수 텍스 문자열은 존재하지 않는다.\n",
    "\n",
    " \n",
    "\n",
    "▶ 단어를 나누는 기준은 오로지 공백문자 (whitespace)이다.\n",
    "\n",
    "▷ 즉, 위 순수 텍스트 문자열인 \"로그인 유지\"에서 분리한 단어는 \"로그인\"과 \"유지\"이다.\n",
    "\n",
    "▶ 다음은 URL로 지정된 웹페이지를 특정 문자열로 가져오는 코드이다. \n",
    "\n",
    "▷ 즉, 숙제 코드는 아래 링크를 참조 해야한다.\n",
    "\n",
    " \n",
    "\n",
    "http://nbviewer.ipython.org/github/bluebibi/python-e-learning/blob/master/assignment-2.ipynb\n"
   ]
  },
  {
   "cell_type": "code",
   "execution_count": 3,
   "metadata": {
    "collapsed": false,
    "scrolled": true
   },
   "outputs": [
    {
     "name": "stdout",
     "output_type": "stream",
     "text": [
      "컴퓨터공학부 // Schoolfun - Study and Fun --> 로그인 로그인 아이디 비밀번호 로그인 유지 브라우저를 닫더라도 로그인이 계속 유지될 수 있습니다. 로그인 유지 기능을 사용할 경우 다음 접속부터는 로그인할 필요가 없습니다. 단, 게임방, 학교 등 공공장소에서 이용 시 개인정보가 유출될 수 있으니 꼭 로그아웃을 해주세요. 회원가입 ID/PW 찾기 IT 교육의 글로벌 메카!한국기술교육대학교 컴퓨터공학부 Close 소개 구성원소개 학사안내 입학 학부 대학원 학부광장 자료실 대학원 공학교육인증 Registration 컴퓨터공학부 School of Computer Science and Engineering IT 융합소프트웨어 인력양성사업 CK (Creative Korea)-I 교육역량강화사업 온라인 컨텐츠 Online Contents for Education Capability Empowerment IT 교육의 글로벌 메카 한국기술교육대학교 컴퓨터공학부 홈페이지에 오신 것을환영합니다! IT 융합소프트웨어 인력양성사업 글로벌 수준의 IT전문인력 양성 IT융합분야에 대한 국제적인 경쟁력 고취 바로가기 교육역량강화사업 컨텐츠 교육역량강화사업 온라인 컨텐츠를 소개합니다. 바로가기 공지사항 [특성화] 토익, 오픽 강좌 수요조사 공고 2015-10-06 16:41 16:41 [특성화] IT융합 개도국 해외기술지원봉사 참가자 모집... 2015-10-05 16:38 16:38 [특성화] 장비대여 안내 2015-10-05 15:28 15:28 제4회 TOPCIT 정기평가 2015-10-05 14:56 14:56 [특성화] 국제게임전시회 G-star 2015 참관 안내 2015-10-05 11:51 11:51 자유게시판 (주) 엔에스이 에서 개발자를 모집합니다. 2015-09-30 13:30 13:30 졸업작품 전시회 컴퓨터공학부 인기상 투표 이벤트 2015-09-25 01:21 01:21 삼성 대학생 프로그래밍 경진대회 2015-09-15 11:17 11:17 2015년 4차 모의토익 지원 2015-09-09 23:34 23:34 난 괜찮아, 돌아가면 되지~ 2015-09-09 15:51 15:51 취업게시판 [특성화] (주)KMW 인턴사원 모집공고 2015-09-23 14:31 14:31 ㈜인젠트 기술연구소 전문연구요원 모집 2015-09-14 11:54 11:54 펜타인 2015년도 신입사원 채용공고 2015-09-03 16:16 16:16 LIG인베니아 (코스닥상장 LIG그룹사 디스플레이장비전... 2015-09-03 14:01 14:01 ㈜ 한울 소프트웨어 개발자 2015-06-18 10:28 10:28 VENTURESQUARE ‘앱’은 발 빠른 신기술 도입과 유니버설 디자인, ‘게임... 2015-10-07 16:53 16:53 독자가 만드는 오가닉 미디어, 두 번째 여행을 시작합니다 2015-10-07 15:55 15:55 AWS 리인벤트 2015 행사, “글로벌 파트너 네트워크 강... 2015-10-07 14:45 14:45 아카마이, 2015년 2분기 인터넷 보안 현황 보고서 발표 2015-10-07 14:01 14:01 [실리콘밸리 비하인드 스토리 #5] 조금은 늦은 버닝맨 ... 2015-10-07 14:00 14:00 전자신문 케이블TV, `N스크린 서비스`로 승부수···전용 앱 출시 ... 2015-10-07 18:00 18:00 [이슈분석]삼성전자 IM부문 웃지 못했다···4분기도 녹... 2015-10-07 18:00 18:00 쏠리드 컨소시엄, 팬택 인수 9부능선 넘는다···8일 잔... 2015-10-07 17:00 17:00 LG전자,‘LG V10’ 국내 판매 시작 2015-10-07 16:37 16:37 [알림]내년 공공정보화 사업을 미리 대비하려면? 11월6... 2015-10-07 15:55 15:55 RE/CODE Samsung Predicts First Quarterly Profit Growth... 2015-10-07 12:44 12:44 Pandora Appears Close to a $450 Million Deal f... 2015-10-07 12:25 12:25 Elon to Jack: ‘I Wouldn’t Recommend Running Tw... 2015-10-07 10:16 10:16 Elon Musk: Self-Driving Cars Are Coming Sooner... 2015-10-07 10:15 10:15 Here Is Bradley Cooper Discovering Virtual Rea... 2015-10-07 08:57 08:57 Back to Top Leading Together for Brighter Future --> Quick Navigation 한국기술교육대학교 홈페이지 한국기술교육대학교 WEBMAIL 한국기술교육대학교 온라인 평생교육원 교육역량강화사업 온라인 컨텐츠 컴퓨터공학부 포트폴리오--> IT 융합소프트웨어 인력양성사업 Campus Location Contact CSE 충청남도 천안시 동남구 병천면 충절로 1600한국기술교육대학교 컴퓨터공학부 학과사무실 TEL (041) 560 1460~1461 FAX (041) 560 1462 Facebook Twitter Google Plus Linkedin Youtube Flickr--> (31253) 충청남도 천안시 동남구 병천면 충절로 1600 (가전리, 한국기술교육대학교) 컴퓨터공학부 Copyright © 2015. All rights\n",
      "문장 수 :  455\n"
     ]
    }
   ],
   "source": [
    "import urllib2\n",
    "\n",
    "source = urllib2.urlopen(\"http://cse.kut.ac.kr/\").read()\n",
    "source2 = \"\"\n",
    "i = 0\n",
    "\n",
    "while i < len(source):\n",
    "    if source[i] == '<':\n",
    "        while True:\n",
    "            i += 1\n",
    "            if source[i] == '>':\n",
    "                break\n",
    "  \n",
    "    else:\n",
    "        source2 +=  source[i]\n",
    "        #print source[i],\n",
    "    i += 1\n",
    "    \n",
    "L = source2.split()\n",
    "\n",
    "for k in range(0, len(L)-1):\n",
    "    print L[k],\n",
    "    \n",
    "print\n",
    "print '문장 수 : ',\n",
    "print len(L)"
   ]
  },
  {
   "cell_type": "code",
   "execution_count": null,
   "metadata": {
    "collapsed": false
   },
   "outputs": [],
   "source": []
  },
  {
   "cell_type": "code",
   "execution_count": null,
   "metadata": {
    "collapsed": true
   },
   "outputs": [],
   "source": []
  }
 ],
 "metadata": {
  "kernelspec": {
   "display_name": "Python 2",
   "language": "python",
   "name": "python2"
  },
  "language_info": {
   "codemirror_mode": {
    "name": "ipython",
    "version": 2
   },
   "file_extension": ".py",
   "mimetype": "text/x-python",
   "name": "python",
   "nbconvert_exporter": "python",
   "pygments_lexer": "ipython2",
   "version": "2.7.9"
  }
 },
 "nbformat": 4,
 "nbformat_minor": 0
}
